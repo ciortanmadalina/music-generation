{
 "cells": [
  {
   "cell_type": "code",
   "execution_count": 1,
   "metadata": {},
   "outputs": [
    {
     "name": "stderr",
     "output_type": "stream",
     "text": [
      "Using TensorFlow backend.\n"
     ]
    }
   ],
   "source": [
    "from music21 import converter, instrument, note, chord, midi\n",
    "import glob\n",
    "\n",
    "import pandas as pd\n",
    "import numpy as np\n",
    "from numpy import newaxis\n",
    "\n",
    "import random\n",
    "import itertools\n",
    "\n",
    "import os\n",
    "from os import listdir\n",
    "from os.path import isfile\n",
    "import math\n",
    "\n",
    "import matplotlib.pyplot as plt\n",
    "import seaborn as sns\n",
    "import matplotlib.collections\n",
    "from matplotlib import gridspec\n",
    "\n",
    "import datetime\n",
    "from tqdm import *\n",
    "from datetime import *\n",
    "\n",
    "import keras\n",
    "from keras.applications import *\n",
    "import lightgbm as lgbm\n",
    "import os\n",
    "from scipy import ndimage\n",
    "from scipy import misc\n",
    "from scipy import signal\n",
    "import cv2\n",
    "plt.ion()\n",
    "plt.show()\n",
    "\n",
    "import keras\n",
    "from keras.preprocessing.image import ImageDataGenerator\n",
    "from keras.layers import Input, Dense, Lambda, Layer,Flatten, Conv2D, MaxPooling2D,UpSampling2D, concatenate, Dropout,Conv2DTranspose, LSTM\n",
    "from keras.models import Model, Sequential\n",
    "from keras import backend as K\n",
    "from keras import metrics\n",
    "from keras.models import load_model\n",
    "from keras.callbacks import EarlyStopping, ModelCheckpoint\n",
    "from keras.layers import Activation, Dense\n",
    "from music21 import instrument, note, stream, chord\n",
    "import shutil\n",
    "import collections\n",
    "from collections import *\n",
    "from keras import optimizers\n",
    "import tensorflow as tf\n",
    "from IPython.display import clear_output\n",
    "config = tf.ConfigProto()\n",
    "config.gpu_options.allow_growth=True\n",
    "sess = tf.Session(config=config)\n",
    "\n",
    "from sklearn.utils import class_weight\n",
    "from skimage.io import imread, imshow, imread_collection, concatenate_images\n",
    "from skimage.transform import resize\n",
    "from skimage.morphology import label\n",
    "from os.path import isfile, join\n",
    "from sklearn import preprocessing\n",
    "from keras.utils import to_categorical\n",
    "from sklearn.metrics import accuracy_score, classification_report,confusion_matrix\n",
    "from mpl_toolkits.axes_grid1 import ImageGrid\n",
    "from IPython.core.interactiveshell import InteractiveShell\n",
    "InteractiveShell.ast_node_interactivity = \"all\"\n",
    "\n",
    "config = tf.ConfigProto()\n",
    "config.gpu_options.allow_growth=True\n",
    "sess = tf.Session(config=config)\n",
    "from keras.preprocessing import image\n",
    "from keras.applications.inception_v3 import InceptionV3\n",
    "from keras.preprocessing import image\n",
    "from keras.models import Model\n",
    "from keras.layers import Dense, GlobalAveragePooling2D\n",
    "from keras import backend as K\n",
    "from skimage import morphology\n",
    "from keras.utils import np_utils\n",
    "\n",
    "from skimage import filters\n",
    "import matplotlib.pyplot as plt\n",
    "from scipy import ndimage as ndi"
   ]
  },
  {
   "cell_type": "markdown",
   "metadata": {},
   "source": [
    "https://towardsdatascience.com/how-to-generate-music-using-a-lstm-neural-network-in-keras-68786834d4c5"
   ]
  },
  {
   "cell_type": "code",
   "execution_count": 4,
   "metadata": {},
   "outputs": [],
   "source": [
    "def printChord(c):\n",
    "    print([x.nameWithOctave for x in c.pitches])\n",
    "    print('PitchedCommonName: %s, root %s, intervalVector %s, normalOrder % ' % \n",
    "          (c.pitchedCommonName, c.root(), c.intervalVector, c.normalOrder))\n",
    "    c.show()\n",
    "    \n",
    "def printNote(f):\n",
    "    \n",
    "    if f.name == 'rest':\n",
    "        st = f.name\n",
    "    else:\n",
    "        st = f.name + str(f.step) + ' ' + str(f.octave) + ' ' +  str(f.pitch.french) + ' ' + str(f.pitch) + ' ' + str(f.pitch.frequency)\n",
    "        if f.pitch.accidental:\n",
    "            st = st + ' ' + f.pitch.accidental.name + ' -extra semi-tones:' + f.pitch.accidental.alter\n",
    "#     print(st)\n",
    "    f.addLyric(st)\n",
    "    return f.show()\n",
    "\n",
    "def printPitch(p):\n",
    "    print(p, p.nameWithOctave, p.french, p.octave, p.frequency)\n",
    "    if p.accidental:\n",
    "        print(p.accidental, p.accidental.name, '-extra semi-tones: ',p.accidental.alter)"
   ]
  },
  {
   "cell_type": "code",
   "execution_count": 6,
   "metadata": {},
   "outputs": [
    {
     "data": {
      "text/plain": [
       "<matplotlib.figure.Figure at 0x12534f4f080>"
      ]
     },
     "metadata": {},
     "output_type": "display_data"
    }
   ],
   "source": [
    "from IPython.display import clear_output\n",
    "\n",
    "class PlotLosses(keras.callbacks.Callback):\n",
    "    def __init__(self):\n",
    "        self.initVars()\n",
    "    \n",
    "    def initVars(self):\n",
    "        self.i = 0\n",
    "        self.x = []\n",
    "        self.losses = []\n",
    "        self.val_losses = [] # self validation\n",
    "        self.fig = plt.figure()\n",
    "        self.logs = []\n",
    "        self.lr = []\n",
    "        \n",
    "    def on_train_begin(self, logs={}):\n",
    "        ;\n",
    "#         self.initVars()\n",
    "\n",
    "    def on_epoch_end(self, epoch, logs={}):\n",
    "        \n",
    "        curloss = logs.get('loss')\n",
    "        self.losses.append(curloss)\n",
    "        self.val_losses.append(logs.get('val_loss'))\n",
    "        self.logs.append(logs)\n",
    "        self.i = self.i+1\n",
    "        \n",
    "        if self.i%5 != 0:\n",
    "            return\n",
    "        clear_output(wait=True)\n",
    "        plt.figure(figsize=(6,6))\n",
    "        ax = plt.figure(111)\n",
    "        self.plotLosses(ax)\n",
    "        plt.show()\n",
    "\n",
    "    def plotLosses(self, ax):\n",
    "        plt.plot(np.arange(len(self.losses)), self.losses, label=\"train loss\")\n",
    "        plt.plot(np.arange(len(self.val_losses)), self.val_losses, label=\"val loss\")\n",
    "        # ax.set_yscale(\"log\", nonposy='clip')\n",
    "        plt.legend()\n",
    "        \n",
    "basicLossPlot = PlotLosses()"
   ]
  },
  {
   "cell_type": "code",
   "execution_count": 7,
   "metadata": {
    "collapsed": true
   },
   "outputs": [],
   "source": [
    "from music21 import corpus"
   ]
  },
  {
   "cell_type": "code",
   "execution_count": 32,
   "metadata": {},
   "outputs": [
    {
     "name": "stderr",
     "output_type": "stream",
     "text": [
      "100%|████████████████████████████████████████████████████████████████████████████████| 403/403 [01:15<00:00,  4.48it/s]\n"
     ]
    },
    {
     "data": {
      "text/plain": [
       "(128046, 2)"
      ]
     },
     "execution_count": 32,
     "metadata": {},
     "output_type": "execute_result"
    }
   ],
   "source": [
    "notes = []\n",
    "count = 0\n",
    "for i in tqdm(corpus.getComposer('bach', 'mxl')):\n",
    "    s = corpus.parse(i)\n",
    "    lastwasrest = False\n",
    "#     print('parts ', len(s.parts))\n",
    "    for p in s.parts:\n",
    "#         print('notesAndRests ', len(p.recurse().notesAndRests))\n",
    "        for element in p.recurse().notesAndRests:\n",
    "#             print('element : ', element, end='')\n",
    "            duration = int(element.duration.quarterLength *4)\n",
    "            duration = min(16,max(1,duration)) # don't want longer than whole or shorter than 16th\n",
    "            ch = ''\n",
    "            if isinstance(element, note.Rest):\n",
    "                nn = 0\n",
    "                if lastwasrest == True:\n",
    "                    continue # no need for multiple rests in this scenario\n",
    "                lastwasrest = True\n",
    "            elif isinstance(element, note.Note):\n",
    "                lastwasrest = False\n",
    "                nn = int(element.pitch.midi)+0\n",
    "            elif isinstance(element, chord.Chord):\n",
    "                lastwasrest = False\n",
    "                nn = int(element.root().midi)+0\n",
    "                ch = '.'.join(element.intervalVectorString) # only add the extra notes as delta\n",
    "\n",
    "    #         notes.append(nn)\n",
    "    #         notes.append([int(nn), int(duration), ch])\n",
    "            notes.append([int(nn), int(duration)])\n",
    "#     print('.', end='')\n",
    "    count = count+1\n",
    "#     if count == 10:\n",
    "#         break\n",
    "notes = np.vstack(notes)\n",
    "notes.shape"
   ]
  },
  {
   "cell_type": "code",
   "execution_count": 33,
   "metadata": {},
   "outputs": [
    {
     "data": {
      "text/plain": [
       "array([ 0, 36, 37, 38, 39, 40, 41, 42, 43, 44, 45, 46, 47, 48, 49, 50, 51,\n",
       "       52, 53, 54, 55, 56, 57, 58, 59, 60, 61, 62, 63, 64, 65, 66, 67, 68,\n",
       "       69, 70, 71, 72, 73, 74, 75, 76, 77, 78, 79, 80, 81, 82, 83, 84, 85,\n",
       "       86, 88])"
      ]
     },
     "execution_count": 33,
     "metadata": {},
     "output_type": "execute_result"
    }
   ],
   "source": [
    "np.unique(notes.T[0])"
   ]
  },
  {
   "cell_type": "code",
   "execution_count": 34,
   "metadata": {
    "collapsed": true
   },
   "outputs": [],
   "source": [
    "sequence_length = 100\n",
    "n_vocab = 128\n",
    "n_duration = 16"
   ]
  },
  {
   "cell_type": "code",
   "execution_count": 36,
   "metadata": {},
   "outputs": [
    {
     "ename": "IndexError",
     "evalue": "index 2 is out of bounds for axis 1 with size 2",
     "output_type": "error",
     "traceback": [
      "\u001b[1;31m---------------------------------------------------------------------------\u001b[0m",
      "\u001b[1;31mIndexError\u001b[0m                                Traceback (most recent call last)",
      "\u001b[1;32m<ipython-input-36-dfc06911f09b>\u001b[0m in \u001b[0;36m<module>\u001b[1;34m()\u001b[0m\n\u001b[1;32m----> 1\u001b[1;33m \u001b[0mchordlist\u001b[0m \u001b[1;33m=\u001b[0m \u001b[0mnp\u001b[0m\u001b[1;33m.\u001b[0m\u001b[0munique\u001b[0m\u001b[1;33m(\u001b[0m\u001b[0mnotes\u001b[0m\u001b[1;33m[\u001b[0m\u001b[1;33m:\u001b[0m\u001b[1;33m,\u001b[0m\u001b[1;36m2\u001b[0m\u001b[1;33m]\u001b[0m\u001b[1;33m)\u001b[0m\u001b[1;33m\u001b[0m\u001b[0m\n\u001b[0m\u001b[0;32m      2\u001b[0m \u001b[0mchordlist\u001b[0m\u001b[1;33m\u001b[0m\u001b[0m\n",
      "\u001b[1;31mIndexError\u001b[0m: index 2 is out of bounds for axis 1 with size 2"
     ]
    }
   ],
   "source": [
    "chordlist = np.unique(notes[:,2])\n",
    "chordlist"
   ]
  },
  {
   "cell_type": "code",
   "execution_count": 46,
   "metadata": {},
   "outputs": [
    {
     "data": {
      "text/plain": [
       "array([65, 67, 60, ..., 43, 50, 43])"
      ]
     },
     "execution_count": 46,
     "metadata": {},
     "output_type": "execute_result"
    }
   ],
   "source": [
    "notes[:,0]"
   ]
  },
  {
   "cell_type": "code",
   "execution_count": 52,
   "metadata": {},
   "outputs": [
    {
     "data": {
      "text/plain": [
       "(array([ 0.,  1.]), array([18182532,   256092], dtype=int64))"
      ]
     },
     "execution_count": 52,
     "metadata": {},
     "output_type": "execute_result"
    },
    {
     "data": {
      "text/plain": [
       "(128046, 144)"
      ]
     },
     "execution_count": 52,
     "metadata": {},
     "output_type": "execute_result"
    },
    {
     "data": {
      "text/plain": [
       "array([ 0.,  0.,  0.,  0.,  0.,  0.,  0.,  0.,  0.,  0.,  0.,  0.,  0.,\n",
       "        0.,  0.,  0.,  0.,  0.,  0.,  0.,  0.,  0.,  0.,  0.,  0.,  0.,\n",
       "        0.,  0.,  0.,  0.,  0.,  0.,  0.,  0.,  0.,  0.,  0.,  0.,  0.,\n",
       "        0.,  0.,  0.,  0.,  0.,  0.,  0.,  0.,  0.,  0.,  0.,  0.,  0.,\n",
       "        0.,  0.,  0.,  0.,  0.,  0.,  0.,  0.,  0.,  0.,  0.,  0.,  0.,\n",
       "        1.,  0.,  0.,  0.,  0.,  0.,  0.,  0.,  0.,  0.,  0.,  0.,  0.,\n",
       "        0.,  0.,  0.,  0.,  0.,  0.,  0.,  0.,  0.,  0.,  0.,  0.,  0.,\n",
       "        0.,  0.,  0.,  0.,  0.,  0.,  0.,  0.,  0.,  0.,  0.,  0.,  0.,\n",
       "        0.,  0.,  0.,  0.,  0.,  0.,  0.,  0.,  0.,  0.,  0.,  0.,  0.,\n",
       "        0.,  0.,  0.,  0.,  0.,  0.,  0.,  0.,  0.,  0.,  0.,  0.,  0.,\n",
       "        0.,  1.,  0.,  0.,  0.,  0.,  0.,  0.,  0.,  0.,  0.,  0.,  0.,  0.])"
      ]
     },
     "execution_count": 52,
     "metadata": {},
     "output_type": "execute_result"
    }
   ],
   "source": [
    "nn_inout = np.zeros((len(notes), n_vocab+n_duration))\n",
    "\n",
    "nn_inout[np.arange(len(notes)),notes[:,0]] = 1\n",
    "nn_inout[np.arange(len(notes)),n_vocab+notes[:,1]-1] = 1\n",
    "\n",
    "np.unique(nn_inout, return_counts=True)\n",
    "\n",
    "nn_inout.shape\n",
    "nn_inout[0]"
   ]
  },
  {
   "cell_type": "markdown",
   "metadata": {},
   "source": [
    "# Second Model, PC"
   ]
  },
  {
   "cell_type": "code",
   "execution_count": 53,
   "metadata": {
    "collapsed": true
   },
   "outputs": [],
   "source": [
    "lookback = 32"
   ]
  },
  {
   "cell_type": "code",
   "execution_count": 54,
   "metadata": {
    "collapsed": true
   },
   "outputs": [],
   "source": [
    "from keras.layers import Concatenate"
   ]
  },
  {
   "cell_type": "code",
   "execution_count": 55,
   "metadata": {},
   "outputs": [
    {
     "name": "stdout",
     "output_type": "stream",
     "text": [
      "____________________________________________________________________________________________________\n",
      "Layer (type)                     Output Shape          Param #     Connected to                     \n",
      "====================================================================================================\n",
      "input_1 (InputLayer)             (None, 32, 144)       0                                            \n",
      "____________________________________________________________________________________________________\n",
      "lstm_1 (LSTM)                    (None, 32, 256)       410624      input_1[0][0]                    \n",
      "____________________________________________________________________________________________________\n",
      "dropout_1 (Dropout)              (None, 32, 256)       0           lstm_1[0][0]                     \n",
      "____________________________________________________________________________________________________\n",
      "lstm_2 (LSTM)                    (None, 32, 512)       1574912     dropout_1[0][0]                  \n",
      "____________________________________________________________________________________________________\n",
      "dropout_2 (Dropout)              (None, 32, 512)       0           lstm_2[0][0]                     \n",
      "____________________________________________________________________________________________________\n",
      "lstm_3 (LSTM)                    (None, 256)           787456      dropout_2[0][0]                  \n",
      "____________________________________________________________________________________________________\n",
      "dropout_3 (Dropout)              (None, 256)           0           lstm_3[0][0]                     \n",
      "____________________________________________________________________________________________________\n",
      "dense_1 (Dense)                  (None, 144)           37008       dropout_3[0][0]                  \n",
      "____________________________________________________________________________________________________\n",
      "lambda_1 (Lambda)                (None, 128)           0           dense_1[0][0]                    \n",
      "____________________________________________________________________________________________________\n",
      "lambda_2 (Lambda)                (None, 16)            0           dense_1[0][0]                    \n",
      "____________________________________________________________________________________________________\n",
      "activation_1 (Activation)        (None, 128)           0           lambda_1[0][0]                   \n",
      "____________________________________________________________________________________________________\n",
      "activation_2 (Activation)        (None, 16)            0           lambda_2[0][0]                   \n",
      "____________________________________________________________________________________________________\n",
      "concatenate_1 (Concatenate)      (None, 144)           0           activation_1[0][0]               \n",
      "                                                                   activation_2[0][0]               \n",
      "====================================================================================================\n",
      "Total params: 2,810,000\n",
      "Trainable params: 2,810,000\n",
      "Non-trainable params: 0\n",
      "____________________________________________________________________________________________________\n"
     ]
    }
   ],
   "source": [
    "inp = Input(shape=(lookback,nn_inout.shape[1],))\n",
    "x = LSTM(256, return_sequences=True)(inp)\n",
    "x = Dropout(0.3)(x)\n",
    "x = LSTM(512, return_sequences=True)(x)\n",
    "x = Dropout(0.3)(x)\n",
    "x = LSTM(256)(x)\n",
    "x = Dropout(0.3)(x)\n",
    "x = Dense(nn_inout.shape[1])(x)\n",
    "a1 = Activation('softmax')(Lambda(lambda z : z[:,:n_vocab])(x)) # notes\n",
    "a2 = Activation('softmax')(Lambda(lambda z : z[:,n_vocab:])(x)) # duration\n",
    "x= concatenate([a1,a2])\n",
    "model = Model(inputs=inp, outputs=x)\n",
    "model.compile(loss='binary_crossentropy', optimizer='rmsprop')\n",
    "model.summary()"
   ]
  },
  {
   "cell_type": "code",
   "execution_count": 76,
   "metadata": {},
   "outputs": [
    {
     "name": "stdout",
     "output_type": "stream",
     "text": [
      "all data (128046, 144)\n",
      "lookback 32\n",
      "train (128014, 144)\n",
      "to predict (128014, 144)\n"
     ]
    }
   ],
   "source": [
    "print('all data', nn_inout.shape)\n",
    "print('lookback', lookback)\n",
    "print('train', nn_inout[:-lookback].shape)\n",
    "print('to predict', nn_inout[lookback:].shape)"
   ]
  },
  {
   "cell_type": "code",
   "execution_count": 74,
   "metadata": {},
   "outputs": [
    {
     "data": {
      "text/plain": [
       "14"
      ]
     },
     "execution_count": 74,
     "metadata": {},
     "output_type": "execute_result"
    }
   ],
   "source": [
    "128046 % 32"
   ]
  },
  {
   "cell_type": "code",
   "execution_count": 65,
   "metadata": {},
   "outputs": [
    {
     "data": {
      "text/plain": [
       "[[1, 2], [3, 4]]"
      ]
     },
     "execution_count": 65,
     "metadata": {},
     "output_type": "execute_result"
    },
    {
     "data": {
      "text/plain": [
       "array([[0, 0, 0, 0, 0, 0, 0, 0, 0],\n",
       "       [0, 0, 0, 1, 2, 0, 0, 0, 0],\n",
       "       [0, 0, 0, 3, 4, 0, 0, 0, 0],\n",
       "       [0, 0, 0, 0, 0, 0, 0, 0, 0],\n",
       "       [0, 0, 0, 0, 0, 0, 0, 0, 0]])"
      ]
     },
     "execution_count": 65,
     "metadata": {},
     "output_type": "execute_result"
    }
   ],
   "source": [
    "a = [[1, 2], [3, 4]]\n",
    "a\n",
    "np.pad(a, ((1, 2), (3, 4)), 'constant', constant_values=(0))"
   ]
  },
  {
   "cell_type": "code",
   "execution_count": 59,
   "metadata": {},
   "outputs": [
    {
     "data": {
      "text/plain": [
       "(0, 18)"
      ]
     },
     "execution_count": 59,
     "metadata": {},
     "output_type": "execute_result"
    }
   ],
   "source": [
    "# nn_inout.shape\n",
    "(0,lookback-nn_inout.shape[0]%lookback)"
   ]
  },
  {
   "cell_type": "code",
   "execution_count": 79,
   "metadata": {},
   "outputs": [
    {
     "data": {
      "text/plain": [
       "(128064, 144)"
      ]
     },
     "execution_count": 79,
     "metadata": {},
     "output_type": "execute_result"
    },
    {
     "data": {
      "text/plain": [
       "(4002, 32, 144)"
      ]
     },
     "execution_count": 79,
     "metadata": {},
     "output_type": "execute_result"
    }
   ],
   "source": [
    "# Add '0' at the end to make sure it fits blocks of 32\n",
    "nn_inout2 = np.pad(nn_inout,((0,lookback-nn_inout.shape[0]%lookback),(0,0)), 'constant', constant_values=(0))\n",
    "nn_inout2.shape\n",
    "nn_inout2 = nn_inout2.reshape(-1, lookback, 144)\n",
    "nn_inout2.shape\n"
   ]
  },
  {
   "cell_type": "code",
   "execution_count": null,
   "metadata": {
    "collapsed": true
   },
   "outputs": [],
   "source": []
  },
  {
   "cell_type": "code",
   "execution_count": 71,
   "metadata": {},
   "outputs": [
    {
     "name": "stdout",
     "output_type": "stream",
     "text": [
      "ambitus: 21\n"
     ]
    }
   ],
   "source": [
    "# check what the training data is compared to the thing to predict\n",
    "i = 43\n",
    "ss = predtostream(nn_inout2[i,:,:])\n",
    "nn = predbitfieldtonote(nn_inout2[i+1,0,:])\n",
    "nn.color = 'red'\n",
    "ss.append(nn)\n",
    "ss.show()\n",
    "print('ambitus:', ss.analyze('ambitus').semitones)"
   ]
  },
  {
   "cell_type": "code",
   "execution_count": 72,
   "metadata": {},
   "outputs": [
    {
     "data": {
      "text/plain": [
       "<matplotlib.figure.Figure at 0x1253648fa90>"
      ]
     },
     "metadata": {},
     "output_type": "display_data"
    }
   ],
   "source": [
    "basicLossPlot = PlotLosses()\n"
   ]
  },
  {
   "cell_type": "code",
   "execution_count": 81,
   "metadata": {},
   "outputs": [
    {
     "data": {
      "text/plain": [
       "(4001, 32, 144)"
      ]
     },
     "execution_count": 81,
     "metadata": {},
     "output_type": "execute_result"
    },
    {
     "data": {
      "text/plain": [
       "(4001, 144)"
      ]
     },
     "execution_count": 81,
     "metadata": {},
     "output_type": "execute_result"
    }
   ],
   "source": [
    "nn_inout2[:-1,:,:].shape\n",
    "nn_inout2[1:,0,:].shape"
   ]
  },
  {
   "cell_type": "code",
   "execution_count": 434,
   "metadata": {
    "scrolled": true
   },
   "outputs": [
    {
     "data": {
      "text/plain": [
       "<matplotlib.figure.Figure at 0x7f349b29ba90>"
      ]
     },
     "metadata": {},
     "output_type": "display_data"
    },
    {
     "data": {
      "image/png": "[encoded data removed]",
      "text/plain": [
       "<matplotlib.figure.Figure at 0x7f35abaf24a8>"
      ]
     },
     "metadata": {
      "image/png": {
       "height": 250,
       "width": 380
      }
     },
     "output_type": "display_data"
    },
    {
     "name": "stdout",
     "output_type": "stream",
     "text": [
      "20174/20174 [==============================] - 3s - loss: 0.0013     \n",
      "Epoch 191/2000\n",
      "20174/20174 [==============================] - 3s - loss: 0.0013     \n",
      "Epoch 192/2000\n",
      " 3072/20174 [===>..........................] - ETA: 3s - loss: 0.0013"
     ]
    },
    {
     "ename": "KeyboardInterrupt",
     "evalue": "",
     "output_type": "error",
     "traceback": [
      "\u001b[0;31m---------------------------------------------------------------------------\u001b[0m",
      "\u001b[0;31mKeyboardInterrupt\u001b[0m                         Traceback (most recent call last)",
      "\u001b[0;32m<ipython-input-434-aeace257e147>\u001b[0m in \u001b[0;36m<module>\u001b[0;34m()\u001b[0m\n\u001b[0;32m----> 1\u001b[0;31m \u001b[0mmodel\u001b[0m\u001b[0;34m.\u001b[0m\u001b[0mfit\u001b[0m\u001b[0;34m(\u001b[0m\u001b[0mnn_inout2\u001b[0m\u001b[0;34m[\u001b[0m\u001b[0;34m:\u001b[0m\u001b[0;34m-\u001b[0m\u001b[0;36m1\u001b[0m\u001b[0;34m,\u001b[0m\u001b[0;34m:\u001b[0m\u001b[0;34m,\u001b[0m\u001b[0;34m:\u001b[0m\u001b[0;34m]\u001b[0m\u001b[0;34m,\u001b[0m \u001b[0mnn_inout2\u001b[0m\u001b[0;34m[\u001b[0m\u001b[0;36m1\u001b[0m\u001b[0;34m:\u001b[0m\u001b[0;34m,\u001b[0m\u001b[0;36m0\u001b[0m\u001b[0;34m,\u001b[0m\u001b[0;34m:\u001b[0m\u001b[0;34m]\u001b[0m\u001b[0;34m,\u001b[0m \u001b[0mepochs\u001b[0m\u001b[0;34m=\u001b[0m\u001b[0;36m2000\u001b[0m\u001b[0;34m,\u001b[0m \u001b[0mbatch_size\u001b[0m\u001b[0;34m=\u001b[0m\u001b[0;36m1024\u001b[0m\u001b[0;34m,\u001b[0m \u001b[0mcallbacks\u001b[0m\u001b[0;34m=\u001b[0m\u001b[0;34m[\u001b[0m\u001b[0mbasicLossPlot\u001b[0m\u001b[0;34m]\u001b[0m\u001b[0;34m)\u001b[0m\u001b[0;34m\u001b[0m\u001b[0m\n\u001b[0m",
      "\u001b[0;32m/opt/anaconda3/envs/astrohack/lib/python3.6/site-packages/keras/engine/training.py\u001b[0m in \u001b[0;36mfit\u001b[0;34m(self, x, y, batch_size, epochs, verbose, callbacks, validation_split, validation_data, shuffle, class_weight, sample_weight, initial_epoch, **kwargs)\u001b[0m\n\u001b[1;32m   1505\u001b[0m                               \u001b[0mval_f\u001b[0m\u001b[0;34m=\u001b[0m\u001b[0mval_f\u001b[0m\u001b[0;34m,\u001b[0m \u001b[0mval_ins\u001b[0m\u001b[0;34m=\u001b[0m\u001b[0mval_ins\u001b[0m\u001b[0;34m,\u001b[0m \u001b[0mshuffle\u001b[0m\u001b[0;34m=\u001b[0m\u001b[0mshuffle\u001b[0m\u001b[0;34m,\u001b[0m\u001b[0;34m\u001b[0m\u001b[0m\n\u001b[1;32m   1506\u001b[0m                               \u001b[0mcallback_metrics\u001b[0m\u001b[0;34m=\u001b[0m\u001b[0mcallback_metrics\u001b[0m\u001b[0;34m,\u001b[0m\u001b[0;34m\u001b[0m\u001b[0m\n\u001b[0;32m-> 1507\u001b[0;31m                               initial_epoch=initial_epoch)\n\u001b[0m\u001b[1;32m   1508\u001b[0m \u001b[0;34m\u001b[0m\u001b[0m\n\u001b[1;32m   1509\u001b[0m     \u001b[0;32mdef\u001b[0m \u001b[0mevaluate\u001b[0m\u001b[0;34m(\u001b[0m\u001b[0mself\u001b[0m\u001b[0;34m,\u001b[0m \u001b[0mx\u001b[0m\u001b[0;34m,\u001b[0m \u001b[0my\u001b[0m\u001b[0;34m,\u001b[0m \u001b[0mbatch_size\u001b[0m\u001b[0;34m=\u001b[0m\u001b[0;36m32\u001b[0m\u001b[0;34m,\u001b[0m \u001b[0mverbose\u001b[0m\u001b[0;34m=\u001b[0m\u001b[0;36m1\u001b[0m\u001b[0;34m,\u001b[0m \u001b[0msample_weight\u001b[0m\u001b[0;34m=\u001b[0m\u001b[0;32mNone\u001b[0m\u001b[0;34m)\u001b[0m\u001b[0;34m:\u001b[0m\u001b[0;34m\u001b[0m\u001b[0m\n",
      "\u001b[0;32m/opt/anaconda3/envs/astrohack/lib/python3.6/site-packages/keras/engine/training.py\u001b[0m in \u001b[0;36m_fit_loop\u001b[0;34m(self, f, ins, out_labels, batch_size, epochs, verbose, callbacks, val_f, val_ins, shuffle, callback_metrics, initial_epoch)\u001b[0m\n\u001b[1;32m   1154\u001b[0m                 \u001b[0mbatch_logs\u001b[0m\u001b[0;34m[\u001b[0m\u001b[0;34m'size'\u001b[0m\u001b[0;34m]\u001b[0m \u001b[0;34m=\u001b[0m \u001b[0mlen\u001b[0m\u001b[0;34m(\u001b[0m\u001b[0mbatch_ids\u001b[0m\u001b[0;34m)\u001b[0m\u001b[0;34m\u001b[0m\u001b[0m\n\u001b[1;32m   1155\u001b[0m                 \u001b[0mcallbacks\u001b[0m\u001b[0;34m.\u001b[0m\u001b[0mon_batch_begin\u001b[0m\u001b[0;34m(\u001b[0m\u001b[0mbatch_index\u001b[0m\u001b[0;34m,\u001b[0m \u001b[0mbatch_logs\u001b[0m\u001b[0;34m)\u001b[0m\u001b[0;34m\u001b[0m\u001b[0m\n\u001b[0;32m-> 1156\u001b[0;31m                 \u001b[0mouts\u001b[0m \u001b[0;34m=\u001b[0m \u001b[0mf\u001b[0m\u001b[0;34m(\u001b[0m\u001b[0mins_batch\u001b[0m\u001b[0;34m)\u001b[0m\u001b[0;34m\u001b[0m\u001b[0m\n\u001b[0m\u001b[1;32m   1157\u001b[0m                 \u001b[0;32mif\u001b[0m \u001b[0;32mnot\u001b[0m \u001b[0misinstance\u001b[0m\u001b[0;34m(\u001b[0m\u001b[0mouts\u001b[0m\u001b[0;34m,\u001b[0m \u001b[0mlist\u001b[0m\u001b[0;34m)\u001b[0m\u001b[0;34m:\u001b[0m\u001b[0;34m\u001b[0m\u001b[0m\n\u001b[1;32m   1158\u001b[0m                     \u001b[0mouts\u001b[0m \u001b[0;34m=\u001b[0m \u001b[0;34m[\u001b[0m\u001b[0mouts\u001b[0m\u001b[0;34m]\u001b[0m\u001b[0;34m\u001b[0m\u001b[0m\n",
      "\u001b[0;32m/opt/anaconda3/envs/astrohack/lib/python3.6/site-packages/keras/backend/tensorflow_backend.py\u001b[0m in \u001b[0;36m__call__\u001b[0;34m(self, inputs)\u001b[0m\n\u001b[1;32m   2267\u001b[0m         updated = session.run(self.outputs + [self.updates_op],\n\u001b[1;32m   2268\u001b[0m                               \u001b[0mfeed_dict\u001b[0m\u001b[0;34m=\u001b[0m\u001b[0mfeed_dict\u001b[0m\u001b[0;34m,\u001b[0m\u001b[0;34m\u001b[0m\u001b[0m\n\u001b[0;32m-> 2269\u001b[0;31m                               **self.session_kwargs)\n\u001b[0m\u001b[1;32m   2270\u001b[0m         \u001b[0;32mreturn\u001b[0m \u001b[0mupdated\u001b[0m\u001b[0;34m[\u001b[0m\u001b[0;34m:\u001b[0m\u001b[0mlen\u001b[0m\u001b[0;34m(\u001b[0m\u001b[0mself\u001b[0m\u001b[0;34m.\u001b[0m\u001b[0moutputs\u001b[0m\u001b[0;34m)\u001b[0m\u001b[0;34m]\u001b[0m\u001b[0;34m\u001b[0m\u001b[0m\n\u001b[1;32m   2271\u001b[0m \u001b[0;34m\u001b[0m\u001b[0m\n",
      "\u001b[0;32m/opt/anaconda3/envs/astrohack/lib/python3.6/site-packages/tensorflow/python/client/session.py\u001b[0m in \u001b[0;36mrun\u001b[0;34m(self, fetches, feed_dict, options, run_metadata)\u001b[0m\n\u001b[1;32m    887\u001b[0m     \u001b[0;32mtry\u001b[0m\u001b[0;34m:\u001b[0m\u001b[0;34m\u001b[0m\u001b[0m\n\u001b[1;32m    888\u001b[0m       result = self._run(None, fetches, feed_dict, options_ptr,\n\u001b[0;32m--> 889\u001b[0;31m                          run_metadata_ptr)\n\u001b[0m\u001b[1;32m    890\u001b[0m       \u001b[0;32mif\u001b[0m \u001b[0mrun_metadata\u001b[0m\u001b[0;34m:\u001b[0m\u001b[0;34m\u001b[0m\u001b[0m\n\u001b[1;32m    891\u001b[0m         \u001b[0mproto_data\u001b[0m \u001b[0;34m=\u001b[0m \u001b[0mtf_session\u001b[0m\u001b[0;34m.\u001b[0m\u001b[0mTF_GetBuffer\u001b[0m\u001b[0;34m(\u001b[0m\u001b[0mrun_metadata_ptr\u001b[0m\u001b[0;34m)\u001b[0m\u001b[0;34m\u001b[0m\u001b[0m\n",
      "\u001b[0;32m/opt/anaconda3/envs/astrohack/lib/python3.6/site-packages/tensorflow/python/client/session.py\u001b[0m in \u001b[0;36m_run\u001b[0;34m(self, handle, fetches, feed_dict, options, run_metadata)\u001b[0m\n\u001b[1;32m   1118\u001b[0m     \u001b[0;32mif\u001b[0m \u001b[0mfinal_fetches\u001b[0m \u001b[0;32mor\u001b[0m \u001b[0mfinal_targets\u001b[0m \u001b[0;32mor\u001b[0m \u001b[0;34m(\u001b[0m\u001b[0mhandle\u001b[0m \u001b[0;32mand\u001b[0m \u001b[0mfeed_dict_tensor\u001b[0m\u001b[0;34m)\u001b[0m\u001b[0;34m:\u001b[0m\u001b[0;34m\u001b[0m\u001b[0m\n\u001b[1;32m   1119\u001b[0m       results = self._do_run(handle, final_targets, final_fetches,\n\u001b[0;32m-> 1120\u001b[0;31m                              feed_dict_tensor, options, run_metadata)\n\u001b[0m\u001b[1;32m   1121\u001b[0m     \u001b[0;32melse\u001b[0m\u001b[0;34m:\u001b[0m\u001b[0;34m\u001b[0m\u001b[0m\n\u001b[1;32m   1122\u001b[0m       \u001b[0mresults\u001b[0m \u001b[0;34m=\u001b[0m \u001b[0;34m[\u001b[0m\u001b[0;34m]\u001b[0m\u001b[0;34m\u001b[0m\u001b[0m\n",
      "\u001b[0;32m/opt/anaconda3/envs/astrohack/lib/python3.6/site-packages/tensorflow/python/client/session.py\u001b[0m in \u001b[0;36m_do_run\u001b[0;34m(self, handle, target_list, fetch_list, feed_dict, options, run_metadata)\u001b[0m\n\u001b[1;32m   1315\u001b[0m     \u001b[0;32mif\u001b[0m \u001b[0mhandle\u001b[0m \u001b[0;32mis\u001b[0m \u001b[0;32mNone\u001b[0m\u001b[0;34m:\u001b[0m\u001b[0;34m\u001b[0m\u001b[0m\n\u001b[1;32m   1316\u001b[0m       return self._do_call(_run_fn, self._session, feeds, fetches, targets,\n\u001b[0;32m-> 1317\u001b[0;31m                            options, run_metadata)\n\u001b[0m\u001b[1;32m   1318\u001b[0m     \u001b[0;32melse\u001b[0m\u001b[0;34m:\u001b[0m\u001b[0;34m\u001b[0m\u001b[0m\n\u001b[1;32m   1319\u001b[0m       \u001b[0;32mreturn\u001b[0m \u001b[0mself\u001b[0m\u001b[0;34m.\u001b[0m\u001b[0m_do_call\u001b[0m\u001b[0;34m(\u001b[0m\u001b[0m_prun_fn\u001b[0m\u001b[0;34m,\u001b[0m \u001b[0mself\u001b[0m\u001b[0;34m.\u001b[0m\u001b[0m_session\u001b[0m\u001b[0;34m,\u001b[0m \u001b[0mhandle\u001b[0m\u001b[0;34m,\u001b[0m \u001b[0mfeeds\u001b[0m\u001b[0;34m,\u001b[0m \u001b[0mfetches\u001b[0m\u001b[0;34m)\u001b[0m\u001b[0;34m\u001b[0m\u001b[0m\n",
      "\u001b[0;32m/opt/anaconda3/envs/astrohack/lib/python3.6/site-packages/tensorflow/python/client/session.py\u001b[0m in \u001b[0;36m_do_call\u001b[0;34m(self, fn, *args)\u001b[0m\n\u001b[1;32m   1321\u001b[0m   \u001b[0;32mdef\u001b[0m \u001b[0m_do_call\u001b[0m\u001b[0;34m(\u001b[0m\u001b[0mself\u001b[0m\u001b[0;34m,\u001b[0m \u001b[0mfn\u001b[0m\u001b[0;34m,\u001b[0m \u001b[0;34m*\u001b[0m\u001b[0margs\u001b[0m\u001b[0;34m)\u001b[0m\u001b[0;34m:\u001b[0m\u001b[0;34m\u001b[0m\u001b[0m\n\u001b[1;32m   1322\u001b[0m     \u001b[0;32mtry\u001b[0m\u001b[0;34m:\u001b[0m\u001b[0;34m\u001b[0m\u001b[0m\n\u001b[0;32m-> 1323\u001b[0;31m       \u001b[0;32mreturn\u001b[0m \u001b[0mfn\u001b[0m\u001b[0;34m(\u001b[0m\u001b[0;34m*\u001b[0m\u001b[0margs\u001b[0m\u001b[0;34m)\u001b[0m\u001b[0;34m\u001b[0m\u001b[0m\n\u001b[0m\u001b[1;32m   1324\u001b[0m     \u001b[0;32mexcept\u001b[0m \u001b[0merrors\u001b[0m\u001b[0;34m.\u001b[0m\u001b[0mOpError\u001b[0m \u001b[0;32mas\u001b[0m \u001b[0me\u001b[0m\u001b[0;34m:\u001b[0m\u001b[0;34m\u001b[0m\u001b[0m\n\u001b[1;32m   1325\u001b[0m       \u001b[0mmessage\u001b[0m \u001b[0;34m=\u001b[0m \u001b[0mcompat\u001b[0m\u001b[0;34m.\u001b[0m\u001b[0mas_text\u001b[0m\u001b[0;34m(\u001b[0m\u001b[0me\u001b[0m\u001b[0;34m.\u001b[0m\u001b[0mmessage\u001b[0m\u001b[0;34m)\u001b[0m\u001b[0;34m\u001b[0m\u001b[0m\n",
      "\u001b[0;32m/opt/anaconda3/envs/astrohack/lib/python3.6/site-packages/tensorflow/python/client/session.py\u001b[0m in \u001b[0;36m_run_fn\u001b[0;34m(session, feed_dict, fetch_list, target_list, options, run_metadata)\u001b[0m\n\u001b[1;32m   1300\u001b[0m           return tf_session.TF_Run(session, options,\n\u001b[1;32m   1301\u001b[0m                                    \u001b[0mfeed_dict\u001b[0m\u001b[0;34m,\u001b[0m \u001b[0mfetch_list\u001b[0m\u001b[0;34m,\u001b[0m \u001b[0mtarget_list\u001b[0m\u001b[0;34m,\u001b[0m\u001b[0;34m\u001b[0m\u001b[0m\n\u001b[0;32m-> 1302\u001b[0;31m                                    status, run_metadata)\n\u001b[0m\u001b[1;32m   1303\u001b[0m \u001b[0;34m\u001b[0m\u001b[0m\n\u001b[1;32m   1304\u001b[0m     \u001b[0;32mdef\u001b[0m \u001b[0m_prun_fn\u001b[0m\u001b[0;34m(\u001b[0m\u001b[0msession\u001b[0m\u001b[0;34m,\u001b[0m \u001b[0mhandle\u001b[0m\u001b[0;34m,\u001b[0m \u001b[0mfeed_dict\u001b[0m\u001b[0;34m,\u001b[0m \u001b[0mfetch_list\u001b[0m\u001b[0;34m)\u001b[0m\u001b[0;34m:\u001b[0m\u001b[0;34m\u001b[0m\u001b[0m\n",
      "\u001b[0;31mKeyboardInterrupt\u001b[0m: "
     ]
    }
   ],
   "source": [
    "model.fit(nn_inout2[:-1,:,:], nn_inout2[1:,0,:], epochs=2000, batch_size=1024, callbacks=[basicLossPlot])"
   ]
  },
  {
   "cell_type": "markdown",
   "metadata": {},
   "source": [
    "# End of note+duration train"
   ]
  },
  {
   "cell_type": "code",
   "execution_count": 67,
   "metadata": {
    "collapsed": true
   },
   "outputs": [],
   "source": [
    "def predbitfieldtonote(pred):\n",
    "    no = np.argmax(pred[:n_vocab])\n",
    "    du = np.argmax(pred[n_vocab:])\n",
    "    \n",
    "    if no==0:\n",
    "        n = note.Rest()\n",
    "        n.duration.quarterLength = (du+1)/4\n",
    "    else:\n",
    "        n = note.Note()\n",
    "        n.pitch.midi=no\n",
    "        n.duration.quarterLength = (du+1)/4\n",
    "    return n\n",
    "\n",
    "def predtostream(pred):\n",
    "    s = stream.Stream()\n",
    "    for i in range(len(pred)):\n",
    "        n = predbitfieldtonote(pred[i])\n",
    "        s.append(n)\n",
    "    return s"
   ]
  },
  {
   "cell_type": "code",
   "execution_count": 435,
   "metadata": {},
   "outputs": [
    {
     "data": {
      "image/png": "[encoded data removed]",
      "text/plain": [
       "<IPython.core.display.Image object>"
      ]
     },
     "metadata": {
      "image/png": {
       "height": 63,
       "width": 748
      }
     },
     "output_type": "display_data"
    }
   ],
   "source": [
    "t = 49\n",
    "s = predtostream(nn_inout2[t])\n",
    "n = predbitfieldtonote(model.predict(nn_inout2[t:t+1,:,:])[0])\n",
    "n.color='red'\n",
    "s.append(n)\n",
    "c = predbitfieldtonote(nn_inout2[t+1,0,:])\n",
    "c.color='green'\n",
    "s.append(c)\n",
    "s.show()"
   ]
  },
  {
   "cell_type": "code",
   "execution_count": 436,
   "metadata": {},
   "outputs": [
    {
     "name": "stdout",
     "output_type": "stream",
     "text": [
      "(1, 32, 144)\n",
      "................................................................................................................................(1, 128, 144)\n"
     ]
    }
   ],
   "source": [
    "# create a seed and predict stuff\n",
    "seed = nn_inout2[33:34,:,:]\n",
    "print(seed.shape)\n",
    "# seed = np.zeros((1,32,144))\n",
    "\n",
    "inp = seed\n",
    "for i in range(128):\n",
    "    p = model.predict(inp[:,-lookback:,:])\n",
    "    inp = np.concatenate([inp,p[newaxis,:,:]], axis=1)\n",
    "    print('.', end='')\n",
    "    \n",
    "# outp = inp\n",
    "outp = inp[:,lookback:,:] # remove the seed\n",
    "print(outp.shape)"
   ]
  },
  {
   "cell_type": "code",
   "execution_count": 437,
   "metadata": {
    "collapsed": true
   },
   "outputs": [],
   "source": [
    "output_notes = []\n",
    "s = stream.Stream()\n",
    "for i in range(len(outp[0])):\n",
    "    n = predbitfieldtonote(outp[0,i])\n",
    "    s.append(n)"
   ]
  },
  {
   "cell_type": "code",
   "execution_count": 438,
   "metadata": {},
   "outputs": [
    {
     "data": {
      "image/png": "[encoded data removed]",
      "text/plain": [
       "<IPython.core.display.Image object>"
      ]
     },
     "metadata": {
      "image/png": {
       "height": 453,
       "width": 753
      }
     },
     "output_type": "display_data"
    }
   ],
   "source": [
    "s.show()"
   ]
  },
  {
   "cell_type": "code",
   "execution_count": 439,
   "metadata": {},
   "outputs": [
    {
     "data": {
      "text/plain": [
       "'output/test_output20180306100728.mid'"
      ]
     },
     "execution_count": 439,
     "metadata": {},
     "output_type": "execute_result"
    }
   ],
   "source": [
    "s.write('midi', fp=f'output/test_output{datetime.now().strftime(\"%Y%m%d%H%M%S\")}.mid')"
   ]
  },
  {
   "cell_type": "code",
   "execution_count": null,
   "metadata": {
    "collapsed": true
   },
   "outputs": [],
   "source": []
  },
  {
   "cell_type": "code",
   "execution_count": null,
   "metadata": {
    "collapsed": true
   },
   "outputs": [],
   "source": []
  },
  {
   "cell_type": "code",
   "execution_count": null,
   "metadata": {
    "collapsed": true
   },
   "outputs": [],
   "source": []
  },
  {
   "cell_type": "code",
   "execution_count": 99,
   "metadata": {
    "scrolled": false
   },
   "outputs": [
    {
     "name": "stdout",
     "output_type": "stream",
     "text": [
      "Epoch 1/200\n",
      "9206/9206 [==============================] - 24s - loss: 3.4870    \n",
      "Epoch 2/200\n",
      "9206/9206 [==============================] - 24s - loss: 3.4281    \n",
      "Epoch 3/200\n",
      "9206/9206 [==============================] - 24s - loss: 3.4038    \n",
      "Epoch 4/200\n",
      "9206/9206 [==============================] - 24s - loss: 3.3644    \n",
      "Epoch 5/200\n",
      "9206/9206 [==============================] - 24s - loss: 3.2931    \n",
      "Epoch 6/200\n",
      "9206/9206 [==============================] - 24s - loss: 3.2294    \n",
      "Epoch 7/200\n",
      "9206/9206 [==============================] - 24s - loss: 3.1667    \n",
      "Epoch 8/200\n",
      "9206/9206 [==============================] - 24s - loss: 3.5601    \n",
      "Epoch 9/200\n",
      "9206/9206 [==============================] - 24s - loss: 3.6413    \n",
      "Epoch 10/200\n",
      "9206/9206 [==============================] - 24s - loss: 3.5867    \n",
      "Epoch 11/200\n",
      "9206/9206 [==============================] - 24s - loss: 3.5224    \n",
      "Epoch 12/200\n",
      "9206/9206 [==============================] - 24s - loss: 3.4891    \n",
      "Epoch 13/200\n",
      "9206/9206 [==============================] - 24s - loss: 3.4878    \n",
      "Epoch 14/200\n",
      "9206/9206 [==============================] - 24s - loss: 3.4767    \n",
      "Epoch 15/200\n",
      "9206/9206 [==============================] - 24s - loss: 3.4659    \n",
      "Epoch 16/200\n",
      "9206/9206 [==============================] - 24s - loss: 3.3839    \n",
      "Epoch 17/200\n",
      "9206/9206 [==============================] - 24s - loss: 3.0950    \n",
      "Epoch 18/200\n",
      "9206/9206 [==============================] - 24s - loss: 2.9795    \n",
      "Epoch 19/200\n",
      "9206/9206 [==============================] - 24s - loss: 2.8718    \n",
      "Epoch 20/200\n",
      "9206/9206 [==============================] - 24s - loss: 2.7789    \n",
      "Epoch 21/200\n",
      "9206/9206 [==============================] - 24s - loss: 2.6929    \n",
      "Epoch 22/200\n",
      "9206/9206 [==============================] - 24s - loss: 2.6028    \n",
      "Epoch 23/200\n",
      "9206/9206 [==============================] - 24s - loss: 2.5048    \n",
      "Epoch 24/200\n",
      "9206/9206 [==============================] - 24s - loss: 2.4144    \n",
      "Epoch 25/200\n",
      "9206/9206 [==============================] - 24s - loss: 2.3224    \n",
      "Epoch 26/200\n",
      "9206/9206 [==============================] - 24s - loss: 2.2270    \n",
      "Epoch 27/200\n",
      "9206/9206 [==============================] - 24s - loss: 2.1624    \n",
      "Epoch 28/200\n",
      "9206/9206 [==============================] - 24s - loss: 2.0889    \n",
      "Epoch 29/200\n",
      "9206/9206 [==============================] - 24s - loss: 1.9974    \n",
      "Epoch 30/200\n",
      "9206/9206 [==============================] - 24s - loss: 1.9387    \n",
      "Epoch 31/200\n",
      "9206/9206 [==============================] - 24s - loss: 1.8707    \n",
      "Epoch 32/200\n",
      "9206/9206 [==============================] - 24s - loss: 1.7844    \n",
      "Epoch 33/200\n",
      "9206/9206 [==============================] - 24s - loss: 1.7374    \n",
      "Epoch 34/200\n",
      "9206/9206 [==============================] - 24s - loss: 1.6723    \n",
      "Epoch 35/200\n",
      "9206/9206 [==============================] - 24s - loss: 1.6107    \n",
      "Epoch 36/200\n",
      "9206/9206 [==============================] - 24s - loss: 1.5461    \n",
      "Epoch 37/200\n",
      "9206/9206 [==============================] - 24s - loss: 1.4895    \n",
      "Epoch 38/200\n",
      "9206/9206 [==============================] - 24s - loss: 1.4316    \n",
      "Epoch 39/200\n",
      "9206/9206 [==============================] - 24s - loss: 1.3766    \n",
      "Epoch 40/200\n",
      "9206/9206 [==============================] - 24s - loss: 1.3111    \n",
      "Epoch 41/200\n",
      "9206/9206 [==============================] - 24s - loss: 1.2667    \n",
      "Epoch 42/200\n",
      "9206/9206 [==============================] - 24s - loss: 1.2182    \n",
      "Epoch 43/200\n",
      "9206/9206 [==============================] - 24s - loss: 1.1528    \n",
      "Epoch 44/200\n",
      "9206/9206 [==============================] - 24s - loss: 1.1071    \n",
      "Epoch 45/200\n",
      "9206/9206 [==============================] - 24s - loss: 1.0703    \n",
      "Epoch 46/200\n",
      "9206/9206 [==============================] - 24s - loss: 1.0044    \n",
      "Epoch 47/200\n",
      "9206/9206 [==============================] - 24s - loss: 0.9709    \n",
      "Epoch 48/200\n",
      "9206/9206 [==============================] - 24s - loss: 0.9175    \n",
      "Epoch 49/200\n",
      "9206/9206 [==============================] - 24s - loss: 0.8748    \n",
      "Epoch 50/200\n",
      "9206/9206 [==============================] - 24s - loss: 0.8378    \n",
      "Epoch 51/200\n",
      "9206/9206 [==============================] - 24s - loss: 0.7900    \n",
      "Epoch 52/200\n",
      "9206/9206 [==============================] - 24s - loss: 0.7557    \n",
      "Epoch 53/200\n",
      "9206/9206 [==============================] - 24s - loss: 0.7080    \n",
      "Epoch 54/200\n",
      "9206/9206 [==============================] - 24s - loss: 0.6653    \n",
      "Epoch 55/200\n",
      "9206/9206 [==============================] - 24s - loss: 0.6584    \n",
      "Epoch 56/200\n",
      "9206/9206 [==============================] - 24s - loss: 0.6222    \n",
      "Epoch 57/200\n",
      "9206/9206 [==============================] - 24s - loss: 0.5788    \n",
      "Epoch 58/200\n",
      "9206/9206 [==============================] - 24s - loss: 0.5652    \n",
      "Epoch 59/200\n",
      "9206/9206 [==============================] - 24s - loss: 0.5297    \n",
      "Epoch 60/200\n",
      "9206/9206 [==============================] - 24s - loss: 0.4998    \n",
      "Epoch 61/200\n",
      "9206/9206 [==============================] - 24s - loss: 0.5582    \n",
      "Epoch 62/200\n",
      "9206/9206 [==============================] - 24s - loss: 0.4664    \n",
      "Epoch 63/200\n",
      "9206/9206 [==============================] - 24s - loss: 0.4475    \n",
      "Epoch 64/200\n",
      "9206/9206 [==============================] - 24s - loss: 0.4145    \n",
      "Epoch 65/200\n",
      "9206/9206 [==============================] - 24s - loss: 0.4233    \n",
      "Epoch 66/200\n",
      "9206/9206 [==============================] - 24s - loss: 0.3863    \n",
      "Epoch 67/200\n",
      "9206/9206 [==============================] - 24s - loss: 0.3759    \n",
      "Epoch 68/200\n",
      "9206/9206 [==============================] - 24s - loss: 0.3722    \n",
      "Epoch 69/200\n",
      "9206/9206 [==============================] - 24s - loss: 0.3424    \n",
      "Epoch 70/200\n",
      "9206/9206 [==============================] - 24s - loss: 0.3306    \n",
      "Epoch 71/200\n",
      "9206/9206 [==============================] - 24s - loss: 0.3185    \n",
      "Epoch 72/200\n",
      "9206/9206 [==============================] - 24s - loss: 0.3018    \n",
      "Epoch 73/200\n",
      "9206/9206 [==============================] - 24s - loss: 0.2796    \n",
      "Epoch 74/200\n",
      "9206/9206 [==============================] - 24s - loss: 0.2878    \n",
      "Epoch 75/200\n",
      "9206/9206 [==============================] - 24s - loss: 0.2923    \n",
      "Epoch 76/200\n",
      "9206/9206 [==============================] - 24s - loss: 0.2674    \n",
      "Epoch 77/200\n",
      "9206/9206 [==============================] - 24s - loss: 0.2552    \n",
      "Epoch 78/200\n",
      "9206/9206 [==============================] - 24s - loss: 0.2556    \n",
      "Epoch 79/200\n",
      "9206/9206 [==============================] - 24s - loss: 0.2548    \n",
      "Epoch 80/200\n",
      "9206/9206 [==============================] - 24s - loss: 0.2439    \n",
      "Epoch 81/200\n",
      "9206/9206 [==============================] - 24s - loss: 0.2246    \n",
      "Epoch 82/200\n",
      "9206/9206 [==============================] - 24s - loss: 0.2207    \n",
      "Epoch 83/200\n",
      "9206/9206 [==============================] - 24s - loss: 0.2151    \n",
      "Epoch 84/200\n",
      "9206/9206 [==============================] - 24s - loss: 0.2133    \n",
      "Epoch 85/200\n",
      "9206/9206 [==============================] - 24s - loss: 0.2265    \n",
      "Epoch 86/200\n",
      "9206/9206 [==============================] - 24s - loss: 0.2035    \n",
      "Epoch 87/200\n",
      "9206/9206 [==============================] - 24s - loss: 0.1985    \n",
      "Epoch 88/200\n",
      "9206/9206 [==============================] - 24s - loss: 0.1882    \n",
      "Epoch 89/200\n",
      "9206/9206 [==============================] - 24s - loss: 0.1724    \n",
      "Epoch 90/200\n",
      "9206/9206 [==============================] - 24s - loss: 0.1851    \n",
      "Epoch 91/200\n",
      "9206/9206 [==============================] - 24s - loss: 0.1872    \n",
      "Epoch 92/200\n",
      "9206/9206 [==============================] - 24s - loss: 0.1570    \n",
      "Epoch 93/200\n",
      "9206/9206 [==============================] - 24s - loss: 0.1742    \n",
      "Epoch 94/200\n",
      "9206/9206 [==============================] - 24s - loss: 0.1781    \n",
      "Epoch 95/200\n",
      "9206/9206 [==============================] - 24s - loss: 0.1684    \n",
      "Epoch 96/200\n",
      "9206/9206 [==============================] - 24s - loss: 0.1704    \n",
      "Epoch 97/200\n",
      "9206/9206 [==============================] - 24s - loss: 0.1575    \n",
      "Epoch 98/200\n",
      "9206/9206 [==============================] - 24s - loss: 0.1617    \n",
      "Epoch 99/200\n",
      "9206/9206 [==============================] - 24s - loss: 0.1621    \n",
      "Epoch 100/200\n",
      "9206/9206 [==============================] - 24s - loss: 0.1430    \n",
      "Epoch 101/200\n",
      "9206/9206 [==============================] - 24s - loss: 0.1359    \n",
      "Epoch 102/200\n",
      "9206/9206 [==============================] - 24s - loss: 0.1337    \n",
      "Epoch 103/200\n",
      "9206/9206 [==============================] - 24s - loss: 0.1460    \n",
      "Epoch 104/200\n",
      "9206/9206 [==============================] - 24s - loss: 0.1333    \n",
      "Epoch 105/200\n",
      "9206/9206 [==============================] - 24s - loss: 0.1287    \n",
      "Epoch 106/200\n",
      "9206/9206 [==============================] - 24s - loss: 0.1329    \n",
      "Epoch 107/200\n",
      "9206/9206 [==============================] - 24s - loss: 0.1351    \n",
      "Epoch 108/200\n",
      "9206/9206 [==============================] - 24s - loss: 0.1238    \n",
      "Epoch 109/200\n",
      "9206/9206 [==============================] - 24s - loss: 0.1301    \n",
      "Epoch 110/200\n",
      "9206/9206 [==============================] - 24s - loss: 0.1208    \n",
      "Epoch 111/200\n",
      "9206/9206 [==============================] - 24s - loss: 0.1305    \n",
      "Epoch 112/200\n",
      "9206/9206 [==============================] - 24s - loss: 0.1169    \n",
      "Epoch 113/200\n",
      "9206/9206 [==============================] - 24s - loss: 0.1266    \n",
      "Epoch 114/200\n",
      "9206/9206 [==============================] - 24s - loss: 0.1098    \n",
      "Epoch 115/200\n",
      "9206/9206 [==============================] - 24s - loss: 0.1057    \n",
      "Epoch 116/200\n",
      "9206/9206 [==============================] - 24s - loss: 0.1194    \n",
      "Epoch 117/200\n",
      "9206/9206 [==============================] - 24s - loss: 0.1207    \n",
      "Epoch 118/200\n",
      "9206/9206 [==============================] - 24s - loss: 0.1084    \n",
      "Epoch 119/200\n",
      "9206/9206 [==============================] - 24s - loss: 0.1049    \n",
      "Epoch 120/200\n",
      "9206/9206 [==============================] - 24s - loss: 0.1015    \n",
      "Epoch 121/200\n",
      "9206/9206 [==============================] - 24s - loss: 0.1061    \n",
      "Epoch 122/200\n",
      "9206/9206 [==============================] - 24s - loss: 0.0996    \n",
      "Epoch 123/200\n",
      "9206/9206 [==============================] - 24s - loss: 0.1114    \n",
      "Epoch 124/200\n",
      "9206/9206 [==============================] - 24s - loss: 0.1030    \n",
      "Epoch 125/200\n",
      "9206/9206 [==============================] - 24s - loss: 0.0905    \n",
      "Epoch 126/200\n",
      "9206/9206 [==============================] - 24s - loss: 0.1157    \n",
      "Epoch 127/200\n",
      "9206/9206 [==============================] - 24s - loss: 0.0961    \n",
      "Epoch 128/200\n",
      "9206/9206 [==============================] - 24s - loss: 0.0879    \n",
      "Epoch 129/200\n",
      "9206/9206 [==============================] - 24s - loss: 0.0947    \n",
      "Epoch 130/200\n",
      "9206/9206 [==============================] - 24s - loss: 0.0924    \n",
      "Epoch 131/200\n",
      "9206/9206 [==============================] - 24s - loss: 0.0992    \n",
      "Epoch 132/200\n",
      "9206/9206 [==============================] - 24s - loss: 0.0899    \n",
      "Epoch 133/200\n",
      "9206/9206 [==============================] - 24s - loss: 0.0916    \n",
      "Epoch 134/200\n",
      "9206/9206 [==============================] - 24s - loss: 0.0791    \n",
      "Epoch 135/200\n",
      "9206/9206 [==============================] - 24s - loss: 0.0894    \n",
      "Epoch 136/200\n",
      "9206/9206 [==============================] - 24s - loss: 0.0910    \n",
      "Epoch 137/200\n",
      "9206/9206 [==============================] - 24s - loss: 0.0807    \n",
      "Epoch 138/200\n",
      "9206/9206 [==============================] - 24s - loss: 0.0716    \n",
      "Epoch 139/200\n",
      "9206/9206 [==============================] - 24s - loss: 0.0938    \n",
      "Epoch 140/200\n",
      "9206/9206 [==============================] - 24s - loss: 0.0934    \n",
      "Epoch 141/200\n",
      "9206/9206 [==============================] - 24s - loss: 0.0765    \n",
      "Epoch 142/200\n",
      "9206/9206 [==============================] - 24s - loss: 0.0791    \n",
      "Epoch 143/200\n",
      "9206/9206 [==============================] - 24s - loss: 0.0843    \n",
      "Epoch 144/200\n",
      "9206/9206 [==============================] - 24s - loss: 0.0907    \n",
      "Epoch 145/200\n",
      "9206/9206 [==============================] - 24s - loss: 0.0713    \n",
      "Epoch 146/200\n",
      "9206/9206 [==============================] - 24s - loss: 0.1284    \n",
      "Epoch 147/200\n",
      "9206/9206 [==============================] - 24s - loss: 0.0718    \n",
      "Epoch 148/200\n",
      "9206/9206 [==============================] - 24s - loss: 0.0654    \n",
      "Epoch 149/200\n",
      "9206/9206 [==============================] - 24s - loss: 0.0729    \n",
      "Epoch 150/200\n",
      "9206/9206 [==============================] - 24s - loss: 0.0836    \n",
      "Epoch 151/200\n",
      "9206/9206 [==============================] - 24s - loss: 0.0887    \n",
      "Epoch 152/200\n",
      "9206/9206 [==============================] - 24s - loss: 0.0822    \n",
      "Epoch 153/200\n",
      "9206/9206 [==============================] - 24s - loss: 0.0743    \n",
      "Epoch 154/200\n",
      "9206/9206 [==============================] - 24s - loss: 0.0728    \n",
      "Epoch 155/200\n",
      "9206/9206 [==============================] - 24s - loss: 0.0692    \n",
      "Epoch 156/200\n",
      "9206/9206 [==============================] - 24s - loss: 0.0729    \n",
      "Epoch 157/200\n",
      "9206/9206 [==============================] - 24s - loss: 0.0733    \n",
      "Epoch 158/200\n",
      "9206/9206 [==============================] - 24s - loss: 0.0744    \n",
      "Epoch 159/200\n",
      "9206/9206 [==============================] - 24s - loss: 0.0745    \n",
      "Epoch 160/200\n",
      "9206/9206 [==============================] - 24s - loss: 0.0600    \n",
      "Epoch 161/200\n",
      "9206/9206 [==============================] - 24s - loss: 0.0741    \n",
      "Epoch 162/200\n",
      "9206/9206 [==============================] - 24s - loss: 0.0666    \n",
      "Epoch 163/200\n",
      "9206/9206 [==============================] - 24s - loss: 0.0735    \n",
      "Epoch 164/200\n",
      "9206/9206 [==============================] - 24s - loss: 0.0676    \n",
      "Epoch 165/200\n",
      "9206/9206 [==============================] - 24s - loss: 0.0680    \n",
      "Epoch 166/200\n",
      "9206/9206 [==============================] - 24s - loss: 0.0581    \n",
      "Epoch 167/200\n",
      "9206/9206 [==============================] - 24s - loss: 0.0636    \n",
      "Epoch 168/200\n",
      "9206/9206 [==============================] - 24s - loss: 0.0668    \n",
      "Epoch 169/200\n",
      "9206/9206 [==============================] - 24s - loss: 0.0757    \n",
      "Epoch 170/200\n",
      "9206/9206 [==============================] - 24s - loss: 0.0680    \n",
      "Epoch 171/200\n",
      "9206/9206 [==============================] - 24s - loss: 0.0639    \n",
      "Epoch 172/200\n",
      "9206/9206 [==============================] - 24s - loss: 0.0670    \n",
      "Epoch 173/200\n",
      "9206/9206 [==============================] - 24s - loss: 0.0521    \n",
      "Epoch 174/200\n",
      "7872/9206 [========================>.....] - ETA: 3s - loss: 0.0638"
     ]
    },
    {
     "ename": "KeyboardInterrupt",
     "evalue": "",
     "output_type": "error",
     "traceback": [
      "\u001b[0;31m---------------------------------------------------------------------------\u001b[0m",
      "\u001b[0;31mKeyboardInterrupt\u001b[0m                         Traceback (most recent call last)",
      "\u001b[0;32m<ipython-input-99-bdfeb565655b>\u001b[0m in \u001b[0;36m<module>\u001b[0;34m()\u001b[0m\n\u001b[1;32m      7\u001b[0m )   \n\u001b[1;32m      8\u001b[0m \u001b[0mcallbacks_list\u001b[0m \u001b[0;34m=\u001b[0m \u001b[0;34m[\u001b[0m\u001b[0mcheckpoint\u001b[0m\u001b[0;34m]\u001b[0m\u001b[0;34m\u001b[0m\u001b[0m\n\u001b[0;32m----> 9\u001b[0;31m \u001b[0mmodel\u001b[0m\u001b[0;34m.\u001b[0m\u001b[0mfit\u001b[0m\u001b[0;34m(\u001b[0m\u001b[0mnetwork_input\u001b[0m\u001b[0;34m,\u001b[0m \u001b[0mnetwork_output\u001b[0m\u001b[0;34m,\u001b[0m \u001b[0mepochs\u001b[0m\u001b[0;34m=\u001b[0m\u001b[0;36m200\u001b[0m\u001b[0;34m,\u001b[0m \u001b[0mbatch_size\u001b[0m\u001b[0;34m=\u001b[0m\u001b[0;36m64\u001b[0m\u001b[0;34m,\u001b[0m \u001b[0mcallbacks\u001b[0m\u001b[0;34m=\u001b[0m\u001b[0mcallbacks_list\u001b[0m\u001b[0;34m)\u001b[0m\u001b[0;34m\u001b[0m\u001b[0m\n\u001b[0m",
      "\u001b[0;32m/opt/anaconda3/envs/astrohack/lib/python3.6/site-packages/keras/models.py\u001b[0m in \u001b[0;36mfit\u001b[0;34m(self, x, y, batch_size, epochs, verbose, callbacks, validation_split, validation_data, shuffle, class_weight, sample_weight, initial_epoch, **kwargs)\u001b[0m\n\u001b[1;32m    868\u001b[0m                               \u001b[0mclass_weight\u001b[0m\u001b[0;34m=\u001b[0m\u001b[0mclass_weight\u001b[0m\u001b[0;34m,\u001b[0m\u001b[0;34m\u001b[0m\u001b[0m\n\u001b[1;32m    869\u001b[0m                               \u001b[0msample_weight\u001b[0m\u001b[0;34m=\u001b[0m\u001b[0msample_weight\u001b[0m\u001b[0;34m,\u001b[0m\u001b[0;34m\u001b[0m\u001b[0m\n\u001b[0;32m--> 870\u001b[0;31m                               initial_epoch=initial_epoch)\n\u001b[0m\u001b[1;32m    871\u001b[0m \u001b[0;34m\u001b[0m\u001b[0m\n\u001b[1;32m    872\u001b[0m     def evaluate(self, x, y, batch_size=32, verbose=1,\n",
      "\u001b[0;32m/opt/anaconda3/envs/astrohack/lib/python3.6/site-packages/keras/engine/training.py\u001b[0m in \u001b[0;36mfit\u001b[0;34m(self, x, y, batch_size, epochs, verbose, callbacks, validation_split, validation_data, shuffle, class_weight, sample_weight, initial_epoch, **kwargs)\u001b[0m\n\u001b[1;32m   1505\u001b[0m                               \u001b[0mval_f\u001b[0m\u001b[0;34m=\u001b[0m\u001b[0mval_f\u001b[0m\u001b[0;34m,\u001b[0m \u001b[0mval_ins\u001b[0m\u001b[0;34m=\u001b[0m\u001b[0mval_ins\u001b[0m\u001b[0;34m,\u001b[0m \u001b[0mshuffle\u001b[0m\u001b[0;34m=\u001b[0m\u001b[0mshuffle\u001b[0m\u001b[0;34m,\u001b[0m\u001b[0;34m\u001b[0m\u001b[0m\n\u001b[1;32m   1506\u001b[0m                               \u001b[0mcallback_metrics\u001b[0m\u001b[0;34m=\u001b[0m\u001b[0mcallback_metrics\u001b[0m\u001b[0;34m,\u001b[0m\u001b[0;34m\u001b[0m\u001b[0m\n\u001b[0;32m-> 1507\u001b[0;31m                               initial_epoch=initial_epoch)\n\u001b[0m\u001b[1;32m   1508\u001b[0m \u001b[0;34m\u001b[0m\u001b[0m\n\u001b[1;32m   1509\u001b[0m     \u001b[0;32mdef\u001b[0m \u001b[0mevaluate\u001b[0m\u001b[0;34m(\u001b[0m\u001b[0mself\u001b[0m\u001b[0;34m,\u001b[0m \u001b[0mx\u001b[0m\u001b[0;34m,\u001b[0m \u001b[0my\u001b[0m\u001b[0;34m,\u001b[0m \u001b[0mbatch_size\u001b[0m\u001b[0;34m=\u001b[0m\u001b[0;36m32\u001b[0m\u001b[0;34m,\u001b[0m \u001b[0mverbose\u001b[0m\u001b[0;34m=\u001b[0m\u001b[0;36m1\u001b[0m\u001b[0;34m,\u001b[0m \u001b[0msample_weight\u001b[0m\u001b[0;34m=\u001b[0m\u001b[0;32mNone\u001b[0m\u001b[0;34m)\u001b[0m\u001b[0;34m:\u001b[0m\u001b[0;34m\u001b[0m\u001b[0m\n",
      "\u001b[0;32m/opt/anaconda3/envs/astrohack/lib/python3.6/site-packages/keras/engine/training.py\u001b[0m in \u001b[0;36m_fit_loop\u001b[0;34m(self, f, ins, out_labels, batch_size, epochs, verbose, callbacks, val_f, val_ins, shuffle, callback_metrics, initial_epoch)\u001b[0m\n\u001b[1;32m   1154\u001b[0m                 \u001b[0mbatch_logs\u001b[0m\u001b[0;34m[\u001b[0m\u001b[0;34m'size'\u001b[0m\u001b[0;34m]\u001b[0m \u001b[0;34m=\u001b[0m \u001b[0mlen\u001b[0m\u001b[0;34m(\u001b[0m\u001b[0mbatch_ids\u001b[0m\u001b[0;34m)\u001b[0m\u001b[0;34m\u001b[0m\u001b[0m\n\u001b[1;32m   1155\u001b[0m                 \u001b[0mcallbacks\u001b[0m\u001b[0;34m.\u001b[0m\u001b[0mon_batch_begin\u001b[0m\u001b[0;34m(\u001b[0m\u001b[0mbatch_index\u001b[0m\u001b[0;34m,\u001b[0m \u001b[0mbatch_logs\u001b[0m\u001b[0;34m)\u001b[0m\u001b[0;34m\u001b[0m\u001b[0m\n\u001b[0;32m-> 1156\u001b[0;31m                 \u001b[0mouts\u001b[0m \u001b[0;34m=\u001b[0m \u001b[0mf\u001b[0m\u001b[0;34m(\u001b[0m\u001b[0mins_batch\u001b[0m\u001b[0;34m)\u001b[0m\u001b[0;34m\u001b[0m\u001b[0m\n\u001b[0m\u001b[1;32m   1157\u001b[0m                 \u001b[0;32mif\u001b[0m \u001b[0;32mnot\u001b[0m \u001b[0misinstance\u001b[0m\u001b[0;34m(\u001b[0m\u001b[0mouts\u001b[0m\u001b[0;34m,\u001b[0m \u001b[0mlist\u001b[0m\u001b[0;34m)\u001b[0m\u001b[0;34m:\u001b[0m\u001b[0;34m\u001b[0m\u001b[0m\n\u001b[1;32m   1158\u001b[0m                     \u001b[0mouts\u001b[0m \u001b[0;34m=\u001b[0m \u001b[0;34m[\u001b[0m\u001b[0mouts\u001b[0m\u001b[0;34m]\u001b[0m\u001b[0;34m\u001b[0m\u001b[0m\n",
      "\u001b[0;32m/opt/anaconda3/envs/astrohack/lib/python3.6/site-packages/keras/backend/tensorflow_backend.py\u001b[0m in \u001b[0;36m__call__\u001b[0;34m(self, inputs)\u001b[0m\n\u001b[1;32m   2267\u001b[0m         updated = session.run(self.outputs + [self.updates_op],\n\u001b[1;32m   2268\u001b[0m                               \u001b[0mfeed_dict\u001b[0m\u001b[0;34m=\u001b[0m\u001b[0mfeed_dict\u001b[0m\u001b[0;34m,\u001b[0m\u001b[0;34m\u001b[0m\u001b[0m\n\u001b[0;32m-> 2269\u001b[0;31m                               **self.session_kwargs)\n\u001b[0m\u001b[1;32m   2270\u001b[0m         \u001b[0;32mreturn\u001b[0m \u001b[0mupdated\u001b[0m\u001b[0;34m[\u001b[0m\u001b[0;34m:\u001b[0m\u001b[0mlen\u001b[0m\u001b[0;34m(\u001b[0m\u001b[0mself\u001b[0m\u001b[0;34m.\u001b[0m\u001b[0moutputs\u001b[0m\u001b[0;34m)\u001b[0m\u001b[0;34m]\u001b[0m\u001b[0;34m\u001b[0m\u001b[0m\n\u001b[1;32m   2271\u001b[0m \u001b[0;34m\u001b[0m\u001b[0m\n",
      "\u001b[0;32m/opt/anaconda3/envs/astrohack/lib/python3.6/site-packages/tensorflow/python/client/session.py\u001b[0m in \u001b[0;36mrun\u001b[0;34m(self, fetches, feed_dict, options, run_metadata)\u001b[0m\n\u001b[1;32m    887\u001b[0m     \u001b[0;32mtry\u001b[0m\u001b[0;34m:\u001b[0m\u001b[0;34m\u001b[0m\u001b[0m\n\u001b[1;32m    888\u001b[0m       result = self._run(None, fetches, feed_dict, options_ptr,\n\u001b[0;32m--> 889\u001b[0;31m                          run_metadata_ptr)\n\u001b[0m\u001b[1;32m    890\u001b[0m       \u001b[0;32mif\u001b[0m \u001b[0mrun_metadata\u001b[0m\u001b[0;34m:\u001b[0m\u001b[0;34m\u001b[0m\u001b[0m\n\u001b[1;32m    891\u001b[0m         \u001b[0mproto_data\u001b[0m \u001b[0;34m=\u001b[0m \u001b[0mtf_session\u001b[0m\u001b[0;34m.\u001b[0m\u001b[0mTF_GetBuffer\u001b[0m\u001b[0;34m(\u001b[0m\u001b[0mrun_metadata_ptr\u001b[0m\u001b[0;34m)\u001b[0m\u001b[0;34m\u001b[0m\u001b[0m\n",
      "\u001b[0;32m/opt/anaconda3/envs/astrohack/lib/python3.6/site-packages/tensorflow/python/client/session.py\u001b[0m in \u001b[0;36m_run\u001b[0;34m(self, handle, fetches, feed_dict, options, run_metadata)\u001b[0m\n\u001b[1;32m   1118\u001b[0m     \u001b[0;32mif\u001b[0m \u001b[0mfinal_fetches\u001b[0m \u001b[0;32mor\u001b[0m \u001b[0mfinal_targets\u001b[0m \u001b[0;32mor\u001b[0m \u001b[0;34m(\u001b[0m\u001b[0mhandle\u001b[0m \u001b[0;32mand\u001b[0m \u001b[0mfeed_dict_tensor\u001b[0m\u001b[0;34m)\u001b[0m\u001b[0;34m:\u001b[0m\u001b[0;34m\u001b[0m\u001b[0m\n\u001b[1;32m   1119\u001b[0m       results = self._do_run(handle, final_targets, final_fetches,\n\u001b[0;32m-> 1120\u001b[0;31m                              feed_dict_tensor, options, run_metadata)\n\u001b[0m\u001b[1;32m   1121\u001b[0m     \u001b[0;32melse\u001b[0m\u001b[0;34m:\u001b[0m\u001b[0;34m\u001b[0m\u001b[0m\n\u001b[1;32m   1122\u001b[0m       \u001b[0mresults\u001b[0m \u001b[0;34m=\u001b[0m \u001b[0;34m[\u001b[0m\u001b[0;34m]\u001b[0m\u001b[0;34m\u001b[0m\u001b[0m\n",
      "\u001b[0;32m/opt/anaconda3/envs/astrohack/lib/python3.6/site-packages/tensorflow/python/client/session.py\u001b[0m in \u001b[0;36m_do_run\u001b[0;34m(self, handle, target_list, fetch_list, feed_dict, options, run_metadata)\u001b[0m\n\u001b[1;32m   1315\u001b[0m     \u001b[0;32mif\u001b[0m \u001b[0mhandle\u001b[0m \u001b[0;32mis\u001b[0m \u001b[0;32mNone\u001b[0m\u001b[0;34m:\u001b[0m\u001b[0;34m\u001b[0m\u001b[0m\n\u001b[1;32m   1316\u001b[0m       return self._do_call(_run_fn, self._session, feeds, fetches, targets,\n\u001b[0;32m-> 1317\u001b[0;31m                            options, run_metadata)\n\u001b[0m\u001b[1;32m   1318\u001b[0m     \u001b[0;32melse\u001b[0m\u001b[0;34m:\u001b[0m\u001b[0;34m\u001b[0m\u001b[0m\n\u001b[1;32m   1319\u001b[0m       \u001b[0;32mreturn\u001b[0m \u001b[0mself\u001b[0m\u001b[0;34m.\u001b[0m\u001b[0m_do_call\u001b[0m\u001b[0;34m(\u001b[0m\u001b[0m_prun_fn\u001b[0m\u001b[0;34m,\u001b[0m \u001b[0mself\u001b[0m\u001b[0;34m.\u001b[0m\u001b[0m_session\u001b[0m\u001b[0;34m,\u001b[0m \u001b[0mhandle\u001b[0m\u001b[0;34m,\u001b[0m \u001b[0mfeeds\u001b[0m\u001b[0;34m,\u001b[0m \u001b[0mfetches\u001b[0m\u001b[0;34m)\u001b[0m\u001b[0;34m\u001b[0m\u001b[0m\n",
      "\u001b[0;32m/opt/anaconda3/envs/astrohack/lib/python3.6/site-packages/tensorflow/python/client/session.py\u001b[0m in \u001b[0;36m_do_call\u001b[0;34m(self, fn, *args)\u001b[0m\n\u001b[1;32m   1321\u001b[0m   \u001b[0;32mdef\u001b[0m \u001b[0m_do_call\u001b[0m\u001b[0;34m(\u001b[0m\u001b[0mself\u001b[0m\u001b[0;34m,\u001b[0m \u001b[0mfn\u001b[0m\u001b[0;34m,\u001b[0m \u001b[0;34m*\u001b[0m\u001b[0margs\u001b[0m\u001b[0;34m)\u001b[0m\u001b[0;34m:\u001b[0m\u001b[0;34m\u001b[0m\u001b[0m\n\u001b[1;32m   1322\u001b[0m     \u001b[0;32mtry\u001b[0m\u001b[0;34m:\u001b[0m\u001b[0;34m\u001b[0m\u001b[0m\n\u001b[0;32m-> 1323\u001b[0;31m       \u001b[0;32mreturn\u001b[0m \u001b[0mfn\u001b[0m\u001b[0;34m(\u001b[0m\u001b[0;34m*\u001b[0m\u001b[0margs\u001b[0m\u001b[0;34m)\u001b[0m\u001b[0;34m\u001b[0m\u001b[0m\n\u001b[0m\u001b[1;32m   1324\u001b[0m     \u001b[0;32mexcept\u001b[0m \u001b[0merrors\u001b[0m\u001b[0;34m.\u001b[0m\u001b[0mOpError\u001b[0m \u001b[0;32mas\u001b[0m \u001b[0me\u001b[0m\u001b[0;34m:\u001b[0m\u001b[0;34m\u001b[0m\u001b[0m\n\u001b[1;32m   1325\u001b[0m       \u001b[0mmessage\u001b[0m \u001b[0;34m=\u001b[0m \u001b[0mcompat\u001b[0m\u001b[0;34m.\u001b[0m\u001b[0mas_text\u001b[0m\u001b[0;34m(\u001b[0m\u001b[0me\u001b[0m\u001b[0;34m.\u001b[0m\u001b[0mmessage\u001b[0m\u001b[0;34m)\u001b[0m\u001b[0;34m\u001b[0m\u001b[0m\n",
      "\u001b[0;32m/opt/anaconda3/envs/astrohack/lib/python3.6/site-packages/tensorflow/python/client/session.py\u001b[0m in \u001b[0;36m_run_fn\u001b[0;34m(session, feed_dict, fetch_list, target_list, options, run_metadata)\u001b[0m\n\u001b[1;32m   1300\u001b[0m           return tf_session.TF_Run(session, options,\n\u001b[1;32m   1301\u001b[0m                                    \u001b[0mfeed_dict\u001b[0m\u001b[0;34m,\u001b[0m \u001b[0mfetch_list\u001b[0m\u001b[0;34m,\u001b[0m \u001b[0mtarget_list\u001b[0m\u001b[0;34m,\u001b[0m\u001b[0;34m\u001b[0m\u001b[0m\n\u001b[0;32m-> 1302\u001b[0;31m                                    status, run_metadata)\n\u001b[0m\u001b[1;32m   1303\u001b[0m \u001b[0;34m\u001b[0m\u001b[0m\n\u001b[1;32m   1304\u001b[0m     \u001b[0;32mdef\u001b[0m \u001b[0m_prun_fn\u001b[0m\u001b[0;34m(\u001b[0m\u001b[0msession\u001b[0m\u001b[0;34m,\u001b[0m \u001b[0mhandle\u001b[0m\u001b[0;34m,\u001b[0m \u001b[0mfeed_dict\u001b[0m\u001b[0;34m,\u001b[0m \u001b[0mfetch_list\u001b[0m\u001b[0;34m)\u001b[0m\u001b[0;34m:\u001b[0m\u001b[0;34m\u001b[0m\u001b[0m\n",
      "\u001b[0;31mKeyboardInterrupt\u001b[0m: "
     ]
    }
   ],
   "source": [
    "filepath = \"weights-improvement-{epoch:02d}-{loss:.4f}-bigger.hdf5\"    \n",
    "checkpoint = ModelCheckpoint(\n",
    "    filepath, monitor='loss', \n",
    "    verbose=0,        \n",
    "    save_best_only=True,        \n",
    "    mode='min'\n",
    ")   \n",
    "callbacks_list = [checkpoint]     \n",
    "model.fit(network_input, network_output, epochs=200, batch_size=64, callbacks=callbacks_list)"
   ]
  },
  {
   "cell_type": "code",
   "execution_count": 103,
   "metadata": {
    "collapsed": true
   },
   "outputs": [],
   "source": [
    "model.load_weights('weights-improvement-172-0.0521-bigger.hdf5')\n",
    "# !ls -atl *bigger*"
   ]
  },
  {
   "cell_type": "code",
   "execution_count": null,
   "metadata": {
    "collapsed": true
   },
   "outputs": [],
   "source": []
  },
  {
   "cell_type": "code",
   "execution_count": 12,
   "metadata": {
    "scrolled": true
   },
   "outputs": [
    {
     "name": "stdout",
     "output_type": "stream",
     "text": [
      "init (100, 1) 100 [ 0.52666667]\n",
      ".................................................."
     ]
    }
   ],
   "source": [
    "start = np.random.randint(0, len(network_input)-1)\n",
    "int_to_note = dict((number, note) for number, note in enumerate(pitchnames))\n",
    "pattern = network_input[start]\n",
    "\n",
    "print('init', pattern.shape, len(pattern), pattern[0])\n",
    "pattern = list(pattern.reshape(-1))\n",
    "prediction_output = []\n",
    "# generate 500 notes\n",
    "for note_index in range(50):\n",
    "    print('.', end ='')\n",
    "    prediction_input = np.reshape(pattern, (1, len(pattern), 1))\n",
    "    prediction_input = prediction_input / float(n_vocab)\n",
    "    prediction = model.predict(prediction_input, verbose=0)\n",
    "    index = np.argmax(prediction)\n",
    "    result = int_to_note[index]\n",
    "    prediction_output.append(result)\n",
    "#     print('>', pattern.shape, len(pattern), index)\n",
    "#     pattern = list(pattern.reshape(-1))\n",
    "    pattern.append(index)\n",
    "    pattern = pattern[1:len(pattern)]"
   ]
  }
 ],
 "metadata": {
  "kernelspec": {
   "display_name": "Python 3",
   "language": "python",
   "name": "python3"
  },
  "language_info": {
   "codemirror_mode": {
    "name": "ipython",
    "version": 3
   },
   "file_extension": ".py",
   "mimetype": "text/x-python",
   "name": "python",
   "nbconvert_exporter": "python",
   "pygments_lexer": "ipython3",
   "version": "3.5.3"
  }
 },
 "nbformat": 4,
 "nbformat_minor": 2
}
