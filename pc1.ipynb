{
 "cells": [
  {
   "cell_type": "code",
   "execution_count": 3,
   "metadata": {},
   "outputs": [],
   "source": [
    "from music21 import converter, instrument, note, chord, midi\n",
    "import glob\n",
    "\n",
    "import pandas as pd\n",
    "import numpy as np\n",
    "from numpy import newaxis\n",
    "\n",
    "import random\n",
    "import itertools\n",
    "\n",
    "import os\n",
    "from os import listdir\n",
    "from os.path import isfile\n",
    "import math\n",
    "\n",
    "import matplotlib.pyplot as plt\n",
    "import seaborn as sns\n",
    "import matplotlib.collections\n",
    "from matplotlib import gridspec\n",
    "\n",
    "import datetime\n",
    "from tqdm import *\n",
    "from datetime import *\n",
    "\n",
    "import keras\n",
    "from keras.applications import *\n",
    "import lightgbm as lgbm\n",
    "import os\n",
    "from scipy import ndimage\n",
    "from scipy import misc\n",
    "from scipy import signal\n",
    "import cv2\n",
    "plt.ion()\n",
    "plt.show()\n",
    "\n",
    "# import keras\n",
    "# from keras.preprocessing.image import ImageDataGenerator\n",
    "# from keras.layers import Input, Dense, Lambda, Layer,Flatten, Conv2D, MaxPooling2D,UpSampling2D, concatenate, Dropout,Conv2DTranspose, LSTM\n",
    "# from keras.models import Model, Sequential\n",
    "# from keras import backend as K\n",
    "# from keras import metrics\n",
    "# from keras.models import load_model\n",
    "# from keras.callbacks import EarlyStopping, ModelCheckpoint\n",
    "# from keras.layers import Activation, Dense\n",
    "# from music21 import instrument, note, stream, chord\n",
    "import shutil\n",
    "import collections\n",
    "from collections import *\n",
    "from keras import optimizers\n",
    "import tensorflow as tf\n",
    "from IPython.display import clear_output\n",
    "config = tf.ConfigProto()\n",
    "config.gpu_options.allow_growth=True\n",
    "sess = tf.Session(config=config)\n",
    "\n",
    "# from sklearn.utils import class_weight\n",
    "# from skimage.io import imread, imshow, imread_collection, concatenate_images\n",
    "# from skimage.transform import resize\n",
    "# from skimage.morphology import label\n",
    "# from os.path import isfile, join\n",
    "# from sklearn import preprocessing\n",
    "# from keras.utils import to_categorical\n",
    "# from sklearn.metrics import accuracy_score, classification_report,confusion_matrix\n",
    "# from mpl_toolkits.axes_grid1 import ImageGrid\n",
    "# from IPython.core.interactiveshell import InteractiveShell\n",
    "# InteractiveShell.ast_node_interactivity = \"all\"\n",
    "\n",
    "\n",
    "\n",
    "from skimage import filters\n",
    "import matplotlib.pyplot as plt\n",
    "from scipy import ndimage as ndi"
   ]
  },
  {
   "cell_type": "markdown",
   "metadata": {},
   "source": [
    "https://towardsdatascience.com/how-to-generate-music-using-a-lstm-neural-network-in-keras-68786834d4c5"
   ]
  },
  {
   "cell_type": "code",
   "execution_count": 4,
   "metadata": {},
   "outputs": [
    {
     "name": "stdout",
     "output_type": "stream",
     "text": [
      "file data\\a.mid\n",
      "parts  <music21.stream.Score 0x18d5bb2a2b0>\n",
      "has parts\n",
      "file data\\Berceuse.mid\n",
      "parts  <music21.stream.Score 0x18d5d147438>\n",
      "has parts\n",
      "file data\\Tchaikovsky Lake Of The Swans Act 1 1mov.mid\n",
      "parts  <music21.stream.Score 0x18d642ed4e0>\n",
      "has parts\n",
      "file data\\Tchaikovsky Lake Of The Swans Act 1 2mov.mid\n",
      "parts  <music21.stream.Score 0x18d69119550>\n",
      "has parts\n",
      "file data\\Tchaikovsky Lake Of The Swans Act 1 3mov.mid\n",
      "parts  <music21.stream.Score 0x18d5e757390>\n",
      "has parts\n",
      "file data\\Tchaikovsky Lake Of The Swans Act 1 4mov.mid\n",
      "parts  <music21.stream.Score 0x18d66cf1eb8>\n",
      "has parts\n",
      "file data\\Tchaikovsky Lake Of The Swans Act 1 5mov.mid\n",
      "parts  <music21.stream.Score 0x18d5ee37dd8>\n",
      "has parts\n",
      "file data\\Tchaikovsky Lake Of The Swans Act 1 6mov.mid\n",
      "parts  <music21.stream.Score 0x18d62ca6710>\n",
      "has parts\n",
      "file data\\Tchaikovsky Lake Of The Swans Act 1 7-8movs.mid\n",
      "parts  <music21.stream.Score 0x18d66ff2c50>\n",
      "has parts\n",
      "file data\\Tchaikovsky Lake Of The Swans Act 1 9mov.mid\n",
      "parts  <music21.stream.Score 0x18d602c50b8>\n",
      "has parts\n",
      "file data\\Tchaikovsky Lake Of The Swans Act 2 10mov.mid\n",
      "parts  <music21.stream.Score 0x18d6db1e5c0>\n",
      "has parts\n",
      "file data\\Tchaikovsky Lake Of The Swans Act 2 11mov.mid\n",
      "parts  <music21.stream.Score 0x18d6ef0e0f0>\n",
      "has parts\n",
      "file data\\Tchaikovsky Lake Of The Swans Act 2 12mov.mid\n",
      "parts  <music21.stream.Score 0x18d6d8cf5c0>\n",
      "has parts\n",
      "file data\\Tchaikovsky Lake Of The Swans Act 2 13mov.mid\n",
      "parts  <music21.stream.Score 0x18d6050bc50>\n",
      "has parts\n",
      "file data\\Tchaikovsky Lake Of The Swans Act 2 14mov.mid\n",
      "parts  <music21.stream.Score 0x18d68dd3550>\n",
      "has parts\n",
      "file data\\Wagner Ride of the valkyries.mid\n",
      "parts  <music21.stream.Score 0x18d62702160>\n",
      "has parts\n"
     ]
    },
    {
     "data": {
      "text/plain": [
       "8215"
      ]
     },
     "execution_count": 4,
     "metadata": {},
     "output_type": "execute_result"
    }
   ],
   "source": [
    "notes = []\n",
    "for file in glob.glob(\"data/*.mid\"):\n",
    "    print('file', file)\n",
    "    midiP = converter.parse(file)\n",
    "    notes_to_parse = None\n",
    "    parts = instrument.partitionByInstrument(midiP)\n",
    "    print('parts ', parts)\n",
    "    if parts: # file has instrument parts\n",
    "        print('has parts')\n",
    "        notes_to_parse = parts.parts[0].recurse()\n",
    "    else: # file has notes in a flat structure\n",
    "        notes_to_parse = midiP.flat.notes\n",
    "    for element in notes_to_parse:\n",
    "        if isinstance(element, note.Note):\n",
    "            notes.append(str(element.pitch))\n",
    "        elif isinstance(element, chord.Chord):\n",
    "            notes.append('.'.join(str(n) for n in element.normalOrder))\n",
    "            \n",
    "len(notes)"
   ]
  },
  {
   "cell_type": "code",
   "execution_count": null,
   "metadata": {
    "collapsed": true
   },
   "outputs": [],
   "source": [
    "notes"
   ]
  },
  {
   "cell_type": "code",
   "execution_count": 12,
   "metadata": {},
   "outputs": [
    {
     "data": {
      "text/plain": [
       "150"
      ]
     },
     "execution_count": 12,
     "metadata": {},
     "output_type": "execute_result"
    }
   ],
   "source": [
    "sequence_length = 100\n",
    "# get all pitch names\n",
    "pitchnames = sorted(set(item for item in notes))\n",
    "n_vocab = len(set(notes))\n",
    "n_vocab"
   ]
  },
  {
   "cell_type": "code",
   "execution_count": 8,
   "metadata": {},
   "outputs": [
    {
     "data": {
      "text/plain": [
       "144"
      ]
     },
     "execution_count": 8,
     "metadata": {},
     "output_type": "execute_result"
    },
    {
     "name": "stdout",
     "output_type": "stream",
     "text": [
      "['0', '0.1', '0.2.5', '0.2.6', '0.3', '0.3.6', '0.4', '0.4.6', '0.4.7', '0.5', '0.6', '1', '1.3', '1.4', '1.4.7', '1.4.8', '1.6', '1.7', '10', '10.0', '10.1', '10.1.4', '10.2', '10.3', '11', '11.0.4', '11.1', '11.2', '11.2.5', '11.3', '11.3.6', '11.3.6.7', '11.4', '2.4.7', '2.4.8', '2.5.8', '2.5.9', '2.8', '3', '3.5.8', '3.5.9', '3.6', '3.6.9', '3.7', '3.8', '3.9', '4', '4.10', '4.6', '4.6.11', '4.6.7', '4.6.9', '4.7', '4.7.11', '4.8', '4.8.11', '4.9', '5', '5.11', '5.8', '5.9', '6', '6.11', '6.8', '6.9', '6.9.0', '7', '7.0', '7.10', '7.10.0', '7.11', '7.8', '8', '8.0', '8.1', '8.10', '8.11', '8.9', '9', '9.0', '9.0.4', '9.1', '9.11.3', 'A1', 'A2', 'A3', 'A4', 'A5', 'A6', 'B-2', 'B-3', 'B-4', 'B-5', 'B-6', 'B2', 'B3', 'B4', 'B5', 'C#1', 'C#2', 'C#3', 'C#4', 'C#5', 'C#6', 'C#7', 'C3', 'C4', 'C5', 'C6', 'C7', 'D4', 'D5', 'D6', 'E-2', 'E-3', 'E-4', 'E-5', 'E-6', 'E2', 'E3', 'E4', 'E5', 'E6', 'E7', 'F#2', 'F#3', 'F#4', 'F#5', 'F#6', 'F3', 'F4', 'F5', 'F6', 'G#1', 'G#2', 'G#3', 'G#4', 'G#5', 'G#6', 'G2', 'G3', 'G4', 'G5', 'G6']\n"
     ]
    }
   ],
   "source": [
    "len(pitchnames)\n",
    "print(pitchnames)"
   ]
  },
  {
   "cell_type": "code",
   "execution_count": 13,
   "metadata": {},
   "outputs": [
    {
     "data": {
      "text/plain": [
       "{'0': 0,\n",
       " '0.2.5': 1,\n",
       " '0.2.6': 2,\n",
       " '0.3.6': 3,\n",
       " '0.4': 4,\n",
       " '0.4.6': 5,\n",
       " '0.4.7': 6,\n",
       " '0.5': 7,\n",
       " '1': 8,\n",
       " '1.4': 9,\n",
       " '1.4.7': 10,\n",
       " '1.4.8': 11,\n",
       " '1.5': 12,\n",
       " '1.6': 13,\n",
       " '10': 14,\n",
       " '10.0': 15,\n",
       " '10.1': 16,\n",
       " '10.1.4': 17,\n",
       " '10.2': 18,\n",
       " '10.3': 19,\n",
       " '11': 20,\n",
       " '11.0.4': 21,\n",
       " '11.2': 22,\n",
       " '11.2.5': 23,\n",
       " '11.3': 24,\n",
       " '11.3.6': 25,\n",
       " '11.3.6.7': 26,\n",
       " '11.4': 27,\n",
       " '2': 28,\n",
       " '2.4.7': 29,\n",
       " '2.4.8': 30,\n",
       " '2.5.8': 31,\n",
       " '2.5.9': 32,\n",
       " '2.6': 33,\n",
       " '2.7': 34,\n",
       " '3': 35,\n",
       " '3.5.8': 36,\n",
       " '3.5.9': 37,\n",
       " '3.6': 38,\n",
       " '3.6.10': 39,\n",
       " '3.6.9': 40,\n",
       " '3.7': 41,\n",
       " '3.8': 42,\n",
       " '4': 43,\n",
       " '4.10': 44,\n",
       " '4.6.11': 45,\n",
       " '4.6.9': 46,\n",
       " '4.7': 47,\n",
       " '4.7.11': 48,\n",
       " '4.8': 49,\n",
       " '4.8.11': 50,\n",
       " '4.9': 51,\n",
       " '5': 52,\n",
       " '5.10': 53,\n",
       " '5.9': 54,\n",
       " '6': 55,\n",
       " '6.10': 56,\n",
       " '6.10.1': 57,\n",
       " '6.11': 58,\n",
       " '6.9.0': 59,\n",
       " '7': 60,\n",
       " '7.0': 61,\n",
       " '7.10': 62,\n",
       " '7.10.0': 63,\n",
       " '7.11': 64,\n",
       " '8': 65,\n",
       " '8.1': 66,\n",
       " '8.11': 67,\n",
       " '9': 68,\n",
       " '9.0': 69,\n",
       " '9.0.4': 70,\n",
       " '9.1': 71,\n",
       " '9.11': 72,\n",
       " '9.11.3': 73,\n",
       " '9.2': 74,\n",
       " 'A2': 75,\n",
       " 'A3': 76,\n",
       " 'A4': 77,\n",
       " 'A5': 78,\n",
       " 'A6': 79,\n",
       " 'A7': 80,\n",
       " 'B-1': 81,\n",
       " 'B-2': 82,\n",
       " 'B-3': 83,\n",
       " 'B-4': 84,\n",
       " 'B-5': 85,\n",
       " 'B-6': 86,\n",
       " 'B-7': 87,\n",
       " 'B1': 88,\n",
       " 'B2': 89,\n",
       " 'B3': 90,\n",
       " 'B4': 91,\n",
       " 'B5': 92,\n",
       " 'B6': 93,\n",
       " 'B7': 94,\n",
       " 'C#2': 95,\n",
       " 'C#3': 96,\n",
       " 'C#4': 97,\n",
       " 'C#5': 98,\n",
       " 'C#6': 99,\n",
       " 'C#7': 100,\n",
       " 'C2': 101,\n",
       " 'C3': 102,\n",
       " 'C4': 103,\n",
       " 'C5': 104,\n",
       " 'C6': 105,\n",
       " 'C7': 106,\n",
       " 'D3': 107,\n",
       " 'D4': 108,\n",
       " 'D5': 109,\n",
       " 'D6': 110,\n",
       " 'D7': 111,\n",
       " 'E-2': 112,\n",
       " 'E-3': 113,\n",
       " 'E-4': 114,\n",
       " 'E-5': 115,\n",
       " 'E-6': 116,\n",
       " 'E-7': 117,\n",
       " 'E1': 118,\n",
       " 'E2': 119,\n",
       " 'E3': 120,\n",
       " 'E4': 121,\n",
       " 'E5': 122,\n",
       " 'E6': 123,\n",
       " 'E7': 124,\n",
       " 'F#1': 125,\n",
       " 'F#2': 126,\n",
       " 'F#3': 127,\n",
       " 'F#4': 128,\n",
       " 'F#5': 129,\n",
       " 'F#6': 130,\n",
       " 'F#7': 131,\n",
       " 'F4': 132,\n",
       " 'F5': 133,\n",
       " 'F6': 134,\n",
       " 'F7': 135,\n",
       " 'G#1': 136,\n",
       " 'G#2': 137,\n",
       " 'G#3': 138,\n",
       " 'G#4': 139,\n",
       " 'G#5': 140,\n",
       " 'G#6': 141,\n",
       " 'G#7': 142,\n",
       " 'G1': 143,\n",
       " 'G2': 144,\n",
       " 'G3': 145,\n",
       " 'G4': 146,\n",
       " 'G5': 147,\n",
       " 'G6': 148,\n",
       " 'G7': 149}"
      ]
     },
     "execution_count": 13,
     "metadata": {},
     "output_type": "execute_result"
    }
   ],
   "source": [
    "# create a dictionary to map pitches to integers\n",
    "note_to_int = dict((note, number) for number, note in enumerate(pitchnames))\n",
    "note_to_int"
   ]
  },
  {
   "cell_type": "code",
   "execution_count": 14,
   "metadata": {},
   "outputs": [
    {
     "name": "stdout",
     "output_type": "stream",
     "text": [
      "Len  8215 8115\n"
     ]
    },
    {
     "data": {
      "text/plain": [
       "[90, 91, 91, 48, 48]"
      ]
     },
     "execution_count": 14,
     "metadata": {},
     "output_type": "execute_result"
    }
   ],
   "source": [
    "network_input = []\n",
    "network_output = []\n",
    "print('Len ', len(notes), len(notes) - sequence_length)\n",
    "# create input sequences and the corresponding outputs\n",
    "for i in range(0, len(notes) - sequence_length, 1):\n",
    "    sequence_in = notes[i:i + sequence_length]\n",
    "    sequence_out = notes[i + sequence_length]\n",
    "    network_input.append([note_to_int[char] for char in sequence_in])\n",
    "    network_output.append(note_to_int[sequence_out])\n",
    "n_patterns = len(network_input)\n",
    "network_input[0][:5]\n",
    "# reshape the input into a format compatible with LSTM layers\n",
    "network_input = np.reshape(network_input, (n_patterns, sequence_length, 1))\n"
   ]
  },
  {
   "cell_type": "code",
   "execution_count": 15,
   "metadata": {
    "collapsed": true
   },
   "outputs": [],
   "source": [
    "\n",
    "# normalize input\n",
    "network_input = network_input / float(n_vocab)\n",
    "network_output = np_utils.to_categorical(network_output)"
   ]
  },
  {
   "cell_type": "code",
   "execution_count": 16,
   "metadata": {},
   "outputs": [
    {
     "data": {
      "text/plain": [
       "array([[ 0.6       ],\n",
       "       [ 0.60666667],\n",
       "       [ 0.60666667],\n",
       "       [ 0.32      ],\n",
       "       [ 0.32      ],\n",
       "       [ 0.32      ],\n",
       "       [ 0.32      ],\n",
       "       [ 0.32      ],\n",
       "       [ 0.32      ],\n",
       "       [ 0.69333333],\n",
       "       [ 0.32      ],\n",
       "       [ 0.32      ],\n",
       "       [ 0.60666667],\n",
       "       [ 0.30666667],\n",
       "       [ 0.30666667],\n",
       "       [ 0.30666667],\n",
       "       [ 0.30666667],\n",
       "       [ 0.26666667],\n",
       "       [ 0.26666667],\n",
       "       [ 0.69333333],\n",
       "       [ 0.26666667],\n",
       "       [ 0.26666667],\n",
       "       [ 0.60666667],\n",
       "       [ 0.24666667],\n",
       "       [ 0.24666667],\n",
       "       [ 0.24666667],\n",
       "       [ 0.24666667],\n",
       "       [ 0.21333333],\n",
       "       [ 0.21333333],\n",
       "       [ 0.69333333],\n",
       "       [ 0.20666667],\n",
       "       [ 0.20666667],\n",
       "       [ 0.60666667],\n",
       "       [ 0.2       ],\n",
       "       [ 0.2       ],\n",
       "       [ 0.2       ],\n",
       "       [ 0.2       ],\n",
       "       [ 0.19333333],\n",
       "       [ 0.19333333],\n",
       "       [ 0.56      ],\n",
       "       [ 0.06666667],\n",
       "       [ 0.06666667],\n",
       "       [ 0.51333333],\n",
       "       [ 0.04      ],\n",
       "       [ 0.04      ],\n",
       "       [ 0.04      ],\n",
       "       [ 0.04      ],\n",
       "       [ 0.03333333],\n",
       "       [ 0.03333333],\n",
       "       [ 0.60666667],\n",
       "       [ 0.03333333],\n",
       "       [ 0.03333333],\n",
       "       [ 0.51333333],\n",
       "       [ 0.03333333],\n",
       "       [ 0.03333333],\n",
       "       [ 0.03333333],\n",
       "       [ 0.03333333],\n",
       "       [ 0.02      ],\n",
       "       [ 0.02      ],\n",
       "       [ 0.60666667],\n",
       "       [ 0.02      ],\n",
       "       [ 0.02      ],\n",
       "       [ 0.51333333],\n",
       "       [ 0.01333333],\n",
       "       [ 0.01333333],\n",
       "       [ 0.01333333],\n",
       "       [ 0.01333333],\n",
       "       [ 0.01333333],\n",
       "       [ 0.01333333],\n",
       "       [ 0.60666667],\n",
       "       [ 0.01333333],\n",
       "       [ 0.01333333],\n",
       "       [ 0.51333333],\n",
       "       [ 0.51333333],\n",
       "       [ 0.00666667],\n",
       "       [ 0.00666667],\n",
       "       [ 0.00666667],\n",
       "       [ 0.00666667],\n",
       "       [ 0.15333333],\n",
       "       [ 0.15333333],\n",
       "       [ 0.92666667],\n",
       "       [ 0.15333333],\n",
       "       [ 0.15333333],\n",
       "       [ 0.14      ],\n",
       "       [ 0.14      ],\n",
       "       [ 0.51333333],\n",
       "       [ 0.46666667],\n",
       "       [ 0.60666667],\n",
       "       [ 0.46666667],\n",
       "       [ 0.72666667],\n",
       "       [ 0.46666667],\n",
       "       [ 0.69333333],\n",
       "       [ 0.46666667],\n",
       "       [ 0.80666667],\n",
       "       [ 0.46666667],\n",
       "       [ 0.51333333],\n",
       "       [ 0.46666667],\n",
       "       [ 0.85333333],\n",
       "       [ 0.3       ],\n",
       "       [ 0.3       ]])"
      ]
     },
     "execution_count": 16,
     "metadata": {},
     "output_type": "execute_result"
    },
    {
     "data": {
      "text/plain": [
       "array([ 0.,  0.,  0.,  0.,  0.,  0.,  0.,  0.,  0.,  0.,  0.,  0.,  0.,\n",
       "        0.,  0.,  0.,  0.,  0.,  0.,  0.,  0.,  0.,  0.,  0.,  0.,  0.,\n",
       "        0.,  0.,  0.,  0.,  0.,  0.,  0.,  0.,  0.,  0.,  0.,  0.,  0.,\n",
       "        0.,  0.,  0.,  0.,  0.,  0.,  0.,  0.,  0.,  0.,  0.,  0.,  0.,\n",
       "        0.,  0.,  0.,  0.,  0.,  0.,  0.,  0.,  0.,  0.,  0.,  0.,  0.,\n",
       "        0.,  0.,  0.,  0.,  0.,  0.,  0.,  0.,  1.,  0.,  0.,  0.,  0.,\n",
       "        0.,  0.,  0.,  0.,  0.,  0.,  0.,  0.,  0.,  0.,  0.,  0.,  0.,\n",
       "        0.,  0.,  0.,  0.,  0.,  0.,  0.,  0.,  0.,  0.,  0.,  0.,  0.,\n",
       "        0.,  0.,  0.,  0.,  0.,  0.,  0.,  0.,  0.,  0.,  0.,  0.,  0.,\n",
       "        0.,  0.,  0.,  0.,  0.,  0.,  0.,  0.,  0.,  0.,  0.,  0.,  0.,\n",
       "        0.,  0.,  0.,  0.,  0.,  0.,  0.,  0.,  0.,  0.,  0.,  0.,  0.,\n",
       "        0.,  0.,  0.,  0.,  0.,  0.,  0.])"
      ]
     },
     "execution_count": 16,
     "metadata": {},
     "output_type": "execute_result"
    },
    {
     "data": {
      "text/plain": [
       "(8115, 100, 1)"
      ]
     },
     "execution_count": 16,
     "metadata": {},
     "output_type": "execute_result"
    },
    {
     "data": {
      "text/plain": [
       "(8115, 150)"
      ]
     },
     "execution_count": 16,
     "metadata": {},
     "output_type": "execute_result"
    }
   ],
   "source": [
    "network_input[0]\n",
    "network_output[0]\n",
    "network_input.shape\n",
    "network_output.shape"
   ]
  },
  {
   "cell_type": "code",
   "execution_count": 17,
   "metadata": {},
   "outputs": [
    {
     "name": "stdout",
     "output_type": "stream",
     "text": [
      "_________________________________________________________________\n",
      "Layer (type)                 Output Shape              Param #   \n",
      "=================================================================\n",
      "lstm_1 (LSTM)                (None, 100, 256)          264192    \n",
      "_________________________________________________________________\n",
      "dropout_1 (Dropout)          (None, 100, 256)          0         \n",
      "_________________________________________________________________\n",
      "lstm_2 (LSTM)                (None, 100, 512)          1574912   \n",
      "_________________________________________________________________\n",
      "dropout_2 (Dropout)          (None, 100, 512)          0         \n",
      "_________________________________________________________________\n",
      "lstm_3 (LSTM)                (None, 256)               787456    \n",
      "_________________________________________________________________\n",
      "dense_1 (Dense)              (None, 256)               65792     \n",
      "_________________________________________________________________\n",
      "dropout_3 (Dropout)          (None, 256)               0         \n",
      "_________________________________________________________________\n",
      "dense_2 (Dense)              (None, 150)               38550     \n",
      "_________________________________________________________________\n",
      "activation_1 (Activation)    (None, 150)               0         \n",
      "=================================================================\n",
      "Total params: 2,730,902\n",
      "Trainable params: 2,730,902\n",
      "Non-trainable params: 0\n",
      "_________________________________________________________________\n"
     ]
    }
   ],
   "source": [
    "model = Sequential()\n",
    "model.add(LSTM(\n",
    "    256,\n",
    "    input_shape=(network_input.shape[1], network_input.shape[2]),\n",
    "    return_sequences=True\n",
    "))\n",
    "model.add(Dropout(0.3))\n",
    "model.add(LSTM(512, return_sequences=True))\n",
    "model.add(Dropout(0.3))\n",
    "model.add(LSTM(256))\n",
    "model.add(Dense(256))\n",
    "model.add(Dropout(0.3))\n",
    "model.add(Dense(n_vocab))\n",
    "model.add(Activation('softmax'))\n",
    "model.compile(loss='categorical_crossentropy', optimizer='rmsprop')\n",
    "model.summary()"
   ]
  },
  {
   "cell_type": "code",
   "execution_count": 18,
   "metadata": {},
   "outputs": [
    {
     "name": "stdout",
     "output_type": "stream",
     "text": [
      "Epoch 1/100\n",
      "8115/8115 [==============================] - ETA: 764s - loss: 5.012 - ETA: 611s - loss: 4.987 - ETA: 554s - loss: 4.872 - ETA: 521s - loss: 4.850 - ETA: 501s - loss: 4.879 - ETA: 487s - loss: 4.842 - ETA: 477s - loss: 4.766 - ETA: 470s - loss: 4.785 - ETA: 465s - loss: 4.787 - ETA: 459s - loss: 4.729 - ETA: 454s - loss: 4.681 - ETA: 448s - loss: 4.649 - ETA: 443s - loss: 4.623 - ETA: 438s - loss: 4.583 - ETA: 434s - loss: 4.576 - ETA: 429s - loss: 4.555 - ETA: 425s - loss: 4.534 - ETA: 421s - loss: 4.523 - ETA: 417s - loss: 4.501 - ETA: 414s - loss: 4.495 - ETA: 410s - loss: 4.485 - ETA: 406s - loss: 4.474 - ETA: 402s - loss: 4.464 - ETA: 398s - loss: 4.450 - ETA: 395s - loss: 4.435 - ETA: 393s - loss: 4.424 - ETA: 390s - loss: 4.422 - ETA: 390s - loss: 4.423 - ETA: 388s - loss: 4.420 - ETA: 386s - loss: 4.414 - ETA: 386s - loss: 4.411 - ETA: 382s - loss: 4.407 - ETA: 377s - loss: 4.411 - ETA: 374s - loss: 4.406 - ETA: 370s - loss: 4.396 - ETA: 366s - loss: 4.391 - ETA: 362s - loss: 4.383 - ETA: 357s - loss: 4.378 - ETA: 353s - loss: 4.376 - ETA: 349s - loss: 4.374 - ETA: 345s - loss: 4.373 - ETA: 341s - loss: 4.373 - ETA: 338s - loss: 4.368 - ETA: 335s - loss: 4.365 - ETA: 332s - loss: 4.358 - ETA: 328s - loss: 4.350 - ETA: 325s - loss: 4.345 - ETA: 321s - loss: 4.342 - ETA: 317s - loss: 4.343 - ETA: 312s - loss: 4.339 - ETA: 308s - loss: 4.332 - ETA: 305s - loss: 4.328 - ETA: 302s - loss: 4.325 - ETA: 298s - loss: 4.320 - ETA: 296s - loss: 4.319 - ETA: 293s - loss: 4.325 - ETA: 290s - loss: 4.320 - ETA: 286s - loss: 4.322 - ETA: 281s - loss: 4.323 - ETA: 277s - loss: 4.321 - ETA: 273s - loss: 4.318 - ETA: 269s - loss: 4.318 - ETA: 264s - loss: 4.313 - ETA: 260s - loss: 4.306 - ETA: 256s - loss: 4.304 - ETA: 251s - loss: 4.301 - ETA: 247s - loss: 4.298 - ETA: 243s - loss: 4.296 - ETA: 238s - loss: 4.292 - ETA: 234s - loss: 4.288 - ETA: 230s - loss: 4.287 - ETA: 226s - loss: 4.288 - ETA: 222s - loss: 4.287 - ETA: 219s - loss: 4.287 - ETA: 216s - loss: 4.285 - ETA: 212s - loss: 4.281 - ETA: 208s - loss: 4.277 - ETA: 204s - loss: 4.301 - ETA: 200s - loss: 4.299 - ETA: 196s - loss: 4.298 - ETA: 192s - loss: 4.295 - ETA: 187s - loss: 4.293 - ETA: 183s - loss: 4.289 - ETA: 179s - loss: 4.286 - ETA: 175s - loss: 4.282 - ETA: 171s - loss: 4.284 - ETA: 167s - loss: 4.285 - ETA: 163s - loss: 4.283 - ETA: 159s - loss: 4.281 - ETA: 154s - loss: 4.276 - ETA: 150s - loss: 4.270 - ETA: 146s - loss: 4.263 - ETA: 142s - loss: 4.262 - ETA: 138s - loss: 4.260 - ETA: 133s - loss: 4.258 - ETA: 129s - loss: 4.254 - ETA: 125s - loss: 4.249 - ETA: 121s - loss: 4.247 - ETA: 117s - loss: 4.245 - ETA: 113s - loss: 4.244 - ETA: 109s - loss: 4.242 - ETA: 104s - loss: 4.237 - ETA: 100s - loss: 4.230 - ETA: 96s - loss: 4.236 - ETA: 92s - loss: 4.23 - ETA: 87s - loss: 4.23 - ETA: 83s - loss: 4.23 - ETA: 79s - loss: 4.22 - ETA: 75s - loss: 4.22 - ETA: 70s - loss: 4.22 - ETA: 66s - loss: 4.22 - ETA: 62s - loss: 4.21 - ETA: 58s - loss: 4.21 - ETA: 54s - loss: 4.21 - ETA: 49s - loss: 4.21 - ETA: 45s - loss: 4.21 - ETA: 41s - loss: 4.21 - ETA: 37s - loss: 4.21 - ETA: 32s - loss: 4.20 - ETA: 28s - loss: 4.20 - ETA: 24s - loss: 4.20 - ETA: 20s - loss: 4.20 - ETA: 16s - loss: 4.20 - ETA: 11s - loss: 4.19 - ETA: 7s - loss: 4.1967 - ETA: 3s - loss: 4.195 - 539s - loss: 4.1941   \n",
      "Epoch 2/100\n",
      "8115/8115 [==============================] - ETA: 586s - loss: 3.881 - ETA: 613s - loss: 3.899 - ETA: 602s - loss: 3.849 - ETA: 577s - loss: 3.842 - ETA: 557s - loss: 3.898 - ETA: 543s - loss: 3.962 - ETA: 533s - loss: 3.938 - ETA: 524s - loss: 3.947 - ETA: 515s - loss: 3.936 - ETA: 508s - loss: 3.922 - ETA: 502s - loss: 3.928 - ETA: 496s - loss: 3.930 - ETA: 489s - loss: 3.919 - ETA: 484s - loss: 3.916 - ETA: 479s - loss: 3.918 - ETA: 473s - loss: 3.912 - ETA: 468s - loss: 3.916 - ETA: 463s - loss: 3.913 - ETA: 458s - loss: 3.902 - ETA: 453s - loss: 3.910 - ETA: 448s - loss: 3.928 - ETA: 444s - loss: 3.934 - ETA: 439s - loss: 3.934 - ETA: 434s - loss: 3.929 - ETA: 430s - loss: 3.936 - ETA: 426s - loss: 3.926 - ETA: 421s - loss: 3.925 - ETA: 417s - loss: 3.921 - ETA: 412s - loss: 3.912 - ETA: 408s - loss: 3.914 - ETA: 403s - loss: 3.918 - ETA: 399s - loss: 3.913 - ETA: 395s - loss: 3.907 - ETA: 391s - loss: 3.915 - ETA: 386s - loss: 3.928 - ETA: 382s - loss: 3.928 - ETA: 378s - loss: 3.924 - ETA: 373s - loss: 3.919 - ETA: 369s - loss: 3.914 - ETA: 365s - loss: 3.908 - ETA: 361s - loss: 3.907 - ETA: 357s - loss: 3.904 - ETA: 352s - loss: 3.915 - ETA: 348s - loss: 3.916 - ETA: 344s - loss: 3.916 - ETA: 339s - loss: 3.915 - ETA: 335s - loss: 3.915 - ETA: 331s - loss: 3.916 - ETA: 327s - loss: 3.913 - ETA: 322s - loss: 3.904 - ETA: 318s - loss: 3.908 - ETA: 314s - loss: 3.907 - ETA: 310s - loss: 3.907 - ETA: 306s - loss: 3.904 - ETA: 301s - loss: 3.905 - ETA: 297s - loss: 3.918 - ETA: 293s - loss: 3.913 - ETA: 289s - loss: 3.915 - ETA: 285s - loss: 3.914 - ETA: 280s - loss: 3.915 - ETA: 276s - loss: 3.912 - ETA: 272s - loss: 3.912 - ETA: 268s - loss: 3.908 - ETA: 264s - loss: 3.906 - ETA: 260s - loss: 3.905 - ETA: 255s - loss: 3.902 - ETA: 251s - loss: 3.901 - ETA: 247s - loss: 3.902 - ETA: 243s - loss: 3.903 - ETA: 239s - loss: 3.902 - ETA: 234s - loss: 3.898 - ETA: 230s - loss: 3.901 - ETA: 226s - loss: 3.899 - ETA: 222s - loss: 3.894 - ETA: 217s - loss: 3.897 - ETA: 213s - loss: 3.901 - ETA: 209s - loss: 3.905 - ETA: 205s - loss: 3.907 - ETA: 201s - loss: 3.906 - ETA: 197s - loss: 3.905 - ETA: 192s - loss: 3.902 - ETA: 188s - loss: 3.900 - ETA: 184s - loss: 3.898 - ETA: 180s - loss: 3.900 - ETA: 175s - loss: 3.900 - ETA: 171s - loss: 3.898 - ETA: 167s - loss: 3.900 - ETA: 163s - loss: 3.899 - ETA: 159s - loss: 3.897 - ETA: 154s - loss: 3.895 - ETA: 150s - loss: 3.893 - ETA: 146s - loss: 3.890 - ETA: 142s - loss: 3.889 - ETA: 138s - loss: 3.889 - ETA: 133s - loss: 3.889 - ETA: 129s - loss: 3.888 - ETA: 125s - loss: 3.889 - ETA: 121s - loss: 3.889 - ETA: 117s - loss: 3.893 - ETA: 112s - loss: 3.895 - ETA: 108s - loss: 3.894 - ETA: 104s - loss: 3.894 - ETA: 100s - loss: 3.892 - ETA: 95s - loss: 3.889 - ETA: 91s - loss: 3.88 - ETA: 87s - loss: 3.88 - ETA: 83s - loss: 3.88 - ETA: 79s - loss: 3.88 - ETA: 74s - loss: 3.88 - ETA: 70s - loss: 3.88 - ETA: 66s - loss: 3.88 - ETA: 62s - loss: 3.88 - ETA: 58s - loss: 3.88 - ETA: 53s - loss: 3.88 - ETA: 49s - loss: 3.88 - ETA: 45s - loss: 3.88 - ETA: 41s - loss: 3.88 - ETA: 37s - loss: 3.88 - ETA: 32s - loss: 3.88 - ETA: 28s - loss: 3.88 - ETA: 24s - loss: 3.88 - ETA: 20s - loss: 3.88 - ETA: 15s - loss: 3.88 - ETA: 11s - loss: 3.88 - ETA: 7s - loss: 3.8804 - ETA: 3s - loss: 3.879 - 534s - loss: 3.8776   \n",
      "Epoch 3/100\n",
      "8115/8115 [==============================] - ETA: 534s - loss: 3.923 - ETA: 525s - loss: 3.889 - ETA: 519s - loss: 3.869 - ETA: 513s - loss: 3.859 - ETA: 510s - loss: 3.855 - ETA: 504s - loss: 3.829 - ETA: 502s - loss: 3.868 - ETA: 497s - loss: 3.856 - ETA: 493s - loss: 3.837 - ETA: 489s - loss: 3.829 - ETA: 485s - loss: 3.856 - ETA: 481s - loss: 3.873 - ETA: 476s - loss: 3.872 - ETA: 473s - loss: 3.870 - ETA: 468s - loss: 3.851 - ETA: 464s - loss: 3.839 - ETA: 459s - loss: 3.832 - ETA: 455s - loss: 3.830 - ETA: 451s - loss: 3.818 - ETA: 447s - loss: 3.817 - ETA: 443s - loss: 3.812 - ETA: 439s - loss: 3.812 - ETA: 435s - loss: 3.797 - ETA: 431s - loss: 3.794 - ETA: 427s - loss: 3.795 - ETA: 423s - loss: 3.808 - ETA: 419s - loss: 3.805 - ETA: 415s - loss: 3.797 - ETA: 410s - loss: 3.800 - ETA: 406s - loss: 3.797 - ETA: 402s - loss: 3.807 - ETA: 397s - loss: 3.805 - ETA: 394s - loss: 3.803 - ETA: 389s - loss: 3.796 - ETA: 385s - loss: 3.796 - ETA: 381s - loss: 3.802 - ETA: 377s - loss: 3.803 - ETA: 372s - loss: 3.807 - ETA: 368s - loss: 3.809 - ETA: 364s - loss: 3.803 - ETA: 360s - loss: 3.813 - ETA: 356s - loss: 3.812 - ETA: 351s - loss: 3.810 - ETA: 347s - loss: 3.805 - ETA: 343s - loss: 3.802 - ETA: 339s - loss: 3.797 - ETA: 335s - loss: 3.790 - ETA: 331s - loss: 3.791 - ETA: 326s - loss: 3.793 - ETA: 322s - loss: 3.791 - ETA: 318s - loss: 3.793 - ETA: 314s - loss: 3.791 - ETA: 310s - loss: 3.791 - ETA: 305s - loss: 3.790 - ETA: 301s - loss: 3.790 - ETA: 297s - loss: 3.790 - ETA: 293s - loss: 3.786 - ETA: 289s - loss: 3.784 - ETA: 285s - loss: 3.787 - ETA: 280s - loss: 3.789 - ETA: 276s - loss: 3.788 - ETA: 272s - loss: 3.787 - ETA: 268s - loss: 3.787 - ETA: 264s - loss: 3.787 - ETA: 259s - loss: 3.788 - ETA: 255s - loss: 3.788 - ETA: 251s - loss: 3.787 - ETA: 247s - loss: 3.784 - ETA: 242s - loss: 3.781 - ETA: 238s - loss: 3.783 - ETA: 234s - loss: 3.781 - ETA: 230s - loss: 3.777 - ETA: 226s - loss: 3.776 - ETA: 221s - loss: 3.775 - ETA: 217s - loss: 3.777 - ETA: 213s - loss: 3.774 - ETA: 209s - loss: 3.776 - ETA: 204s - loss: 3.774 - ETA: 200s - loss: 3.772 - ETA: 196s - loss: 3.768 - ETA: 192s - loss: 3.766 - ETA: 188s - loss: 3.765 - ETA: 183s - loss: 3.767 - ETA: 179s - loss: 3.764 - ETA: 175s - loss: 3.765 - ETA: 171s - loss: 3.765 - ETA: 167s - loss: 3.762 - ETA: 162s - loss: 3.762 - ETA: 158s - loss: 3.762 - ETA: 154s - loss: 3.764 - ETA: 150s - loss: 3.763 - ETA: 146s - loss: 3.763 - ETA: 142s - loss: 3.764 - ETA: 137s - loss: 3.765 - ETA: 133s - loss: 3.763 - ETA: 129s - loss: 3.761 - ETA: 125s - loss: 3.758 - ETA: 120s - loss: 3.759 - ETA: 116s - loss: 3.760 - ETA: 112s - loss: 3.759 - ETA: 108s - loss: 3.758 - ETA: 104s - loss: 3.758 - ETA: 99s - loss: 3.759 - ETA: 95s - loss: 3.75 - ETA: 91s - loss: 3.75 - ETA: 87s - loss: 3.75 - ETA: 83s - loss: 3.75 - ETA: 78s - loss: 3.75 - ETA: 74s - loss: 3.75 - ETA: 70s - loss: 3.75 - ETA: 66s - loss: 3.74 - ETA: 62s - loss: 3.74 - ETA: 57s - loss: 3.74 - ETA: 53s - loss: 3.74 - ETA: 49s - loss: 3.74 - ETA: 45s - loss: 3.74 - ETA: 41s - loss: 3.74 - ETA: 36s - loss: 3.74 - ETA: 32s - loss: 3.74 - ETA: 28s - loss: 3.74 - ETA: 24s - loss: 3.74 - ETA: 20s - loss: 3.74 - ETA: 15s - loss: 3.74 - ETA: 11s - loss: 3.75 - ETA: 7s - loss: 3.7501 - ETA: 3s - loss: 3.749 - 533s - loss: 3.7498   \n",
      "Epoch 4/100\n",
      "8115/8115 [==============================] - ETA: 535s - loss: 3.573 - ETA: 529s - loss: 3.700 - ETA: 522s - loss: 3.728 - ETA: 518s - loss: 3.716 - ETA: 514s - loss: 3.717 - ETA: 510s - loss: 3.672 - ETA: 507s - loss: 3.651 - ETA: 502s - loss: 3.660 - ETA: 497s - loss: 3.629 - ETA: 493s - loss: 3.638 - ETA: 489s - loss: 3.649 - ETA: 484s - loss: 3.650 - ETA: 479s - loss: 3.648 - ETA: 476s - loss: 3.632 - ETA: 472s - loss: 3.629 - ETA: 469s - loss: 3.647 - ETA: 466s - loss: 3.643 - ETA: 463s - loss: 3.633 - ETA: 461s - loss: 3.640 - ETA: 458s - loss: 3.649 - ETA: 455s - loss: 3.635 - ETA: 451s - loss: 3.634 - ETA: 448s - loss: 3.638 - ETA: 445s - loss: 3.623 - ETA: 442s - loss: 3.625 - ETA: 438s - loss: 3.628 - ETA: 433s - loss: 3.627 - ETA: 428s - loss: 3.625 - ETA: 423s - loss: 3.626 - ETA: 419s - loss: 3.639 - ETA: 414s - loss: 3.637 - ETA: 409s - loss: 3.640 - ETA: 405s - loss: 3.654 - ETA: 400s - loss: 3.665 - ETA: 395s - loss: 3.663 - ETA: 391s - loss: 3.662 - ETA: 387s - loss: 3.671 - ETA: 382s - loss: 3.668 - ETA: 378s - loss: 3.667 - ETA: 373s - loss: 3.662 - ETA: 369s - loss: 3.657 - ETA: 365s - loss: 3.654 - ETA: 360s - loss: 3.658 - ETA: 356s - loss: 3.653 - ETA: 351s - loss: 3.654 - ETA: 347s - loss: 3.652 - ETA: 342s - loss: 3.655 - ETA: 338s - loss: 3.651 - ETA: 333s - loss: 3.656 - ETA: 329s - loss: 3.652 - ETA: 324s - loss: 3.657 - ETA: 320s - loss: 3.652 - ETA: 315s - loss: 3.651 - ETA: 311s - loss: 3.646 - ETA: 307s - loss: 3.642 - ETA: 302s - loss: 3.640 - ETA: 298s - loss: 3.636 - ETA: 294s - loss: 3.631 - ETA: 289s - loss: 3.628 - ETA: 285s - loss: 3.623 - ETA: 281s - loss: 3.621 - ETA: 276s - loss: 3.619 - ETA: 272s - loss: 3.618 - ETA: 268s - loss: 3.619 - ETA: 263s - loss: 3.616 - ETA: 259s - loss: 3.613 - ETA: 255s - loss: 3.618 - ETA: 250s - loss: 3.620 - ETA: 246s - loss: 3.617 - ETA: 242s - loss: 3.614 - ETA: 237s - loss: 3.611 - ETA: 233s - loss: 3.609 - ETA: 229s - loss: 3.612 - ETA: 224s - loss: 3.610 - ETA: 220s - loss: 3.610 - ETA: 216s - loss: 3.613 - ETA: 212s - loss: 3.611 - ETA: 207s - loss: 3.608 - ETA: 203s - loss: 3.608 - ETA: 199s - loss: 3.607 - ETA: 194s - loss: 3.605 - ETA: 190s - loss: 3.603 - ETA: 186s - loss: 3.601 - ETA: 182s - loss: 3.601 - ETA: 177s - loss: 3.598 - ETA: 173s - loss: 3.598 - ETA: 169s - loss: 3.597 - ETA: 164s - loss: 3.594 - ETA: 160s - loss: 3.595 - ETA: 156s - loss: 3.597 - ETA: 152s - loss: 3.600 - ETA: 147s - loss: 3.598 - ETA: 143s - loss: 3.599 - ETA: 139s - loss: 3.598 - ETA: 135s - loss: 3.594 - ETA: 130s - loss: 3.593 - ETA: 126s - loss: 3.594 - ETA: 122s - loss: 3.594 - ETA: 118s - loss: 3.593 - ETA: 113s - loss: 3.590 - ETA: 109s - loss: 3.591 - ETA: 105s - loss: 3.588 - ETA: 101s - loss: 3.587 - ETA: 96s - loss: 3.586 - ETA: 92s - loss: 3.58 - ETA: 88s - loss: 3.58 - ETA: 84s - loss: 3.58 - ETA: 79s - loss: 3.58 - ETA: 75s - loss: 3.58 - ETA: 71s - loss: 3.57 - ETA: 67s - loss: 3.58 - ETA: 62s - loss: 3.58 - ETA: 58s - loss: 3.58 - ETA: 54s - loss: 3.58 - ETA: 50s - loss: 3.58 - ETA: 45s - loss: 3.58 - ETA: 41s - loss: 3.58 - ETA: 37s - loss: 3.58 - ETA: 33s - loss: 3.58 - ETA: 28s - loss: 3.58 - ETA: 24s - loss: 3.57 - ETA: 20s - loss: 3.57 - ETA: 16s - loss: 3.57 - ETA: 11s - loss: 3.58 - ETA: 7s - loss: 3.5801 - ETA: 3s - loss: 3.579 - 537s - loss: 3.5777   \n",
      "Epoch 5/100\n"
     ]
    },
    {
     "name": "stdout",
     "output_type": "stream",
     "text": [
      "8115/8115 [==============================] - ETA: 539s - loss: 3.175 - ETA: 529s - loss: 3.220 - ETA: 524s - loss: 3.485 - ETA: 519s - loss: 3.486 - ETA: 520s - loss: 3.513 - ETA: 516s - loss: 3.521 - ETA: 511s - loss: 3.459 - ETA: 506s - loss: 3.491 - ETA: 501s - loss: 3.501 - ETA: 495s - loss: 3.497 - ETA: 491s - loss: 3.492 - ETA: 487s - loss: 3.546 - ETA: 483s - loss: 3.602 - ETA: 478s - loss: 3.579 - ETA: 473s - loss: 3.580 - ETA: 469s - loss: 3.561 - ETA: 464s - loss: 3.568 - ETA: 460s - loss: 3.560 - ETA: 456s - loss: 3.562 - ETA: 451s - loss: 3.554 - ETA: 447s - loss: 3.559 - ETA: 442s - loss: 3.559 - ETA: 438s - loss: 3.552 - ETA: 434s - loss: 3.560 - ETA: 429s - loss: 3.587 - ETA: 425s - loss: 3.575 - ETA: 421s - loss: 3.569 - ETA: 417s - loss: 3.566 - ETA: 413s - loss: 3.566 - ETA: 409s - loss: 3.556 - ETA: 404s - loss: 3.545 - ETA: 400s - loss: 3.535 - ETA: 396s - loss: 3.531 - ETA: 393s - loss: 3.533 - ETA: 389s - loss: 3.531 - ETA: 384s - loss: 3.525 - ETA: 380s - loss: 3.521 - ETA: 376s - loss: 3.516 - ETA: 372s - loss: 3.517 - ETA: 367s - loss: 3.508 - ETA: 363s - loss: 3.507 - ETA: 359s - loss: 3.501 - ETA: 355s - loss: 3.497 - ETA: 351s - loss: 3.492 - ETA: 346s - loss: 3.489 - ETA: 342s - loss: 3.485 - ETA: 338s - loss: 3.484 - ETA: 334s - loss: 3.488 - ETA: 329s - loss: 3.482 - ETA: 325s - loss: 3.478 - ETA: 321s - loss: 3.475 - ETA: 316s - loss: 3.471 - ETA: 312s - loss: 3.468 - ETA: 308s - loss: 3.470 - ETA: 304s - loss: 3.467 - ETA: 299s - loss: 3.464 - ETA: 295s - loss: 3.466 - ETA: 291s - loss: 3.463 - ETA: 287s - loss: 3.458 - ETA: 282s - loss: 3.455 - ETA: 278s - loss: 3.457 - ETA: 274s - loss: 3.460 - ETA: 270s - loss: 3.458 - ETA: 265s - loss: 3.457 - ETA: 261s - loss: 3.452 - ETA: 257s - loss: 3.450 - ETA: 253s - loss: 3.450 - ETA: 248s - loss: 3.449 - ETA: 244s - loss: 3.452 - ETA: 240s - loss: 3.453 - ETA: 236s - loss: 3.452 - ETA: 231s - loss: 3.447 - ETA: 227s - loss: 3.443 - ETA: 223s - loss: 3.443 - ETA: 219s - loss: 3.453 - ETA: 215s - loss: 3.450 - ETA: 210s - loss: 3.446 - ETA: 206s - loss: 3.446 - ETA: 202s - loss: 3.447 - ETA: 198s - loss: 3.445 - ETA: 193s - loss: 3.444 - ETA: 189s - loss: 3.442 - ETA: 185s - loss: 3.440 - ETA: 181s - loss: 3.441 - ETA: 176s - loss: 3.443 - ETA: 172s - loss: 3.444 - ETA: 168s - loss: 3.441 - ETA: 164s - loss: 3.441 - ETA: 160s - loss: 3.439 - ETA: 155s - loss: 3.441 - ETA: 151s - loss: 3.445 - ETA: 147s - loss: 3.444 - ETA: 143s - loss: 3.448 - ETA: 138s - loss: 3.449 - ETA: 134s - loss: 3.448 - ETA: 130s - loss: 3.447 - ETA: 126s - loss: 3.449 - ETA: 121s - loss: 3.451 - ETA: 117s - loss: 3.452 - ETA: 113s - loss: 3.449 - ETA: 109s - loss: 3.450 - ETA: 104s - loss: 3.450 - ETA: 100s - loss: 3.449 - ETA: 96s - loss: 3.451 - ETA: 92s - loss: 3.44 - ETA: 88s - loss: 3.44 - ETA: 83s - loss: 3.44 - ETA: 79s - loss: 3.44 - ETA: 75s - loss: 3.44 - ETA: 71s - loss: 3.44 - ETA: 66s - loss: 3.44 - ETA: 62s - loss: 3.44 - ETA: 58s - loss: 3.44 - ETA: 54s - loss: 3.44 - ETA: 49s - loss: 3.44 - ETA: 45s - loss: 3.45 - ETA: 41s - loss: 3.45 - ETA: 37s - loss: 3.45 - ETA: 33s - loss: 3.45 - ETA: 28s - loss: 3.45 - ETA: 24s - loss: 3.45 - ETA: 20s - loss: 3.45 - ETA: 16s - loss: 3.45 - ETA: 11s - loss: 3.45 - ETA: 7s - loss: 3.4546 - ETA: 3s - loss: 3.454 - 537s - loss: 3.4544   \n",
      "Epoch 6/100\n",
      "8115/8115 [==============================] - ETA: 537s - loss: 3.194 - ETA: 531s - loss: 3.298 - ETA: 523s - loss: 3.359 - ETA: 518s - loss: 3.333 - ETA: 514s - loss: 3.385 - ETA: 508s - loss: 3.377 - ETA: 507s - loss: 3.374 - ETA: 502s - loss: 3.348 - ETA: 498s - loss: 3.344 - ETA: 494s - loss: 3.347 - ETA: 490s - loss: 3.338 - ETA: 486s - loss: 3.336 - ETA: 481s - loss: 3.361 - ETA: 476s - loss: 3.359 - ETA: 472s - loss: 3.349 - ETA: 468s - loss: 3.327 - ETA: 464s - loss: 3.311 - ETA: 459s - loss: 3.307 - ETA: 455s - loss: 3.308 - ETA: 451s - loss: 3.307 - ETA: 447s - loss: 3.298 - ETA: 443s - loss: 3.304 - ETA: 439s - loss: 3.304 - ETA: 434s - loss: 3.300 - ETA: 430s - loss: 3.293 - ETA: 426s - loss: 3.298 - ETA: 421s - loss: 3.305 - ETA: 417s - loss: 3.303 - ETA: 413s - loss: 3.307 - ETA: 409s - loss: 3.305 - ETA: 405s - loss: 3.314 - ETA: 400s - loss: 3.308 - ETA: 396s - loss: 3.304 - ETA: 392s - loss: 3.295 - ETA: 387s - loss: 3.295 - ETA: 383s - loss: 3.298 - ETA: 379s - loss: 3.298 - ETA: 375s - loss: 3.301 - ETA: 371s - loss: 3.303 - ETA: 366s - loss: 3.308 - ETA: 362s - loss: 3.310 - ETA: 358s - loss: 3.308 - ETA: 354s - loss: 3.308 - ETA: 349s - loss: 3.310 - ETA: 345s - loss: 3.314 - ETA: 341s - loss: 3.315 - ETA: 337s - loss: 3.313 - ETA: 333s - loss: 3.310 - ETA: 328s - loss: 3.311 - ETA: 324s - loss: 3.315 - ETA: 320s - loss: 3.315 - ETA: 316s - loss: 3.318 - ETA: 311s - loss: 3.316 - ETA: 307s - loss: 3.310 - ETA: 303s - loss: 3.308 - ETA: 299s - loss: 3.313 - ETA: 294s - loss: 3.313 - ETA: 290s - loss: 3.311 - ETA: 286s - loss: 3.311 - ETA: 282s - loss: 3.312 - ETA: 277s - loss: 3.310 - ETA: 273s - loss: 3.305 - ETA: 269s - loss: 3.301 - ETA: 265s - loss: 3.296 - ETA: 261s - loss: 3.320 - ETA: 256s - loss: 3.320 - ETA: 252s - loss: 3.322 - ETA: 248s - loss: 3.322 - ETA: 244s - loss: 3.320 - ETA: 239s - loss: 3.319 - ETA: 235s - loss: 3.317 - ETA: 231s - loss: 3.318 - ETA: 227s - loss: 3.319 - ETA: 223s - loss: 3.320 - ETA: 218s - loss: 3.320 - ETA: 214s - loss: 3.319 - ETA: 210s - loss: 3.320 - ETA: 206s - loss: 3.324 - ETA: 201s - loss: 3.325 - ETA: 197s - loss: 3.328 - ETA: 193s - loss: 3.328 - ETA: 189s - loss: 3.327 - ETA: 184s - loss: 3.328 - ETA: 180s - loss: 3.332 - ETA: 176s - loss: 3.329 - ETA: 172s - loss: 3.326 - ETA: 168s - loss: 3.324 - ETA: 163s - loss: 3.321 - ETA: 159s - loss: 3.318 - ETA: 155s - loss: 3.314 - ETA: 151s - loss: 3.313 - ETA: 146s - loss: 3.316 - ETA: 142s - loss: 3.312 - ETA: 138s - loss: 3.312 - ETA: 134s - loss: 3.312 - ETA: 129s - loss: 3.309 - ETA: 125s - loss: 3.310 - ETA: 121s - loss: 3.310 - ETA: 117s - loss: 3.310 - ETA: 113s - loss: 3.312 - ETA: 108s - loss: 3.313 - ETA: 104s - loss: 3.311 - ETA: 100s - loss: 3.307 - ETA: 96s - loss: 3.308 - ETA: 91s - loss: 3.30 - ETA: 87s - loss: 3.30 - ETA: 83s - loss: 3.31 - ETA: 79s - loss: 3.31 - ETA: 75s - loss: 3.31 - ETA: 70s - loss: 3.31 - ETA: 66s - loss: 3.31 - ETA: 62s - loss: 3.32 - ETA: 58s - loss: 3.32 - ETA: 53s - loss: 3.32 - ETA: 49s - loss: 3.32 - ETA: 45s - loss: 3.32 - ETA: 41s - loss: 3.32 - ETA: 37s - loss: 3.32 - ETA: 32s - loss: 3.32 - ETA: 28s - loss: 3.31 - ETA: 24s - loss: 3.31 - ETA: 20s - loss: 3.31 - ETA: 16s - loss: 3.31 - ETA: 11s - loss: 3.31 - ETA: 7s - loss: 3.3161 - ETA: 3s - loss: 3.316 - 535s - loss: 3.3157   \n",
      "Epoch 7/100\n",
      "8115/8115 [==============================] - ETA: 525s - loss: 3.106 - ETA: 525s - loss: 3.170 - ETA: 524s - loss: 3.104 - ETA: 519s - loss: 3.123 - ETA: 516s - loss: 3.188 - ETA: 511s - loss: 3.167 - ETA: 506s - loss: 3.147 - ETA: 501s - loss: 3.143 - ETA: 497s - loss: 3.141 - ETA: 492s - loss: 3.125 - ETA: 487s - loss: 3.087 - ETA: 484s - loss: 3.074 - ETA: 480s - loss: 3.070 - ETA: 475s - loss: 3.076 - ETA: 471s - loss: 3.096 - ETA: 466s - loss: 3.093 - ETA: 462s - loss: 3.104 - ETA: 458s - loss: 3.111 - ETA: 454s - loss: 3.097 - ETA: 450s - loss: 3.107 - ETA: 445s - loss: 3.099 - ETA: 442s - loss: 3.101 - ETA: 437s - loss: 3.093 - ETA: 433s - loss: 3.101 - ETA: 428s - loss: 3.094 - ETA: 424s - loss: 3.090 - ETA: 420s - loss: 3.084 - ETA: 416s - loss: 3.075 - ETA: 411s - loss: 3.072 - ETA: 407s - loss: 3.072 - ETA: 403s - loss: 3.068 - ETA: 399s - loss: 3.086 - ETA: 394s - loss: 3.121 - ETA: 390s - loss: 3.132 - ETA: 386s - loss: 3.136 - ETA: 381s - loss: 3.135 - ETA: 377s - loss: 3.133 - ETA: 373s - loss: 3.130 - ETA: 369s - loss: 3.132 - ETA: 365s - loss: 3.135 - ETA: 360s - loss: 3.140 - ETA: 356s - loss: 3.141 - ETA: 352s - loss: 3.140 - ETA: 348s - loss: 3.138 - ETA: 344s - loss: 3.134 - ETA: 339s - loss: 3.144 - ETA: 335s - loss: 3.145 - ETA: 331s - loss: 3.147 - ETA: 327s - loss: 3.148 - ETA: 323s - loss: 3.150 - ETA: 319s - loss: 3.150 - ETA: 314s - loss: 3.153 - ETA: 310s - loss: 3.155 - ETA: 306s - loss: 3.155 - ETA: 302s - loss: 3.154 - ETA: 298s - loss: 3.153 - ETA: 293s - loss: 3.150 - ETA: 289s - loss: 3.153 - ETA: 285s - loss: 3.155 - ETA: 281s - loss: 3.157 - ETA: 277s - loss: 3.158 - ETA: 272s - loss: 3.153 - ETA: 268s - loss: 3.158 - ETA: 264s - loss: 3.159 - ETA: 260s - loss: 3.162 - ETA: 256s - loss: 3.159 - ETA: 251s - loss: 3.158 - ETA: 247s - loss: 3.157 - ETA: 243s - loss: 3.156 - ETA: 239s - loss: 3.160 - ETA: 235s - loss: 3.162 - ETA: 230s - loss: 3.161 - ETA: 226s - loss: 3.158 - ETA: 222s - loss: 3.155 - ETA: 218s - loss: 3.160 - ETA: 214s - loss: 3.159 - ETA: 209s - loss: 3.161 - ETA: 205s - loss: 3.160 - ETA: 201s - loss: 3.159 - ETA: 197s - loss: 3.157 - ETA: 193s - loss: 3.160 - ETA: 188s - loss: 3.160 - ETA: 184s - loss: 3.163 - ETA: 180s - loss: 3.164 - ETA: 176s - loss: 3.167 - ETA: 171s - loss: 3.169 - ETA: 167s - loss: 3.171 - ETA: 163s - loss: 3.169 - ETA: 159s - loss: 3.166 - ETA: 155s - loss: 3.162 - ETA: 150s - loss: 3.164 - ETA: 146s - loss: 3.164 - ETA: 142s - loss: 3.165 - ETA: 138s - loss: 3.163 - ETA: 134s - loss: 3.166 - ETA: 129s - loss: 3.166 - ETA: 125s - loss: 3.163 - ETA: 121s - loss: 3.163 - ETA: 117s - loss: 3.163 - ETA: 112s - loss: 3.164 - ETA: 108s - loss: 3.166 - ETA: 104s - loss: 3.165 - ETA: 100s - loss: 3.163 - ETA: 96s - loss: 3.165 - ETA: 91s - loss: 3.16 - ETA: 87s - loss: 3.16 - ETA: 83s - loss: 3.16 - ETA: 79s - loss: 3.16 - ETA: 74s - loss: 3.16 - ETA: 70s - loss: 3.16 - ETA: 66s - loss: 3.16 - ETA: 62s - loss: 3.16 - ETA: 58s - loss: 3.16 - ETA: 53s - loss: 3.16 - ETA: 49s - loss: 3.16 - ETA: 45s - loss: 3.16 - ETA: 41s - loss: 3.17 - ETA: 37s - loss: 3.17 - ETA: 32s - loss: 3.17 - ETA: 28s - loss: 3.17 - ETA: 24s - loss: 3.17 - ETA: 20s - loss: 3.17 - ETA: 16s - loss: 3.17 - ETA: 11s - loss: 3.17 - ETA: 7s - loss: 3.1709 - ETA: 3s - loss: 3.172 - 534s - loss: 3.1712   \n",
      "Epoch 8/100\n",
      "8115/8115 [==============================] - ETA: 552s - loss: 3.070 - ETA: 537s - loss: 3.003 - ETA: 529s - loss: 3.047 - ETA: 523s - loss: 2.982 - ETA: 520s - loss: 3.005 - ETA: 515s - loss: 3.050 - ETA: 510s - loss: 3.072 - ETA: 505s - loss: 3.075 - ETA: 500s - loss: 3.062 - ETA: 496s - loss: 3.052 - ETA: 491s - loss: 3.084 - ETA: 487s - loss: 3.109 - ETA: 483s - loss: 3.094 - ETA: 478s - loss: 3.090 - ETA: 473s - loss: 3.078 - ETA: 469s - loss: 3.085 - ETA: 465s - loss: 3.066 - ETA: 461s - loss: 3.055 - ETA: 457s - loss: 3.073 - ETA: 453s - loss: 3.078 - ETA: 449s - loss: 3.089 - ETA: 444s - loss: 3.089 - ETA: 440s - loss: 3.083 - ETA: 435s - loss: 3.065 - ETA: 431s - loss: 3.072 - ETA: 426s - loss: 3.067 - ETA: 422s - loss: 3.061 - ETA: 418s - loss: 3.066 - ETA: 413s - loss: 3.063 - ETA: 409s - loss: 3.063 - ETA: 405s - loss: 3.065 - ETA: 400s - loss: 3.070 - ETA: 396s - loss: 3.073 - ETA: 392s - loss: 3.080 - ETA: 387s - loss: 3.080 - ETA: 383s - loss: 3.084 - ETA: 379s - loss: 3.093 - ETA: 375s - loss: 3.097 - ETA: 371s - loss: 3.099 - ETA: 366s - loss: 3.093 - ETA: 362s - loss: 3.085 - ETA: 358s - loss: 3.083 - ETA: 354s - loss: 3.081 - ETA: 349s - loss: 3.080 - ETA: 345s - loss: 3.076 - ETA: 341s - loss: 3.086 - ETA: 337s - loss: 3.084 - ETA: 333s - loss: 3.078 - ETA: 328s - loss: 3.080 - ETA: 324s - loss: 3.085 - ETA: 320s - loss: 3.084 - ETA: 316s - loss: 3.083 - ETA: 312s - loss: 3.076 - ETA: 307s - loss: 3.074 - ETA: 303s - loss: 3.073 - ETA: 299s - loss: 3.073 - ETA: 295s - loss: 3.074 - ETA: 290s - loss: 3.075 - ETA: 286s - loss: 3.073 - ETA: 282s - loss: 3.072 - ETA: 278s - loss: 3.073 - ETA: 273s - loss: 3.070 - ETA: 269s - loss: 3.067 - ETA: 265s - loss: 3.064 - ETA: 261s - loss: 3.068 - ETA: 256s - loss: 3.070 - ETA: 252s - loss: 3.071 - ETA: 248s - loss: 3.070 - ETA: 244s - loss: 3.071 - ETA: 239s - loss: 3.069 - ETA: 235s - loss: 3.066 - ETA: 231s - loss: 3.062 - ETA: 227s - loss: 3.061 - ETA: 223s - loss: 3.059 - ETA: 218s - loss: 3.056 - ETA: 214s - loss: 3.059 - ETA: 210s - loss: 3.059 - ETA: 206s - loss: 3.056 - ETA: 201s - loss: 3.058 - ETA: 197s - loss: 3.058 - ETA: 193s - loss: 3.061 - ETA: 189s - loss: 3.060 - ETA: 185s - loss: 3.057 - ETA: 180s - loss: 3.058 - ETA: 176s - loss: 3.056 - ETA: 172s - loss: 3.056 - ETA: 168s - loss: 3.055 - ETA: 163s - loss: 3.052 - ETA: 159s - loss: 3.049 - ETA: 155s - loss: 3.045 - ETA: 151s - loss: 3.047 - ETA: 147s - loss: 3.047 - ETA: 142s - loss: 3.045 - ETA: 138s - loss: 3.045 - ETA: 134s - loss: 3.042 - ETA: 130s - loss: 3.043 - ETA: 125s - loss: 3.042 - ETA: 121s - loss: 3.042 - ETA: 117s - loss: 3.042 - ETA: 113s - loss: 3.040 - ETA: 109s - loss: 3.038 - ETA: 104s - loss: 3.039 - ETA: 100s - loss: 3.041 - ETA: 96s - loss: 3.043 - ETA: 92s - loss: 3.04 - ETA: 87s - loss: 3.03 - ETA: 83s - loss: 3.03 - ETA: 79s - loss: 3.03 - ETA: 75s - loss: 3.03 - ETA: 71s - loss: 3.03 - ETA: 66s - loss: 3.03 - ETA: 62s - loss: 3.03 - ETA: 58s - loss: 3.03 - ETA: 54s - loss: 3.03 - ETA: 49s - loss: 3.03 - ETA: 45s - loss: 3.03 - ETA: 41s - loss: 3.02 - ETA: 37s - loss: 3.02 - ETA: 32s - loss: 3.02 - ETA: 28s - loss: 3.02 - ETA: 24s - loss: 3.02 - ETA: 20s - loss: 3.03 - ETA: 16s - loss: 3.03 - ETA: 11s - loss: 3.02 - ETA: 7s - loss: 3.0261 - ETA: 3s - loss: 3.025 - 536s - loss: 3.0250   \n",
      "Epoch 9/100\n"
     ]
    },
    {
     "name": "stdout",
     "output_type": "stream",
     "text": [
      "8115/8115 [==============================] - ETA: 545s - loss: 2.702 - ETA: 534s - loss: 2.975 - ETA: 523s - loss: 2.875 - ETA: 520s - loss: 2.934 - ETA: 518s - loss: 2.982 - ETA: 514s - loss: 2.981 - ETA: 508s - loss: 2.996 - ETA: 503s - loss: 2.996 - ETA: 499s - loss: 2.998 - ETA: 494s - loss: 2.995 - ETA: 490s - loss: 2.982 - ETA: 487s - loss: 3.028 - ETA: 482s - loss: 3.036 - ETA: 478s - loss: 3.017 - ETA: 473s - loss: 3.024 - ETA: 469s - loss: 3.027 - ETA: 464s - loss: 3.021 - ETA: 459s - loss: 3.037 - ETA: 456s - loss: 3.037 - ETA: 452s - loss: 3.044 - ETA: 447s - loss: 3.028 - ETA: 443s - loss: 3.026 - ETA: 439s - loss: 3.026 - ETA: 434s - loss: 3.019 - ETA: 430s - loss: 3.008 - ETA: 426s - loss: 3.004 - ETA: 422s - loss: 3.006 - ETA: 418s - loss: 3.000 - ETA: 413s - loss: 2.989 - ETA: 409s - loss: 2.992 - ETA: 405s - loss: 2.981 - ETA: 400s - loss: 2.980 - ETA: 396s - loss: 2.972 - ETA: 392s - loss: 2.972 - ETA: 388s - loss: 2.979 - ETA: 384s - loss: 2.971 - ETA: 380s - loss: 2.970 - ETA: 375s - loss: 2.961 - ETA: 371s - loss: 2.962 - ETA: 367s - loss: 2.960 - ETA: 363s - loss: 2.958 - ETA: 358s - loss: 2.953 - ETA: 354s - loss: 2.944 - ETA: 350s - loss: 2.946 - ETA: 346s - loss: 2.946 - ETA: 341s - loss: 2.948 - ETA: 337s - loss: 2.948 - ETA: 333s - loss: 2.941 - ETA: 328s - loss: 2.939 - ETA: 324s - loss: 2.938 - ETA: 320s - loss: 2.938 - ETA: 316s - loss: 2.932 - ETA: 312s - loss: 2.931 - ETA: 307s - loss: 2.934 - ETA: 303s - loss: 2.934 - ETA: 299s - loss: 2.937 - ETA: 295s - loss: 2.937 - ETA: 290s - loss: 2.936 - ETA: 286s - loss: 2.933 - ETA: 282s - loss: 2.930 - ETA: 278s - loss: 2.930 - ETA: 273s - loss: 2.929 - ETA: 269s - loss: 2.929 - ETA: 265s - loss: 2.928 - ETA: 261s - loss: 2.926 - ETA: 256s - loss: 2.926 - ETA: 252s - loss: 2.923 - ETA: 248s - loss: 2.921 - ETA: 244s - loss: 2.914 - ETA: 240s - loss: 2.915 - ETA: 235s - loss: 2.912 - ETA: 231s - loss: 2.911 - ETA: 227s - loss: 2.914 - ETA: 223s - loss: 2.913 - ETA: 218s - loss: 2.912 - ETA: 214s - loss: 2.911 - ETA: 210s - loss: 2.909 - ETA: 206s - loss: 2.909 - ETA: 202s - loss: 2.910 - ETA: 197s - loss: 2.909 - ETA: 193s - loss: 2.910 - ETA: 189s - loss: 2.910 - ETA: 185s - loss: 2.911 - ETA: 180s - loss: 2.914 - ETA: 176s - loss: 2.911 - ETA: 172s - loss: 2.910 - ETA: 168s - loss: 2.910 - ETA: 163s - loss: 2.909 - ETA: 159s - loss: 2.909 - ETA: 155s - loss: 2.908 - ETA: 151s - loss: 2.908 - ETA: 147s - loss: 2.909 - ETA: 142s - loss: 2.907 - ETA: 138s - loss: 2.904 - ETA: 134s - loss: 2.901 - ETA: 130s - loss: 2.901 - ETA: 125s - loss: 2.915 - ETA: 121s - loss: 2.922 - ETA: 117s - loss: 2.924 - ETA: 113s - loss: 2.922 - ETA: 109s - loss: 2.926 - ETA: 104s - loss: 2.927 - ETA: 100s - loss: 2.924 - ETA: 96s - loss: 2.922 - ETA: 92s - loss: 2.92 - ETA: 87s - loss: 2.92 - ETA: 83s - loss: 2.92 - ETA: 79s - loss: 2.92 - ETA: 75s - loss: 2.91 - ETA: 70s - loss: 2.91 - ETA: 66s - loss: 2.91 - ETA: 62s - loss: 2.91 - ETA: 58s - loss: 2.91 - ETA: 54s - loss: 2.91 - ETA: 49s - loss: 2.91 - ETA: 45s - loss: 2.91 - ETA: 41s - loss: 2.91 - ETA: 37s - loss: 2.91 - ETA: 32s - loss: 2.91 - ETA: 28s - loss: 2.91 - ETA: 24s - loss: 2.90 - ETA: 20s - loss: 2.91 - ETA: 16s - loss: 2.91 - ETA: 11s - loss: 2.91 - ETA: 7s - loss: 2.9087 - ETA: 3s - loss: 2.907 - 536s - loss: 2.9060   \n",
      "Epoch 10/100\n",
      "8115/8115 [==============================] - ETA: 531s - loss: 2.965 - ETA: 531s - loss: 2.911 - ETA: 524s - loss: 2.876 - ETA: 519s - loss: 2.848 - ETA: 515s - loss: 2.840 - ETA: 510s - loss: 2.863 - ETA: 506s - loss: 2.845 - ETA: 501s - loss: 2.830 - ETA: 497s - loss: 2.811 - ETA: 493s - loss: 2.800 - ETA: 488s - loss: 2.802 - ETA: 484s - loss: 2.791 - ETA: 480s - loss: 2.806 - ETA: 475s - loss: 2.796 - ETA: 471s - loss: 2.817 - ETA: 467s - loss: 2.815 - ETA: 462s - loss: 2.810 - ETA: 458s - loss: 2.794 - ETA: 454s - loss: 2.800 - ETA: 450s - loss: 2.803 - ETA: 446s - loss: 2.805 - ETA: 442s - loss: 2.820 - ETA: 438s - loss: 2.813 - ETA: 433s - loss: 2.799 - ETA: 429s - loss: 2.801 - ETA: 424s - loss: 2.800 - ETA: 420s - loss: 2.799 - ETA: 416s - loss: 2.800 - ETA: 412s - loss: 2.787 - ETA: 408s - loss: 2.790 - ETA: 403s - loss: 2.780 - ETA: 399s - loss: 2.776 - ETA: 395s - loss: 2.789 - ETA: 391s - loss: 2.806 - ETA: 387s - loss: 2.801 - ETA: 382s - loss: 2.800 - ETA: 378s - loss: 2.801 - ETA: 374s - loss: 2.799 - ETA: 370s - loss: 2.792 - ETA: 366s - loss: 2.786 - ETA: 361s - loss: 2.783 - ETA: 357s - loss: 2.782 - ETA: 353s - loss: 2.774 - ETA: 349s - loss: 2.786 - ETA: 345s - loss: 2.785 - ETA: 340s - loss: 2.777 - ETA: 336s - loss: 2.777 - ETA: 332s - loss: 2.775 - ETA: 328s - loss: 2.777 - ETA: 324s - loss: 2.775 - ETA: 319s - loss: 2.776 - ETA: 315s - loss: 2.775 - ETA: 311s - loss: 2.777 - ETA: 307s - loss: 2.777 - ETA: 302s - loss: 2.778 - ETA: 298s - loss: 2.773 - ETA: 294s - loss: 2.776 - ETA: 290s - loss: 2.778 - ETA: 286s - loss: 2.789 - ETA: 281s - loss: 2.792 - ETA: 277s - loss: 2.797 - ETA: 273s - loss: 2.799 - ETA: 269s - loss: 2.799 - ETA: 264s - loss: 2.798 - ETA: 260s - loss: 2.796 - ETA: 256s - loss: 2.795 - ETA: 252s - loss: 2.792 - ETA: 248s - loss: 2.790 - ETA: 243s - loss: 2.790 - ETA: 239s - loss: 2.788 - ETA: 235s - loss: 2.784 - ETA: 231s - loss: 2.781 - ETA: 227s - loss: 2.778 - ETA: 222s - loss: 2.775 - ETA: 218s - loss: 2.779 - ETA: 214s - loss: 2.774 - ETA: 210s - loss: 2.776 - ETA: 206s - loss: 2.775 - ETA: 201s - loss: 2.777 - ETA: 197s - loss: 2.779 - ETA: 193s - loss: 2.780 - ETA: 189s - loss: 2.775 - ETA: 184s - loss: 2.772 - ETA: 180s - loss: 2.772 - ETA: 176s - loss: 2.777 - ETA: 172s - loss: 2.776 - ETA: 168s - loss: 2.774 - ETA: 163s - loss: 2.774 - ETA: 159s - loss: 2.773 - ETA: 155s - loss: 2.774 - ETA: 151s - loss: 2.774 - ETA: 146s - loss: 2.779 - ETA: 142s - loss: 2.779 - ETA: 138s - loss: 2.780 - ETA: 134s - loss: 2.777 - ETA: 130s - loss: 2.776 - ETA: 125s - loss: 2.775 - ETA: 121s - loss: 2.778 - ETA: 117s - loss: 2.778 - ETA: 113s - loss: 2.776 - ETA: 108s - loss: 2.776 - ETA: 104s - loss: 2.774 - ETA: 100s - loss: 2.773 - ETA: 96s - loss: 2.772 - ETA: 92s - loss: 2.77 - ETA: 87s - loss: 2.77 - ETA: 83s - loss: 2.77 - ETA: 79s - loss: 2.77 - ETA: 75s - loss: 2.77 - ETA: 70s - loss: 2.77 - ETA: 66s - loss: 2.77 - ETA: 62s - loss: 2.77 - ETA: 58s - loss: 2.77 - ETA: 54s - loss: 2.78 - ETA: 49s - loss: 2.77 - ETA: 45s - loss: 2.77 - ETA: 41s - loss: 2.77 - ETA: 37s - loss: 2.77 - ETA: 32s - loss: 2.77 - ETA: 28s - loss: 2.77 - ETA: 24s - loss: 2.77 - ETA: 20s - loss: 2.77 - ETA: 16s - loss: 2.77 - ETA: 11s - loss: 2.77 - ETA: 7s - loss: 2.7768 - ETA: 3s - loss: 2.777 - 536s - loss: 2.7749   \n",
      "Epoch 11/100\n",
      "8115/8115 [==============================] - ETA: 531s - loss: 2.620 - ETA: 528s - loss: 2.565 - ETA: 521s - loss: 2.609 - ETA: 517s - loss: 2.679 - ETA: 513s - loss: 2.673 - ETA: 511s - loss: 2.686 - ETA: 507s - loss: 2.757 - ETA: 503s - loss: 2.742 - ETA: 499s - loss: 2.786 - ETA: 495s - loss: 2.803 - ETA: 490s - loss: 2.785 - ETA: 486s - loss: 2.758 - ETA: 482s - loss: 2.756 - ETA: 477s - loss: 2.754 - ETA: 473s - loss: 2.748 - ETA: 469s - loss: 2.750 - ETA: 464s - loss: 2.747 - ETA: 459s - loss: 2.736 - ETA: 455s - loss: 2.725 - ETA: 451s - loss: 2.714 - ETA: 447s - loss: 2.717 - ETA: 443s - loss: 2.708 - ETA: 439s - loss: 2.701 - ETA: 434s - loss: 2.691 - ETA: 430s - loss: 2.700 - ETA: 425s - loss: 2.688 - ETA: 421s - loss: 2.686 - ETA: 417s - loss: 2.689 - ETA: 413s - loss: 2.686 - ETA: 408s - loss: 2.688 - ETA: 404s - loss: 2.677 - ETA: 400s - loss: 2.682 - ETA: 396s - loss: 2.684 - ETA: 391s - loss: 2.678 - ETA: 387s - loss: 2.679 - ETA: 383s - loss: 2.675 - ETA: 379s - loss: 2.678 - ETA: 375s - loss: 2.679 - ETA: 370s - loss: 2.677 - ETA: 366s - loss: 2.674 - ETA: 362s - loss: 2.671 - ETA: 357s - loss: 2.684 - ETA: 353s - loss: 2.690 - ETA: 349s - loss: 2.690 - ETA: 345s - loss: 2.695 - ETA: 340s - loss: 2.690 - ETA: 336s - loss: 2.698 - ETA: 332s - loss: 2.706 - ETA: 328s - loss: 2.702 - ETA: 323s - loss: 2.700 - ETA: 319s - loss: 2.693 - ETA: 315s - loss: 2.689 - ETA: 311s - loss: 2.688 - ETA: 307s - loss: 2.694 - ETA: 303s - loss: 2.696 - ETA: 298s - loss: 2.700 - ETA: 294s - loss: 2.703 - ETA: 290s - loss: 2.705 - ETA: 286s - loss: 2.700 - ETA: 281s - loss: 2.696 - ETA: 277s - loss: 2.699 - ETA: 273s - loss: 2.699 - ETA: 269s - loss: 2.698 - ETA: 265s - loss: 2.700 - ETA: 260s - loss: 2.696 - ETA: 256s - loss: 2.691 - ETA: 252s - loss: 2.686 - ETA: 248s - loss: 2.682 - ETA: 244s - loss: 2.679 - ETA: 240s - loss: 2.675 - ETA: 235s - loss: 2.678 - ETA: 231s - loss: 2.677 - ETA: 227s - loss: 2.678 - ETA: 223s - loss: 2.677 - ETA: 218s - loss: 2.672 - ETA: 214s - loss: 2.669 - ETA: 210s - loss: 2.673 - ETA: 206s - loss: 2.669 - ETA: 202s - loss: 2.668 - ETA: 197s - loss: 2.669 - ETA: 193s - loss: 2.673 - ETA: 189s - loss: 2.673 - ETA: 185s - loss: 2.673 - ETA: 181s - loss: 2.675 - ETA: 176s - loss: 2.672 - ETA: 172s - loss: 2.671 - ETA: 168s - loss: 2.672 - ETA: 164s - loss: 2.672 - ETA: 159s - loss: 2.671 - ETA: 155s - loss: 2.672 - ETA: 151s - loss: 2.667 - ETA: 147s - loss: 2.668 - ETA: 142s - loss: 2.668 - ETA: 138s - loss: 2.670 - ETA: 134s - loss: 2.671 - ETA: 130s - loss: 2.667 - ETA: 126s - loss: 2.667 - ETA: 121s - loss: 2.668 - ETA: 117s - loss: 2.667 - ETA: 113s - loss: 2.667 - ETA: 109s - loss: 2.665 - ETA: 104s - loss: 2.662 - ETA: 100s - loss: 2.664 - ETA: 96s - loss: 2.666 - ETA: 92s - loss: 2.66 - ETA: 88s - loss: 2.66 - ETA: 83s - loss: 2.66 - ETA: 79s - loss: 2.66 - ETA: 75s - loss: 2.66 - ETA: 71s - loss: 2.66 - ETA: 66s - loss: 2.65 - ETA: 62s - loss: 2.65 - ETA: 58s - loss: 2.65 - ETA: 54s - loss: 2.65 - ETA: 49s - loss: 2.65 - ETA: 45s - loss: 2.65 - ETA: 41s - loss: 2.65 - ETA: 37s - loss: 2.65 - ETA: 33s - loss: 2.65 - ETA: 28s - loss: 2.65 - ETA: 24s - loss: 2.65 - ETA: 20s - loss: 2.65 - ETA: 16s - loss: 2.64 - ETA: 11s - loss: 2.64 - ETA: 7s - loss: 2.6471 - ETA: 3s - loss: 2.646 - 537s - loss: 2.6429   \n",
      "Epoch 12/100\n",
      "8115/8115 [==============================] - ETA: 531s - loss: 2.196 - ETA: 529s - loss: 2.279 - ETA: 522s - loss: 2.213 - ETA: 517s - loss: 2.174 - ETA: 514s - loss: 2.320 - ETA: 508s - loss: 2.349 - ETA: 505s - loss: 2.351 - ETA: 503s - loss: 2.338 - ETA: 499s - loss: 2.366 - ETA: 495s - loss: 2.426 - ETA: 490s - loss: 2.426 - ETA: 486s - loss: 2.415 - ETA: 481s - loss: 2.426 - ETA: 477s - loss: 2.421 - ETA: 473s - loss: 2.433 - ETA: 469s - loss: 2.431 - ETA: 464s - loss: 2.445 - ETA: 460s - loss: 2.460 - ETA: 456s - loss: 2.458 - ETA: 451s - loss: 2.457 - ETA: 447s - loss: 2.464 - ETA: 443s - loss: 2.467 - ETA: 439s - loss: 2.475 - ETA: 435s - loss: 2.460 - ETA: 431s - loss: 2.454 - ETA: 426s - loss: 2.452 - ETA: 422s - loss: 2.461 - ETA: 418s - loss: 2.449 - ETA: 413s - loss: 2.462 - ETA: 409s - loss: 2.477 - ETA: 405s - loss: 2.466 - ETA: 401s - loss: 2.461 - ETA: 397s - loss: 2.460 - ETA: 393s - loss: 2.455 - ETA: 388s - loss: 2.450 - ETA: 384s - loss: 2.448 - ETA: 380s - loss: 2.443 - ETA: 376s - loss: 2.446 - ETA: 371s - loss: 2.442 - ETA: 367s - loss: 2.444 - ETA: 363s - loss: 2.447 - ETA: 358s - loss: 2.444 - ETA: 354s - loss: 2.451 - ETA: 350s - loss: 2.457 - ETA: 346s - loss: 2.459 - ETA: 341s - loss: 2.461 - ETA: 337s - loss: 2.467 - ETA: 333s - loss: 2.468 - ETA: 329s - loss: 2.465 - ETA: 325s - loss: 2.467 - ETA: 321s - loss: 2.466 - ETA: 317s - loss: 2.458 - ETA: 312s - loss: 2.453 - ETA: 308s - loss: 2.451 - ETA: 304s - loss: 2.457 - ETA: 300s - loss: 2.459 - ETA: 296s - loss: 2.461 - ETA: 291s - loss: 2.467 - ETA: 287s - loss: 2.466 - ETA: 283s - loss: 2.471 - ETA: 279s - loss: 2.476 - ETA: 274s - loss: 2.473 - ETA: 270s - loss: 2.474 - ETA: 266s - loss: 2.476 - ETA: 262s - loss: 2.479 - ETA: 257s - loss: 2.484 - ETA: 253s - loss: 2.490 - ETA: 249s - loss: 2.486 - ETA: 245s - loss: 2.489 - ETA: 240s - loss: 2.487 - ETA: 236s - loss: 2.487 - ETA: 232s - loss: 2.486 - ETA: 228s - loss: 2.481 - ETA: 223s - loss: 2.481 - ETA: 219s - loss: 2.485 - ETA: 215s - loss: 2.489 - ETA: 211s - loss: 2.485 - ETA: 206s - loss: 2.484 - ETA: 202s - loss: 2.485 - ETA: 198s - loss: 2.484 - ETA: 194s - loss: 2.485 - ETA: 190s - loss: 2.484 - ETA: 185s - loss: 2.483 - ETA: 181s - loss: 2.482 - ETA: 177s - loss: 2.481 - ETA: 173s - loss: 2.486 - ETA: 168s - loss: 2.490 - ETA: 164s - loss: 2.494 - ETA: 160s - loss: 2.493 - ETA: 156s - loss: 2.493 - ETA: 151s - loss: 2.493 - ETA: 147s - loss: 2.494 - ETA: 143s - loss: 2.497 - ETA: 139s - loss: 2.499 - ETA: 134s - loss: 2.495 - ETA: 130s - loss: 2.495 - ETA: 126s - loss: 2.499 - ETA: 122s - loss: 2.498 - ETA: 117s - loss: 2.497 - ETA: 113s - loss: 2.500 - ETA: 109s - loss: 2.500 - ETA: 105s - loss: 2.500 - ETA: 100s - loss: 2.500 - ETA: 96s - loss: 2.499 - ETA: 92s - loss: 2.49 - ETA: 88s - loss: 2.49 - ETA: 83s - loss: 2.49 - ETA: 79s - loss: 2.49 - ETA: 75s - loss: 2.50 - ETA: 71s - loss: 2.50 - ETA: 66s - loss: 2.50 - ETA: 62s - loss: 2.50 - ETA: 58s - loss: 2.49 - ETA: 54s - loss: 2.49 - ETA: 50s - loss: 2.50 - ETA: 45s - loss: 2.49 - ETA: 41s - loss: 2.49 - ETA: 37s - loss: 2.49 - ETA: 33s - loss: 2.49 - ETA: 28s - loss: 2.49 - ETA: 24s - loss: 2.49 - ETA: 20s - loss: 2.49 - ETA: 16s - loss: 2.49 - ETA: 11s - loss: 2.49 - ETA: 7s - loss: 2.4967 - ETA: 3s - loss: 2.494 - 538s - loss: 2.4927   \n",
      "Epoch 13/100\n"
     ]
    },
    {
     "name": "stdout",
     "output_type": "stream",
     "text": [
      "8115/8115 [==============================] - ETA: 540s - loss: 2.150 - ETA: 532s - loss: 2.149 - ETA: 529s - loss: 2.244 - ETA: 522s - loss: 2.250 - ETA: 517s - loss: 2.290 - ETA: 510s - loss: 2.328 - ETA: 507s - loss: 2.340 - ETA: 503s - loss: 2.336 - ETA: 499s - loss: 2.327 - ETA: 494s - loss: 2.309 - ETA: 490s - loss: 2.301 - ETA: 488s - loss: 2.298 - ETA: 483s - loss: 2.313 - ETA: 479s - loss: 2.300 - ETA: 474s - loss: 2.294 - ETA: 470s - loss: 2.295 - ETA: 466s - loss: 2.319 - ETA: 462s - loss: 2.320 - ETA: 457s - loss: 2.343 - ETA: 453s - loss: 2.324 - ETA: 449s - loss: 2.323 - ETA: 444s - loss: 2.327 - ETA: 440s - loss: 2.326 - ETA: 436s - loss: 2.318 - ETA: 432s - loss: 2.332 - ETA: 428s - loss: 2.324 - ETA: 423s - loss: 2.329 - ETA: 419s - loss: 2.336 - ETA: 415s - loss: 2.345 - ETA: 410s - loss: 2.353 - ETA: 406s - loss: 2.354 - ETA: 402s - loss: 2.348 - ETA: 398s - loss: 2.349 - ETA: 394s - loss: 2.345 - ETA: 389s - loss: 2.344 - ETA: 385s - loss: 2.345 - ETA: 381s - loss: 2.350 - ETA: 377s - loss: 2.354 - ETA: 372s - loss: 2.360 - ETA: 368s - loss: 2.359 - ETA: 364s - loss: 2.357 - ETA: 359s - loss: 2.355 - ETA: 355s - loss: 2.353 - ETA: 351s - loss: 2.351 - ETA: 347s - loss: 2.350 - ETA: 343s - loss: 2.343 - ETA: 338s - loss: 2.346 - ETA: 334s - loss: 2.348 - ETA: 330s - loss: 2.353 - ETA: 325s - loss: 2.357 - ETA: 321s - loss: 2.353 - ETA: 317s - loss: 2.350 - ETA: 313s - loss: 2.352 - ETA: 308s - loss: 2.353 - ETA: 304s - loss: 2.351 - ETA: 300s - loss: 2.353 - ETA: 296s - loss: 2.349 - ETA: 291s - loss: 2.347 - ETA: 287s - loss: 2.350 - ETA: 283s - loss: 2.349 - ETA: 279s - loss: 2.349 - ETA: 274s - loss: 2.355 - ETA: 270s - loss: 2.358 - ETA: 266s - loss: 2.350 - ETA: 262s - loss: 2.350 - ETA: 257s - loss: 2.346 - ETA: 253s - loss: 2.348 - ETA: 249s - loss: 2.353 - ETA: 245s - loss: 2.352 - ETA: 240s - loss: 2.352 - ETA: 236s - loss: 2.353 - ETA: 232s - loss: 2.356 - ETA: 228s - loss: 2.351 - ETA: 223s - loss: 2.353 - ETA: 219s - loss: 2.352 - ETA: 215s - loss: 2.352 - ETA: 211s - loss: 2.351 - ETA: 207s - loss: 2.349 - ETA: 202s - loss: 2.352 - ETA: 198s - loss: 2.368 - ETA: 194s - loss: 2.365 - ETA: 189s - loss: 2.365 - ETA: 185s - loss: 2.363 - ETA: 181s - loss: 2.365 - ETA: 177s - loss: 2.366 - ETA: 172s - loss: 2.367 - ETA: 168s - loss: 2.369 - ETA: 164s - loss: 2.369 - ETA: 160s - loss: 2.365 - ETA: 156s - loss: 2.362 - ETA: 151s - loss: 2.360 - ETA: 147s - loss: 2.359 - ETA: 143s - loss: 2.356 - ETA: 139s - loss: 2.357 - ETA: 134s - loss: 2.358 - ETA: 130s - loss: 2.360 - ETA: 126s - loss: 2.358 - ETA: 122s - loss: 2.357 - ETA: 117s - loss: 2.358 - ETA: 113s - loss: 2.359 - ETA: 109s - loss: 2.359 - ETA: 105s - loss: 2.358 - ETA: 100s - loss: 2.354 - ETA: 96s - loss: 2.353 - ETA: 92s - loss: 2.35 - ETA: 88s - loss: 2.35 - ETA: 83s - loss: 2.35 - ETA: 79s - loss: 2.35 - ETA: 75s - loss: 2.35 - ETA: 71s - loss: 2.35 - ETA: 67s - loss: 2.35 - ETA: 62s - loss: 2.34 - ETA: 58s - loss: 2.35 - ETA: 54s - loss: 2.35 - ETA: 50s - loss: 2.35 - ETA: 45s - loss: 2.35 - ETA: 41s - loss: 2.35 - ETA: 37s - loss: 2.35 - ETA: 33s - loss: 2.35 - ETA: 28s - loss: 2.35 - ETA: 24s - loss: 2.35 - ETA: 20s - loss: 2.35 - ETA: 16s - loss: 2.35 - ETA: 11s - loss: 2.35 - ETA: 7s - loss: 2.3586 - ETA: 3s - loss: 2.357 - 538s - loss: 2.3570   \n",
      "Epoch 14/100\n",
      "8115/8115 [==============================] - ETA: 532s - loss: 2.162 - ETA: 529s - loss: 2.205 - ETA: 523s - loss: 2.172 - ETA: 518s - loss: 2.300 - ETA: 514s - loss: 2.283 - ETA: 508s - loss: 2.268 - ETA: 503s - loss: 2.230 - ETA: 498s - loss: 2.236 - ETA: 495s - loss: 2.197 - ETA: 490s - loss: 2.205 - ETA: 485s - loss: 2.213 - ETA: 482s - loss: 2.221 - ETA: 478s - loss: 2.216 - ETA: 474s - loss: 2.211 - ETA: 470s - loss: 2.199 - ETA: 466s - loss: 2.197 - ETA: 461s - loss: 2.199 - ETA: 457s - loss: 2.187 - ETA: 453s - loss: 2.187 - ETA: 449s - loss: 2.176 - ETA: 445s - loss: 2.175 - ETA: 441s - loss: 2.177 - ETA: 437s - loss: 2.192 - ETA: 433s - loss: 2.189 - ETA: 429s - loss: 2.194 - ETA: 425s - loss: 2.194 - ETA: 421s - loss: 2.192 - ETA: 416s - loss: 2.201 - ETA: 412s - loss: 2.199 - ETA: 408s - loss: 2.195 - ETA: 404s - loss: 2.193 - ETA: 399s - loss: 2.196 - ETA: 395s - loss: 2.201 - ETA: 391s - loss: 2.200 - ETA: 387s - loss: 2.199 - ETA: 383s - loss: 2.198 - ETA: 379s - loss: 2.201 - ETA: 375s - loss: 2.204 - ETA: 370s - loss: 2.202 - ETA: 366s - loss: 2.213 - ETA: 362s - loss: 2.219 - ETA: 358s - loss: 2.223 - ETA: 353s - loss: 2.223 - ETA: 349s - loss: 2.221 - ETA: 345s - loss: 2.215 - ETA: 341s - loss: 2.211 - ETA: 336s - loss: 2.202 - ETA: 332s - loss: 2.200 - ETA: 328s - loss: 2.202 - ETA: 324s - loss: 2.207 - ETA: 320s - loss: 2.210 - ETA: 316s - loss: 2.212 - ETA: 311s - loss: 2.211 - ETA: 307s - loss: 2.207 - ETA: 303s - loss: 2.212 - ETA: 299s - loss: 2.209 - ETA: 294s - loss: 2.212 - ETA: 290s - loss: 2.214 - ETA: 286s - loss: 2.215 - ETA: 282s - loss: 2.214 - ETA: 278s - loss: 2.213 - ETA: 273s - loss: 2.211 - ETA: 269s - loss: 2.211 - ETA: 265s - loss: 2.213 - ETA: 261s - loss: 2.217 - ETA: 257s - loss: 2.215 - ETA: 252s - loss: 2.214 - ETA: 248s - loss: 2.217 - ETA: 244s - loss: 2.217 - ETA: 240s - loss: 2.219 - ETA: 235s - loss: 2.218 - ETA: 231s - loss: 2.215 - ETA: 227s - loss: 2.216 - ETA: 223s - loss: 2.218 - ETA: 218s - loss: 2.217 - ETA: 214s - loss: 2.215 - ETA: 210s - loss: 2.217 - ETA: 206s - loss: 2.220 - ETA: 202s - loss: 2.221 - ETA: 197s - loss: 2.220 - ETA: 193s - loss: 2.222 - ETA: 189s - loss: 2.220 - ETA: 185s - loss: 2.223 - ETA: 181s - loss: 2.224 - ETA: 176s - loss: 2.224 - ETA: 172s - loss: 2.225 - ETA: 168s - loss: 2.225 - ETA: 164s - loss: 2.226 - ETA: 159s - loss: 2.225 - ETA: 155s - loss: 2.226 - ETA: 151s - loss: 2.224 - ETA: 147s - loss: 2.222 - ETA: 142s - loss: 2.224 - ETA: 138s - loss: 2.222 - ETA: 134s - loss: 2.222 - ETA: 130s - loss: 2.225 - ETA: 125s - loss: 2.227 - ETA: 121s - loss: 2.227 - ETA: 117s - loss: 2.236 - ETA: 113s - loss: 2.238 - ETA: 109s - loss: 2.239 - ETA: 104s - loss: 2.239 - ETA: 100s - loss: 2.239 - ETA: 96s - loss: 2.242 - ETA: 92s - loss: 2.24 - ETA: 87s - loss: 2.24 - ETA: 83s - loss: 2.24 - ETA: 79s - loss: 2.24 - ETA: 75s - loss: 2.23 - ETA: 71s - loss: 2.23 - ETA: 66s - loss: 2.23 - ETA: 62s - loss: 2.23 - ETA: 58s - loss: 2.23 - ETA: 54s - loss: 2.23 - ETA: 49s - loss: 2.23 - ETA: 45s - loss: 2.23 - ETA: 41s - loss: 2.23 - ETA: 37s - loss: 2.23 - ETA: 32s - loss: 2.23 - ETA: 28s - loss: 2.22 - ETA: 24s - loss: 2.22 - ETA: 20s - loss: 2.22 - ETA: 16s - loss: 2.22 - ETA: 11s - loss: 2.22 - ETA: 7s - loss: 2.2236 - ETA: 3s - loss: 2.221 - 536s - loss: 2.2209   \n",
      "Epoch 15/100\n",
      "8115/8115 [==============================] - ETA: 530s - loss: 2.476 - ETA: 527s - loss: 2.343 - ETA: 524s - loss: 2.224 - ETA: 520s - loss: 2.346 - ETA: 517s - loss: 2.313 - ETA: 513s - loss: 2.275 - ETA: 508s - loss: 2.289 - ETA: 503s - loss: 2.267 - ETA: 500s - loss: 2.274 - ETA: 495s - loss: 2.253 - ETA: 490s - loss: 2.248 - ETA: 486s - loss: 2.232 - ETA: 481s - loss: 2.239 - ETA: 477s - loss: 2.228 - ETA: 472s - loss: 2.227 - ETA: 468s - loss: 2.194 - ETA: 464s - loss: 2.179 - ETA: 459s - loss: 2.163 - ETA: 455s - loss: 2.148 - ETA: 451s - loss: 2.153 - ETA: 447s - loss: 2.154 - ETA: 442s - loss: 2.152 - ETA: 438s - loss: 2.148 - ETA: 434s - loss: 2.149 - ETA: 430s - loss: 2.136 - ETA: 426s - loss: 2.125 - ETA: 422s - loss: 2.124 - ETA: 417s - loss: 2.112 - ETA: 413s - loss: 2.113 - ETA: 409s - loss: 2.111 - ETA: 405s - loss: 2.113 - ETA: 400s - loss: 2.115 - ETA: 396s - loss: 2.132 - ETA: 392s - loss: 2.127 - ETA: 388s - loss: 2.123 - ETA: 383s - loss: 2.120 - ETA: 379s - loss: 2.120 - ETA: 375s - loss: 2.118 - ETA: 371s - loss: 2.123 - ETA: 367s - loss: 2.119 - ETA: 363s - loss: 2.112 - ETA: 358s - loss: 2.108 - ETA: 354s - loss: 2.106 - ETA: 350s - loss: 2.120 - ETA: 346s - loss: 2.118 - ETA: 341s - loss: 2.118 - ETA: 337s - loss: 2.125 - ETA: 333s - loss: 2.127 - ETA: 329s - loss: 2.123 - ETA: 324s - loss: 2.117 - ETA: 320s - loss: 2.117 - ETA: 316s - loss: 2.118 - ETA: 312s - loss: 2.117 - ETA: 307s - loss: 2.120 - ETA: 303s - loss: 2.119 - ETA: 299s - loss: 2.115 - ETA: 295s - loss: 2.116 - ETA: 291s - loss: 2.118 - ETA: 286s - loss: 2.119 - ETA: 282s - loss: 2.119 - ETA: 278s - loss: 2.117 - ETA: 274s - loss: 2.114 - ETA: 269s - loss: 2.118 - ETA: 265s - loss: 2.117 - ETA: 261s - loss: 2.112 - ETA: 257s - loss: 2.110 - ETA: 253s - loss: 2.110 - ETA: 248s - loss: 2.116 - ETA: 244s - loss: 2.115 - ETA: 240s - loss: 2.113 - ETA: 236s - loss: 2.117 - ETA: 231s - loss: 2.117 - ETA: 227s - loss: 2.119 - ETA: 223s - loss: 2.116 - ETA: 219s - loss: 2.113 - ETA: 214s - loss: 2.108 - ETA: 210s - loss: 2.108 - ETA: 206s - loss: 2.107 - ETA: 202s - loss: 2.105 - ETA: 197s - loss: 2.105 - ETA: 193s - loss: 2.106 - ETA: 189s - loss: 2.108 - ETA: 185s - loss: 2.104 - ETA: 181s - loss: 2.104 - ETA: 176s - loss: 2.106 - ETA: 172s - loss: 2.104 - ETA: 168s - loss: 2.106 - ETA: 164s - loss: 2.109 - ETA: 159s - loss: 2.111 - ETA: 155s - loss: 2.110 - ETA: 151s - loss: 2.115 - ETA: 147s - loss: 2.124 - ETA: 143s - loss: 2.128 - ETA: 138s - loss: 2.128 - ETA: 134s - loss: 2.128 - ETA: 130s - loss: 2.131 - ETA: 126s - loss: 2.134 - ETA: 121s - loss: 2.135 - ETA: 117s - loss: 2.133 - ETA: 113s - loss: 2.132 - ETA: 109s - loss: 2.130 - ETA: 105s - loss: 2.128 - ETA: 100s - loss: 2.128 - ETA: 96s - loss: 2.129 - ETA: 92s - loss: 2.12 - ETA: 88s - loss: 2.12 - ETA: 83s - loss: 2.12 - ETA: 79s - loss: 2.12 - ETA: 75s - loss: 2.12 - ETA: 71s - loss: 2.12 - ETA: 66s - loss: 2.12 - ETA: 62s - loss: 2.12 - ETA: 58s - loss: 2.11 - ETA: 54s - loss: 2.11 - ETA: 49s - loss: 2.11 - ETA: 45s - loss: 2.11 - ETA: 41s - loss: 2.11 - ETA: 37s - loss: 2.11 - ETA: 33s - loss: 2.11 - ETA: 28s - loss: 2.11 - ETA: 24s - loss: 2.11 - ETA: 20s - loss: 2.11 - ETA: 16s - loss: 2.11 - ETA: 11s - loss: 2.11 - ETA: 7s - loss: 2.1161 - ETA: 3s - loss: 2.115 - 537s - loss: 2.1148   \n",
      "Epoch 16/100\n",
      "8115/8115 [==============================] - ETA: 539s - loss: 1.937 - ETA: 531s - loss: 1.806 - ETA: 525s - loss: 1.827 - ETA: 520s - loss: 1.787 - ETA: 517s - loss: 1.831 - ETA: 511s - loss: 1.839 - ETA: 507s - loss: 1.824 - ETA: 503s - loss: 1.863 - ETA: 498s - loss: 1.877 - ETA: 495s - loss: 1.871 - ETA: 490s - loss: 1.883 - ETA: 487s - loss: 1.884 - ETA: 483s - loss: 1.891 - ETA: 479s - loss: 1.894 - ETA: 474s - loss: 1.905 - ETA: 470s - loss: 1.909 - ETA: 465s - loss: 1.912 - ETA: 461s - loss: 1.905 - ETA: 457s - loss: 1.903 - ETA: 452s - loss: 1.916 - ETA: 448s - loss: 1.906 - ETA: 443s - loss: 1.907 - ETA: 439s - loss: 1.909 - ETA: 435s - loss: 1.909 - ETA: 430s - loss: 1.908 - ETA: 426s - loss: 1.909 - ETA: 422s - loss: 1.907 - ETA: 418s - loss: 1.907 - ETA: 413s - loss: 1.913 - ETA: 409s - loss: 1.915 - ETA: 405s - loss: 1.914 - ETA: 400s - loss: 1.912 - ETA: 396s - loss: 1.922 - ETA: 392s - loss: 1.929 - ETA: 388s - loss: 1.931 - ETA: 383s - loss: 1.924 - ETA: 379s - loss: 1.924 - ETA: 375s - loss: 1.919 - ETA: 371s - loss: 1.915 - ETA: 366s - loss: 1.914 - ETA: 362s - loss: 1.920 - ETA: 358s - loss: 1.923 - ETA: 353s - loss: 1.927 - ETA: 349s - loss: 1.931 - ETA: 345s - loss: 1.926 - ETA: 341s - loss: 1.927 - ETA: 337s - loss: 1.924 - ETA: 332s - loss: 1.923 - ETA: 328s - loss: 1.935 - ETA: 324s - loss: 1.944 - ETA: 320s - loss: 1.948 - ETA: 316s - loss: 1.950 - ETA: 311s - loss: 1.958 - ETA: 307s - loss: 1.958 - ETA: 303s - loss: 1.958 - ETA: 298s - loss: 1.962 - ETA: 294s - loss: 1.960 - ETA: 290s - loss: 1.954 - ETA: 286s - loss: 1.957 - ETA: 282s - loss: 1.955 - ETA: 277s - loss: 1.955 - ETA: 273s - loss: 1.951 - ETA: 269s - loss: 1.950 - ETA: 265s - loss: 1.953 - ETA: 260s - loss: 1.950 - ETA: 256s - loss: 1.951 - ETA: 252s - loss: 1.952 - ETA: 248s - loss: 1.953 - ETA: 244s - loss: 1.953 - ETA: 239s - loss: 1.957 - ETA: 235s - loss: 1.956 - ETA: 231s - loss: 1.958 - ETA: 227s - loss: 1.959 - ETA: 223s - loss: 1.959 - ETA: 218s - loss: 1.959 - ETA: 214s - loss: 1.960 - ETA: 210s - loss: 1.959 - ETA: 206s - loss: 1.959 - ETA: 201s - loss: 1.956 - ETA: 197s - loss: 1.957 - ETA: 193s - loss: 1.956 - ETA: 189s - loss: 1.954 - ETA: 185s - loss: 1.955 - ETA: 180s - loss: 1.953 - ETA: 176s - loss: 1.954 - ETA: 172s - loss: 1.954 - ETA: 168s - loss: 1.956 - ETA: 163s - loss: 1.956 - ETA: 159s - loss: 1.958 - ETA: 155s - loss: 1.962 - ETA: 151s - loss: 1.964 - ETA: 147s - loss: 1.964 - ETA: 142s - loss: 1.963 - ETA: 138s - loss: 1.964 - ETA: 134s - loss: 1.964 - ETA: 130s - loss: 1.964 - ETA: 126s - loss: 1.968 - ETA: 121s - loss: 1.966 - ETA: 117s - loss: 1.967 - ETA: 113s - loss: 1.968 - ETA: 109s - loss: 1.968 - ETA: 104s - loss: 1.970 - ETA: 100s - loss: 1.971 - ETA: 96s - loss: 1.970 - ETA: 92s - loss: 1.96 - ETA: 87s - loss: 1.96 - ETA: 83s - loss: 1.96 - ETA: 79s - loss: 1.96 - ETA: 75s - loss: 1.96 - ETA: 71s - loss: 1.96 - ETA: 66s - loss: 1.96 - ETA: 62s - loss: 1.97 - ETA: 58s - loss: 1.97 - ETA: 54s - loss: 1.97 - ETA: 49s - loss: 1.97 - ETA: 45s - loss: 1.97 - ETA: 41s - loss: 1.97 - ETA: 37s - loss: 1.97 - ETA: 32s - loss: 1.97 - ETA: 28s - loss: 1.97 - ETA: 24s - loss: 1.97 - ETA: 20s - loss: 1.97 - ETA: 16s - loss: 1.97 - ETA: 11s - loss: 1.96 - ETA: 7s - loss: 1.9693 - ETA: 3s - loss: 1.970 - 536s - loss: 1.9713   \n",
      "Epoch 17/100\n"
     ]
    },
    {
     "name": "stdout",
     "output_type": "stream",
     "text": [
      "8115/8115 [==============================] - ETA: 530s - loss: 1.710 - ETA: 529s - loss: 1.716 - ETA: 521s - loss: 1.811 - ETA: 517s - loss: 1.883 - ETA: 516s - loss: 1.899 - ETA: 512s - loss: 2.007 - ETA: 508s - loss: 1.971 - ETA: 503s - loss: 1.965 - ETA: 499s - loss: 1.946 - ETA: 496s - loss: 1.915 - ETA: 491s - loss: 1.918 - ETA: 487s - loss: 1.902 - ETA: 482s - loss: 1.911 - ETA: 478s - loss: 1.893 - ETA: 473s - loss: 1.904 - ETA: 469s - loss: 1.913 - ETA: 464s - loss: 1.919 - ETA: 459s - loss: 1.893 - ETA: 455s - loss: 1.885 - ETA: 451s - loss: 1.886 - ETA: 447s - loss: 1.885 - ETA: 442s - loss: 1.873 - ETA: 438s - loss: 1.876 - ETA: 434s - loss: 1.870 - ETA: 430s - loss: 1.853 - ETA: 425s - loss: 1.846 - ETA: 421s - loss: 1.843 - ETA: 417s - loss: 1.840 - ETA: 413s - loss: 1.837 - ETA: 408s - loss: 1.833 - ETA: 404s - loss: 1.837 - ETA: 399s - loss: 1.837 - ETA: 395s - loss: 1.832 - ETA: 391s - loss: 1.827 - ETA: 387s - loss: 1.822 - ETA: 383s - loss: 1.822 - ETA: 378s - loss: 1.817 - ETA: 374s - loss: 1.815 - ETA: 370s - loss: 1.815 - ETA: 366s - loss: 1.811 - ETA: 362s - loss: 1.804 - ETA: 358s - loss: 1.798 - ETA: 353s - loss: 1.788 - ETA: 349s - loss: 1.787 - ETA: 345s - loss: 1.797 - ETA: 341s - loss: 1.808 - ETA: 336s - loss: 1.810 - ETA: 332s - loss: 1.809 - ETA: 328s - loss: 1.811 - ETA: 324s - loss: 1.818 - ETA: 319s - loss: 1.811 - ETA: 315s - loss: 1.814 - ETA: 311s - loss: 1.818 - ETA: 307s - loss: 1.821 - ETA: 302s - loss: 1.826 - ETA: 298s - loss: 1.827 - ETA: 294s - loss: 1.821 - ETA: 290s - loss: 1.817 - ETA: 286s - loss: 1.820 - ETA: 282s - loss: 1.820 - ETA: 278s - loss: 1.819 - ETA: 273s - loss: 1.820 - ETA: 269s - loss: 1.825 - ETA: 265s - loss: 1.822 - ETA: 261s - loss: 1.820 - ETA: 256s - loss: 1.817 - ETA: 252s - loss: 1.820 - ETA: 248s - loss: 1.821 - ETA: 244s - loss: 1.823 - ETA: 240s - loss: 1.827 - ETA: 236s - loss: 1.830 - ETA: 231s - loss: 1.832 - ETA: 227s - loss: 1.833 - ETA: 223s - loss: 1.834 - ETA: 219s - loss: 1.836 - ETA: 214s - loss: 1.838 - ETA: 210s - loss: 1.836 - ETA: 206s - loss: 1.833 - ETA: 202s - loss: 1.831 - ETA: 198s - loss: 1.833 - ETA: 193s - loss: 1.833 - ETA: 189s - loss: 1.834 - ETA: 185s - loss: 1.834 - ETA: 181s - loss: 1.833 - ETA: 176s - loss: 1.833 - ETA: 172s - loss: 1.833 - ETA: 168s - loss: 1.834 - ETA: 164s - loss: 1.836 - ETA: 159s - loss: 1.841 - ETA: 155s - loss: 1.844 - ETA: 151s - loss: 1.842 - ETA: 147s - loss: 1.843 - ETA: 142s - loss: 1.843 - ETA: 138s - loss: 1.843 - ETA: 134s - loss: 1.843 - ETA: 130s - loss: 1.845 - ETA: 126s - loss: 1.849 - ETA: 121s - loss: 1.850 - ETA: 117s - loss: 1.850 - ETA: 113s - loss: 1.849 - ETA: 109s - loss: 1.851 - ETA: 104s - loss: 1.851 - ETA: 100s - loss: 1.850 - ETA: 96s - loss: 1.847 - ETA: 92s - loss: 1.84 - ETA: 87s - loss: 1.84 - ETA: 83s - loss: 1.85 - ETA: 79s - loss: 1.85 - ETA: 75s - loss: 1.85 - ETA: 71s - loss: 1.85 - ETA: 66s - loss: 1.85 - ETA: 62s - loss: 1.85 - ETA: 58s - loss: 1.85 - ETA: 54s - loss: 1.85 - ETA: 49s - loss: 1.85 - ETA: 45s - loss: 1.85 - ETA: 41s - loss: 1.85 - ETA: 37s - loss: 1.85 - ETA: 32s - loss: 1.85 - ETA: 28s - loss: 1.85 - ETA: 24s - loss: 1.85 - ETA: 20s - loss: 1.85 - ETA: 16s - loss: 1.85 - ETA: 11s - loss: 1.85 - ETA: 7s - loss: 1.8586 - ETA: 3s - loss: 1.859 - 536s - loss: 1.8604   \n",
      "Epoch 18/100\n",
      "8115/8115 [==============================] - ETA: 527s - loss: 1.864 - ETA: 524s - loss: 1.784 - ETA: 518s - loss: 1.781 - ETA: 514s - loss: 1.723 - ETA: 513s - loss: 1.698 - ETA: 507s - loss: 1.688 - ETA: 502s - loss: 1.673 - ETA: 498s - loss: 1.693 - ETA: 494s - loss: 1.693 - ETA: 490s - loss: 1.672 - ETA: 486s - loss: 1.672 - ETA: 482s - loss: 1.675 - ETA: 478s - loss: 1.670 - ETA: 474s - loss: 1.680 - ETA: 470s - loss: 1.688 - ETA: 466s - loss: 1.693 - ETA: 461s - loss: 1.698 - ETA: 457s - loss: 1.684 - ETA: 453s - loss: 1.671 - ETA: 449s - loss: 1.674 - ETA: 445s - loss: 1.672 - ETA: 440s - loss: 1.669 - ETA: 436s - loss: 1.666 - ETA: 433s - loss: 1.674 - ETA: 429s - loss: 1.672 - ETA: 425s - loss: 1.673 - ETA: 421s - loss: 1.671 - ETA: 416s - loss: 1.679 - ETA: 413s - loss: 1.676 - ETA: 409s - loss: 1.682 - ETA: 405s - loss: 1.709 - ETA: 400s - loss: 1.712 - ETA: 396s - loss: 1.715 - ETA: 392s - loss: 1.714 - ETA: 388s - loss: 1.711 - ETA: 384s - loss: 1.715 - ETA: 380s - loss: 1.720 - ETA: 375s - loss: 1.716 - ETA: 371s - loss: 1.713 - ETA: 367s - loss: 1.713 - ETA: 363s - loss: 1.708 - ETA: 359s - loss: 1.711 - ETA: 354s - loss: 1.711 - ETA: 350s - loss: 1.712 - ETA: 346s - loss: 1.712 - ETA: 342s - loss: 1.714 - ETA: 338s - loss: 1.714 - ETA: 333s - loss: 1.716 - ETA: 329s - loss: 1.722 - ETA: 325s - loss: 1.717 - ETA: 321s - loss: 1.719 - ETA: 317s - loss: 1.715 - ETA: 312s - loss: 1.717 - ETA: 308s - loss: 1.720 - ETA: 304s - loss: 1.721 - ETA: 300s - loss: 1.719 - ETA: 296s - loss: 1.720 - ETA: 292s - loss: 1.723 - ETA: 288s - loss: 1.724 - ETA: 283s - loss: 1.733 - ETA: 279s - loss: 1.729 - ETA: 275s - loss: 1.726 - ETA: 271s - loss: 1.729 - ETA: 266s - loss: 1.725 - ETA: 262s - loss: 1.725 - ETA: 258s - loss: 1.724 - ETA: 253s - loss: 1.722 - ETA: 249s - loss: 1.726 - ETA: 245s - loss: 1.727 - ETA: 241s - loss: 1.724 - ETA: 236s - loss: 1.724 - ETA: 232s - loss: 1.723 - ETA: 228s - loss: 1.723 - ETA: 224s - loss: 1.723 - ETA: 219s - loss: 1.724 - ETA: 215s - loss: 1.730 - ETA: 211s - loss: 1.726 - ETA: 207s - loss: 1.724 - ETA: 202s - loss: 1.723 - ETA: 198s - loss: 1.726 - ETA: 194s - loss: 1.727 - ETA: 190s - loss: 1.727 - ETA: 185s - loss: 1.729 - ETA: 181s - loss: 1.730 - ETA: 177s - loss: 1.730 - ETA: 173s - loss: 1.730 - ETA: 168s - loss: 1.734 - ETA: 164s - loss: 1.738 - ETA: 160s - loss: 1.737 - ETA: 156s - loss: 1.735 - ETA: 151s - loss: 1.734 - ETA: 147s - loss: 1.736 - ETA: 143s - loss: 1.734 - ETA: 139s - loss: 1.731 - ETA: 134s - loss: 1.732 - ETA: 130s - loss: 1.731 - ETA: 126s - loss: 1.732 - ETA: 122s - loss: 1.731 - ETA: 117s - loss: 1.729 - ETA: 113s - loss: 1.728 - ETA: 109s - loss: 1.731 - ETA: 105s - loss: 1.730 - ETA: 101s - loss: 1.730 - ETA: 96s - loss: 1.729 - ETA: 92s - loss: 1.73 - ETA: 88s - loss: 1.73 - ETA: 83s - loss: 1.73 - ETA: 79s - loss: 1.73 - ETA: 75s - loss: 1.73 - ETA: 71s - loss: 1.73 - ETA: 67s - loss: 1.73 - ETA: 62s - loss: 1.73 - ETA: 58s - loss: 1.73 - ETA: 54s - loss: 1.73 - ETA: 50s - loss: 1.73 - ETA: 45s - loss: 1.73 - ETA: 41s - loss: 1.73 - ETA: 37s - loss: 1.73 - ETA: 33s - loss: 1.73 - ETA: 28s - loss: 1.73 - ETA: 24s - loss: 1.73 - ETA: 20s - loss: 1.73 - ETA: 16s - loss: 1.73 - ETA: 11s - loss: 1.72 - ETA: 7s - loss: 1.7297 - ETA: 3s - loss: 1.730 - 538s - loss: 1.7296   \n",
      "Epoch 19/100\n",
      "8115/8115 [==============================] - ETA: 546s - loss: 1.496 - ETA: 536s - loss: 1.456 - ETA: 530s - loss: 1.532 - ETA: 526s - loss: 1.487 - ETA: 521s - loss: 1.522 - ETA: 516s - loss: 1.563 - ETA: 511s - loss: 1.532 - ETA: 505s - loss: 1.534 - ETA: 501s - loss: 1.535 - ETA: 495s - loss: 1.540 - ETA: 491s - loss: 1.537 - ETA: 488s - loss: 1.555 - ETA: 483s - loss: 1.581 - ETA: 479s - loss: 1.579 - ETA: 475s - loss: 1.580 - ETA: 471s - loss: 1.576 - ETA: 466s - loss: 1.577 - ETA: 462s - loss: 1.573 - ETA: 458s - loss: 1.593 - ETA: 454s - loss: 1.595 - ETA: 450s - loss: 1.593 - ETA: 445s - loss: 1.606 - ETA: 441s - loss: 1.612 - ETA: 437s - loss: 1.621 - ETA: 432s - loss: 1.629 - ETA: 429s - loss: 1.627 - ETA: 424s - loss: 1.621 - ETA: 420s - loss: 1.628 - ETA: 415s - loss: 1.625 - ETA: 411s - loss: 1.622 - ETA: 407s - loss: 1.618 - ETA: 402s - loss: 1.616 - ETA: 398s - loss: 1.610 - ETA: 394s - loss: 1.615 - ETA: 390s - loss: 1.610 - ETA: 385s - loss: 1.613 - ETA: 381s - loss: 1.619 - ETA: 377s - loss: 1.614 - ETA: 372s - loss: 1.609 - ETA: 368s - loss: 1.606 - ETA: 364s - loss: 1.604 - ETA: 360s - loss: 1.605 - ETA: 355s - loss: 1.605 - ETA: 351s - loss: 1.606 - ETA: 347s - loss: 1.604 - ETA: 343s - loss: 1.601 - ETA: 338s - loss: 1.595 - ETA: 334s - loss: 1.596 - ETA: 330s - loss: 1.597 - ETA: 326s - loss: 1.596 - ETA: 321s - loss: 1.595 - ETA: 317s - loss: 1.596 - ETA: 313s - loss: 1.596 - ETA: 309s - loss: 1.591 - ETA: 304s - loss: 1.594 - ETA: 300s - loss: 1.599 - ETA: 296s - loss: 1.602 - ETA: 291s - loss: 1.603 - ETA: 287s - loss: 1.603 - ETA: 283s - loss: 1.599 - ETA: 279s - loss: 1.596 - ETA: 274s - loss: 1.599 - ETA: 270s - loss: 1.593 - ETA: 266s - loss: 1.596 - ETA: 261s - loss: 1.595 - ETA: 257s - loss: 1.594 - ETA: 253s - loss: 1.594 - ETA: 249s - loss: 1.594 - ETA: 245s - loss: 1.596 - ETA: 240s - loss: 1.600 - ETA: 236s - loss: 1.601 - ETA: 232s - loss: 1.603 - ETA: 228s - loss: 1.607 - ETA: 224s - loss: 1.604 - ETA: 219s - loss: 1.602 - ETA: 215s - loss: 1.605 - ETA: 211s - loss: 1.610 - ETA: 206s - loss: 1.613 - ETA: 202s - loss: 1.615 - ETA: 198s - loss: 1.617 - ETA: 194s - loss: 1.618 - ETA: 190s - loss: 1.616 - ETA: 185s - loss: 1.616 - ETA: 181s - loss: 1.616 - ETA: 177s - loss: 1.616 - ETA: 173s - loss: 1.615 - ETA: 168s - loss: 1.613 - ETA: 164s - loss: 1.613 - ETA: 160s - loss: 1.615 - ETA: 156s - loss: 1.616 - ETA: 151s - loss: 1.615 - ETA: 147s - loss: 1.613 - ETA: 143s - loss: 1.616 - ETA: 139s - loss: 1.614 - ETA: 134s - loss: 1.612 - ETA: 130s - loss: 1.610 - ETA: 126s - loss: 1.609 - ETA: 122s - loss: 1.608 - ETA: 118s - loss: 1.608 - ETA: 113s - loss: 1.606 - ETA: 109s - loss: 1.607 - ETA: 105s - loss: 1.611 - ETA: 101s - loss: 1.611 - ETA: 96s - loss: 1.612 - ETA: 92s - loss: 1.61 - ETA: 88s - loss: 1.60 - ETA: 84s - loss: 1.60 - ETA: 79s - loss: 1.60 - ETA: 75s - loss: 1.60 - ETA: 71s - loss: 1.60 - ETA: 67s - loss: 1.61 - ETA: 62s - loss: 1.60 - ETA: 58s - loss: 1.61 - ETA: 54s - loss: 1.61 - ETA: 50s - loss: 1.61 - ETA: 45s - loss: 1.61 - ETA: 41s - loss: 1.61 - ETA: 37s - loss: 1.61 - ETA: 33s - loss: 1.61 - ETA: 28s - loss: 1.61 - ETA: 24s - loss: 1.61 - ETA: 20s - loss: 1.61 - ETA: 16s - loss: 1.61 - ETA: 11s - loss: 1.61 - ETA: 7s - loss: 1.6146 - ETA: 3s - loss: 1.616 - 538s - loss: 1.6160   \n",
      "Epoch 20/100\n",
      "6336/8115 [======================>.......] - ETA: 534s - loss: 1.367 - ETA: 528s - loss: 1.297 - ETA: 521s - loss: 1.348 - ETA: 517s - loss: 1.391 - ETA: 515s - loss: 1.358 - ETA: 510s - loss: 1.396 - ETA: 506s - loss: 1.413 - ETA: 502s - loss: 1.415 - ETA: 497s - loss: 1.404 - ETA: 493s - loss: 1.402 - ETA: 489s - loss: 1.400 - ETA: 486s - loss: 1.392 - ETA: 481s - loss: 1.414 - ETA: 477s - loss: 1.419 - ETA: 473s - loss: 1.405 - ETA: 469s - loss: 1.405 - ETA: 464s - loss: 1.407 - ETA: 460s - loss: 1.407 - ETA: 456s - loss: 1.407 - ETA: 452s - loss: 1.412 - ETA: 448s - loss: 1.413 - ETA: 443s - loss: 1.410 - ETA: 439s - loss: 1.403 - ETA: 435s - loss: 1.420 - ETA: 430s - loss: 1.433 - ETA: 427s - loss: 1.429 - ETA: 422s - loss: 1.428 - ETA: 418s - loss: 1.429 - ETA: 414s - loss: 1.433 - ETA: 410s - loss: 1.428 - ETA: 405s - loss: 1.432 - ETA: 401s - loss: 1.434 - ETA: 397s - loss: 1.428 - ETA: 392s - loss: 1.434 - ETA: 388s - loss: 1.438 - ETA: 384s - loss: 1.438 - ETA: 379s - loss: 1.436 - ETA: 375s - loss: 1.436 - ETA: 371s - loss: 1.436 - ETA: 367s - loss: 1.447 - ETA: 363s - loss: 1.445 - ETA: 358s - loss: 1.442 - ETA: 354s - loss: 1.445 - ETA: 350s - loss: 1.446 - ETA: 346s - loss: 1.448 - ETA: 341s - loss: 1.447 - ETA: 337s - loss: 1.449 - ETA: 333s - loss: 1.453 - ETA: 329s - loss: 1.455 - ETA: 324s - loss: 1.457 - ETA: 320s - loss: 1.449 - ETA: 316s - loss: 1.448 - ETA: 312s - loss: 1.451 - ETA: 308s - loss: 1.451 - ETA: 303s - loss: 1.452 - ETA: 299s - loss: 1.451 - ETA: 295s - loss: 1.456 - ETA: 291s - loss: 1.453 - ETA: 286s - loss: 1.450 - ETA: 282s - loss: 1.449 - ETA: 278s - loss: 1.454 - ETA: 274s - loss: 1.454 - ETA: 269s - loss: 1.453 - ETA: 265s - loss: 1.453 - ETA: 261s - loss: 1.451 - ETA: 257s - loss: 1.452 - ETA: 252s - loss: 1.451 - ETA: 248s - loss: 1.450 - ETA: 244s - loss: 1.451 - ETA: 240s - loss: 1.453 - ETA: 235s - loss: 1.452 - ETA: 231s - loss: 1.453 - ETA: 227s - loss: 1.455 - ETA: 223s - loss: 1.454 - ETA: 218s - loss: 1.454 - ETA: 214s - loss: 1.452 - ETA: 210s - loss: 1.453 - ETA: 206s - loss: 1.458 - ETA: 202s - loss: 1.459 - ETA: 197s - loss: 1.458 - ETA: 193s - loss: 1.459 - ETA: 189s - loss: 1.461 - ETA: 185s - loss: 1.465 - ETA: 180s - loss: 1.467 - ETA: 176s - loss: 1.467 - ETA: 172s - loss: 1.473 - ETA: 168s - loss: 1.474 - ETA: 164s - loss: 1.475 - ETA: 160s - loss: 1.475 - ETA: 155s - loss: 1.474 - ETA: 151s - loss: 1.476 - ETA: 147s - loss: 1.477 - ETA: 143s - loss: 1.482 - ETA: 139s - loss: 1.484 - ETA: 134s - loss: 1.486 - ETA: 130s - loss: 1.486 - ETA: 126s - loss: 1.486 - ETA: 122s - loss: 1.486 - ETA: 118s - loss: 1.4864"
     ]
    },
    {
     "ename": "KeyboardInterrupt",
     "evalue": "",
     "output_type": "error",
     "traceback": [
      "\u001b[0;31m---------------------------------------------------------------------------\u001b[0m",
      "\u001b[0;31mKeyboardInterrupt\u001b[0m                         Traceback (most recent call last)",
      "\u001b[0;32m<ipython-input-18-1c8070552750>\u001b[0m in \u001b[0;36m<module>\u001b[0;34m()\u001b[0m\n\u001b[1;32m      7\u001b[0m )    \n\u001b[1;32m      8\u001b[0m \u001b[0mcallbacks_list\u001b[0m \u001b[1;33m=\u001b[0m \u001b[1;33m[\u001b[0m\u001b[0mcheckpoint\u001b[0m\u001b[1;33m]\u001b[0m\u001b[1;33m\u001b[0m\u001b[0m\n\u001b[0;32m----> 9\u001b[0;31m \u001b[0mmodel\u001b[0m\u001b[1;33m.\u001b[0m\u001b[0mfit\u001b[0m\u001b[1;33m(\u001b[0m\u001b[0mnetwork_input\u001b[0m\u001b[1;33m,\u001b[0m \u001b[0mnetwork_output\u001b[0m\u001b[1;33m,\u001b[0m \u001b[0mepochs\u001b[0m\u001b[1;33m=\u001b[0m\u001b[1;36m100\u001b[0m\u001b[1;33m,\u001b[0m \u001b[0mbatch_size\u001b[0m\u001b[1;33m=\u001b[0m\u001b[1;36m64\u001b[0m\u001b[1;33m,\u001b[0m \u001b[0mcallbacks\u001b[0m\u001b[1;33m=\u001b[0m\u001b[0mcallbacks_list\u001b[0m\u001b[1;33m)\u001b[0m\u001b[1;33m\u001b[0m\u001b[0m\n\u001b[0m",
      "\u001b[0;32mE:\\dev\\Anaconda3\\lib\\site-packages\\keras\\models.py\u001b[0m in \u001b[0;36mfit\u001b[0;34m(self, x, y, batch_size, epochs, verbose, callbacks, validation_split, validation_data, shuffle, class_weight, sample_weight, initial_epoch, **kwargs)\u001b[0m\n\u001b[1;32m    868\u001b[0m                               \u001b[0mclass_weight\u001b[0m\u001b[1;33m=\u001b[0m\u001b[0mclass_weight\u001b[0m\u001b[1;33m,\u001b[0m\u001b[1;33m\u001b[0m\u001b[0m\n\u001b[1;32m    869\u001b[0m                               \u001b[0msample_weight\u001b[0m\u001b[1;33m=\u001b[0m\u001b[0msample_weight\u001b[0m\u001b[1;33m,\u001b[0m\u001b[1;33m\u001b[0m\u001b[0m\n\u001b[0;32m--> 870\u001b[0;31m                               initial_epoch=initial_epoch)\n\u001b[0m\u001b[1;32m    871\u001b[0m \u001b[1;33m\u001b[0m\u001b[0m\n\u001b[1;32m    872\u001b[0m     def evaluate(self, x, y, batch_size=32, verbose=1,\n",
      "\u001b[0;32mE:\\dev\\Anaconda3\\lib\\site-packages\\keras\\engine\\training.py\u001b[0m in \u001b[0;36mfit\u001b[0;34m(self, x, y, batch_size, epochs, verbose, callbacks, validation_split, validation_data, shuffle, class_weight, sample_weight, initial_epoch, **kwargs)\u001b[0m\n\u001b[1;32m   1505\u001b[0m                               \u001b[0mval_f\u001b[0m\u001b[1;33m=\u001b[0m\u001b[0mval_f\u001b[0m\u001b[1;33m,\u001b[0m \u001b[0mval_ins\u001b[0m\u001b[1;33m=\u001b[0m\u001b[0mval_ins\u001b[0m\u001b[1;33m,\u001b[0m \u001b[0mshuffle\u001b[0m\u001b[1;33m=\u001b[0m\u001b[0mshuffle\u001b[0m\u001b[1;33m,\u001b[0m\u001b[1;33m\u001b[0m\u001b[0m\n\u001b[1;32m   1506\u001b[0m                               \u001b[0mcallback_metrics\u001b[0m\u001b[1;33m=\u001b[0m\u001b[0mcallback_metrics\u001b[0m\u001b[1;33m,\u001b[0m\u001b[1;33m\u001b[0m\u001b[0m\n\u001b[0;32m-> 1507\u001b[0;31m                               initial_epoch=initial_epoch)\n\u001b[0m\u001b[1;32m   1508\u001b[0m \u001b[1;33m\u001b[0m\u001b[0m\n\u001b[1;32m   1509\u001b[0m     \u001b[1;32mdef\u001b[0m \u001b[0mevaluate\u001b[0m\u001b[1;33m(\u001b[0m\u001b[0mself\u001b[0m\u001b[1;33m,\u001b[0m \u001b[0mx\u001b[0m\u001b[1;33m,\u001b[0m \u001b[0my\u001b[0m\u001b[1;33m,\u001b[0m \u001b[0mbatch_size\u001b[0m\u001b[1;33m=\u001b[0m\u001b[1;36m32\u001b[0m\u001b[1;33m,\u001b[0m \u001b[0mverbose\u001b[0m\u001b[1;33m=\u001b[0m\u001b[1;36m1\u001b[0m\u001b[1;33m,\u001b[0m \u001b[0msample_weight\u001b[0m\u001b[1;33m=\u001b[0m\u001b[1;32mNone\u001b[0m\u001b[1;33m)\u001b[0m\u001b[1;33m:\u001b[0m\u001b[1;33m\u001b[0m\u001b[0m\n",
      "\u001b[0;32mE:\\dev\\Anaconda3\\lib\\site-packages\\keras\\engine\\training.py\u001b[0m in \u001b[0;36m_fit_loop\u001b[0;34m(self, f, ins, out_labels, batch_size, epochs, verbose, callbacks, val_f, val_ins, shuffle, callback_metrics, initial_epoch)\u001b[0m\n\u001b[1;32m   1154\u001b[0m                 \u001b[0mbatch_logs\u001b[0m\u001b[1;33m[\u001b[0m\u001b[1;34m'size'\u001b[0m\u001b[1;33m]\u001b[0m \u001b[1;33m=\u001b[0m \u001b[0mlen\u001b[0m\u001b[1;33m(\u001b[0m\u001b[0mbatch_ids\u001b[0m\u001b[1;33m)\u001b[0m\u001b[1;33m\u001b[0m\u001b[0m\n\u001b[1;32m   1155\u001b[0m                 \u001b[0mcallbacks\u001b[0m\u001b[1;33m.\u001b[0m\u001b[0mon_batch_begin\u001b[0m\u001b[1;33m(\u001b[0m\u001b[0mbatch_index\u001b[0m\u001b[1;33m,\u001b[0m \u001b[0mbatch_logs\u001b[0m\u001b[1;33m)\u001b[0m\u001b[1;33m\u001b[0m\u001b[0m\n\u001b[0;32m-> 1156\u001b[0;31m                 \u001b[0mouts\u001b[0m \u001b[1;33m=\u001b[0m \u001b[0mf\u001b[0m\u001b[1;33m(\u001b[0m\u001b[0mins_batch\u001b[0m\u001b[1;33m)\u001b[0m\u001b[1;33m\u001b[0m\u001b[0m\n\u001b[0m\u001b[1;32m   1157\u001b[0m                 \u001b[1;32mif\u001b[0m \u001b[1;32mnot\u001b[0m \u001b[0misinstance\u001b[0m\u001b[1;33m(\u001b[0m\u001b[0mouts\u001b[0m\u001b[1;33m,\u001b[0m \u001b[0mlist\u001b[0m\u001b[1;33m)\u001b[0m\u001b[1;33m:\u001b[0m\u001b[1;33m\u001b[0m\u001b[0m\n\u001b[1;32m   1158\u001b[0m                     \u001b[0mouts\u001b[0m \u001b[1;33m=\u001b[0m \u001b[1;33m[\u001b[0m\u001b[0mouts\u001b[0m\u001b[1;33m]\u001b[0m\u001b[1;33m\u001b[0m\u001b[0m\n",
      "\u001b[0;32mE:\\dev\\Anaconda3\\lib\\site-packages\\keras\\backend\\tensorflow_backend.py\u001b[0m in \u001b[0;36m__call__\u001b[0;34m(self, inputs)\u001b[0m\n\u001b[1;32m   2267\u001b[0m         updated = session.run(self.outputs + [self.updates_op],\n\u001b[1;32m   2268\u001b[0m                               \u001b[0mfeed_dict\u001b[0m\u001b[1;33m=\u001b[0m\u001b[0mfeed_dict\u001b[0m\u001b[1;33m,\u001b[0m\u001b[1;33m\u001b[0m\u001b[0m\n\u001b[0;32m-> 2269\u001b[0;31m                               **self.session_kwargs)\n\u001b[0m\u001b[1;32m   2270\u001b[0m         \u001b[1;32mreturn\u001b[0m \u001b[0mupdated\u001b[0m\u001b[1;33m[\u001b[0m\u001b[1;33m:\u001b[0m\u001b[0mlen\u001b[0m\u001b[1;33m(\u001b[0m\u001b[0mself\u001b[0m\u001b[1;33m.\u001b[0m\u001b[0moutputs\u001b[0m\u001b[1;33m)\u001b[0m\u001b[1;33m]\u001b[0m\u001b[1;33m\u001b[0m\u001b[0m\n\u001b[1;32m   2271\u001b[0m \u001b[1;33m\u001b[0m\u001b[0m\n",
      "\u001b[0;32mE:\\dev\\Anaconda3\\lib\\site-packages\\tensorflow\\python\\client\\session.py\u001b[0m in \u001b[0;36mrun\u001b[0;34m(self, fetches, feed_dict, options, run_metadata)\u001b[0m\n\u001b[1;32m    787\u001b[0m     \u001b[1;32mtry\u001b[0m\u001b[1;33m:\u001b[0m\u001b[1;33m\u001b[0m\u001b[0m\n\u001b[1;32m    788\u001b[0m       result = self._run(None, fetches, feed_dict, options_ptr,\n\u001b[0;32m--> 789\u001b[0;31m                          run_metadata_ptr)\n\u001b[0m\u001b[1;32m    790\u001b[0m       \u001b[1;32mif\u001b[0m \u001b[0mrun_metadata\u001b[0m\u001b[1;33m:\u001b[0m\u001b[1;33m\u001b[0m\u001b[0m\n\u001b[1;32m    791\u001b[0m         \u001b[0mproto_data\u001b[0m \u001b[1;33m=\u001b[0m \u001b[0mtf_session\u001b[0m\u001b[1;33m.\u001b[0m\u001b[0mTF_GetBuffer\u001b[0m\u001b[1;33m(\u001b[0m\u001b[0mrun_metadata_ptr\u001b[0m\u001b[1;33m)\u001b[0m\u001b[1;33m\u001b[0m\u001b[0m\n",
      "\u001b[0;32mE:\\dev\\Anaconda3\\lib\\site-packages\\tensorflow\\python\\client\\session.py\u001b[0m in \u001b[0;36m_run\u001b[0;34m(self, handle, fetches, feed_dict, options, run_metadata)\u001b[0m\n\u001b[1;32m    995\u001b[0m     \u001b[1;32mif\u001b[0m \u001b[0mfinal_fetches\u001b[0m \u001b[1;32mor\u001b[0m \u001b[0mfinal_targets\u001b[0m\u001b[1;33m:\u001b[0m\u001b[1;33m\u001b[0m\u001b[0m\n\u001b[1;32m    996\u001b[0m       results = self._do_run(handle, final_targets, final_fetches,\n\u001b[0;32m--> 997\u001b[0;31m                              feed_dict_string, options, run_metadata)\n\u001b[0m\u001b[1;32m    998\u001b[0m     \u001b[1;32melse\u001b[0m\u001b[1;33m:\u001b[0m\u001b[1;33m\u001b[0m\u001b[0m\n\u001b[1;32m    999\u001b[0m       \u001b[0mresults\u001b[0m \u001b[1;33m=\u001b[0m \u001b[1;33m[\u001b[0m\u001b[1;33m]\u001b[0m\u001b[1;33m\u001b[0m\u001b[0m\n",
      "\u001b[0;32mE:\\dev\\Anaconda3\\lib\\site-packages\\tensorflow\\python\\client\\session.py\u001b[0m in \u001b[0;36m_do_run\u001b[0;34m(self, handle, target_list, fetch_list, feed_dict, options, run_metadata)\u001b[0m\n\u001b[1;32m   1130\u001b[0m     \u001b[1;32mif\u001b[0m \u001b[0mhandle\u001b[0m \u001b[1;32mis\u001b[0m \u001b[1;32mNone\u001b[0m\u001b[1;33m:\u001b[0m\u001b[1;33m\u001b[0m\u001b[0m\n\u001b[1;32m   1131\u001b[0m       return self._do_call(_run_fn, self._session, feed_dict, fetch_list,\n\u001b[0;32m-> 1132\u001b[0;31m                            target_list, options, run_metadata)\n\u001b[0m\u001b[1;32m   1133\u001b[0m     \u001b[1;32melse\u001b[0m\u001b[1;33m:\u001b[0m\u001b[1;33m\u001b[0m\u001b[0m\n\u001b[1;32m   1134\u001b[0m       return self._do_call(_prun_fn, self._session, handle, feed_dict,\n",
      "\u001b[0;32mE:\\dev\\Anaconda3\\lib\\site-packages\\tensorflow\\python\\client\\session.py\u001b[0m in \u001b[0;36m_do_call\u001b[0;34m(self, fn, *args)\u001b[0m\n\u001b[1;32m   1137\u001b[0m   \u001b[1;32mdef\u001b[0m \u001b[0m_do_call\u001b[0m\u001b[1;33m(\u001b[0m\u001b[0mself\u001b[0m\u001b[1;33m,\u001b[0m \u001b[0mfn\u001b[0m\u001b[1;33m,\u001b[0m \u001b[1;33m*\u001b[0m\u001b[0margs\u001b[0m\u001b[1;33m)\u001b[0m\u001b[1;33m:\u001b[0m\u001b[1;33m\u001b[0m\u001b[0m\n\u001b[1;32m   1138\u001b[0m     \u001b[1;32mtry\u001b[0m\u001b[1;33m:\u001b[0m\u001b[1;33m\u001b[0m\u001b[0m\n\u001b[0;32m-> 1139\u001b[0;31m       \u001b[1;32mreturn\u001b[0m \u001b[0mfn\u001b[0m\u001b[1;33m(\u001b[0m\u001b[1;33m*\u001b[0m\u001b[0margs\u001b[0m\u001b[1;33m)\u001b[0m\u001b[1;33m\u001b[0m\u001b[0m\n\u001b[0m\u001b[1;32m   1140\u001b[0m     \u001b[1;32mexcept\u001b[0m \u001b[0merrors\u001b[0m\u001b[1;33m.\u001b[0m\u001b[0mOpError\u001b[0m \u001b[1;32mas\u001b[0m \u001b[0me\u001b[0m\u001b[1;33m:\u001b[0m\u001b[1;33m\u001b[0m\u001b[0m\n\u001b[1;32m   1141\u001b[0m       \u001b[0mmessage\u001b[0m \u001b[1;33m=\u001b[0m \u001b[0mcompat\u001b[0m\u001b[1;33m.\u001b[0m\u001b[0mas_text\u001b[0m\u001b[1;33m(\u001b[0m\u001b[0me\u001b[0m\u001b[1;33m.\u001b[0m\u001b[0mmessage\u001b[0m\u001b[1;33m)\u001b[0m\u001b[1;33m\u001b[0m\u001b[0m\n",
      "\u001b[0;32mE:\\dev\\Anaconda3\\lib\\site-packages\\tensorflow\\python\\client\\session.py\u001b[0m in \u001b[0;36m_run_fn\u001b[0;34m(session, feed_dict, fetch_list, target_list, options, run_metadata)\u001b[0m\n\u001b[1;32m   1119\u001b[0m         return tf_session.TF_Run(session, options,\n\u001b[1;32m   1120\u001b[0m                                  \u001b[0mfeed_dict\u001b[0m\u001b[1;33m,\u001b[0m \u001b[0mfetch_list\u001b[0m\u001b[1;33m,\u001b[0m \u001b[0mtarget_list\u001b[0m\u001b[1;33m,\u001b[0m\u001b[1;33m\u001b[0m\u001b[0m\n\u001b[0;32m-> 1121\u001b[0;31m                                  status, run_metadata)\n\u001b[0m\u001b[1;32m   1122\u001b[0m \u001b[1;33m\u001b[0m\u001b[0m\n\u001b[1;32m   1123\u001b[0m     \u001b[1;32mdef\u001b[0m \u001b[0m_prun_fn\u001b[0m\u001b[1;33m(\u001b[0m\u001b[0msession\u001b[0m\u001b[1;33m,\u001b[0m \u001b[0mhandle\u001b[0m\u001b[1;33m,\u001b[0m \u001b[0mfeed_dict\u001b[0m\u001b[1;33m,\u001b[0m \u001b[0mfetch_list\u001b[0m\u001b[1;33m)\u001b[0m\u001b[1;33m:\u001b[0m\u001b[1;33m\u001b[0m\u001b[0m\n",
      "\u001b[0;31mKeyboardInterrupt\u001b[0m: "
     ]
    }
   ],
   "source": [
    "filepath = \"weights-improvement-{epoch:02d}-{loss:.4f}-bigger.hdf5\"    \n",
    "checkpoint = ModelCheckpoint(\n",
    "    filepath, monitor='loss', \n",
    "    verbose=0,        \n",
    "    save_best_only=True,        \n",
    "    mode='min'\n",
    ")    \n",
    "callbacks_list = [checkpoint]     \n",
    "model.fit(network_input, network_output, epochs=100, batch_size=64, callbacks=callbacks_list)"
   ]
  },
  {
   "cell_type": "code",
   "execution_count": null,
   "metadata": {
    "collapsed": true
   },
   "outputs": [],
   "source": [
    "model.load_weights('weights-improvement-01-4.1039-bigger.hdf5')"
   ]
  },
  {
   "cell_type": "code",
   "execution_count": 19,
   "metadata": {},
   "outputs": [
    {
     "name": "stdout",
     "output_type": "stream",
     "text": [
      "init (100, 1) 100 [ 0.70666667]\n",
      ".................................................."
     ]
    }
   ],
   "source": [
    "start = np.random.randint(0, len(network_input)-1)\n",
    "int_to_note = dict((number, note) for number, note in enumerate(pitchnames))\n",
    "pattern = network_input[start]\n",
    "\n",
    "print('init', pattern.shape, len(pattern), pattern[0])\n",
    "pattern = list(pattern.reshape(-1))\n",
    "prediction_output = []\n",
    "# generate 500 notes\n",
    "for note_index in range(50):\n",
    "    print('.', end ='')\n",
    "    prediction_input = np.reshape(pattern, (1, len(pattern), 1))\n",
    "    prediction_input = prediction_input / float(n_vocab)\n",
    "    prediction = model.predict(prediction_input, verbose=0)\n",
    "    index = np.argmax(prediction)\n",
    "    result = int_to_note[index]\n",
    "    prediction_output.append(result)\n",
    "#     print('>', pattern.shape, len(pattern), index)\n",
    "#     pattern = list(pattern.reshape(-1))\n",
    "    pattern.append(index)\n",
    "    pattern = pattern[1:len(pattern)]"
   ]
  },
  {
   "cell_type": "code",
   "execution_count": 20,
   "metadata": {},
   "outputs": [
    {
     "data": {
      "text/plain": [
       "['1.6',\n",
       " '6.11',\n",
       " '9.1',\n",
       " '9.1',\n",
       " '9.1',\n",
       " '9.1',\n",
       " '9.1',\n",
       " '9.1',\n",
       " '9.1',\n",
       " '9.1',\n",
       " '9.1',\n",
       " '9.1',\n",
       " '9.1',\n",
       " '9.1',\n",
       " '9.1',\n",
       " '9.1',\n",
       " '9.1',\n",
       " '9.1',\n",
       " '9.1',\n",
       " '9.1',\n",
       " '9.1',\n",
       " '9.1',\n",
       " '9.1',\n",
       " '9.1',\n",
       " '9.1',\n",
       " '9.1',\n",
       " '11.4',\n",
       " '11.4',\n",
       " '11.4',\n",
       " '11.4',\n",
       " '11.4',\n",
       " '11.4',\n",
       " '11.4',\n",
       " '11.4',\n",
       " '11.4',\n",
       " '11.4',\n",
       " '11.4',\n",
       " '11.4',\n",
       " '1.5',\n",
       " '1.5',\n",
       " '1.5',\n",
       " '1.5',\n",
       " '1.6',\n",
       " '1.6',\n",
       " '1.6',\n",
       " '1.6',\n",
       " '1.6',\n",
       " '1.6',\n",
       " '6.11',\n",
       " '6.11']"
      ]
     },
     "execution_count": 20,
     "metadata": {},
     "output_type": "execute_result"
    }
   ],
   "source": [
    "prediction_output"
   ]
  },
  {
   "cell_type": "code",
   "execution_count": 30,
   "metadata": {
    "collapsed": true
   },
   "outputs": [],
   "source": [
    "offset = 0\n",
    "output_notes = []\n",
    "# create note and chord objects based on the values generated by the model\n",
    "for pattern in prediction_output:\n",
    "    # pattern is a chord\n",
    "    if ('.' in pattern) or pattern.isdigit():\n",
    "        notes_in_chord = pattern.split('.')\n",
    "        notes = []\n",
    "        for current_note in notes_in_chord:\n",
    "            new_note = note.Note(int(current_note))\n",
    "            new_note.storedInstrument = instrument.Saxophone()\n",
    "            notes.append(new_note)\n",
    "        new_chord = chord.Chord(notes)\n",
    "        new_chord.offset = offset\n",
    "        output_notes.append(new_chord)\n",
    "    # pattern is a note\n",
    "    else:\n",
    "        new_note = note.Note(pattern)\n",
    "        new_note.offset = offset\n",
    "        new_note.storedInstrument = instrument.Saxophone()\n",
    "        output_notes.append(new_note)\n",
    "    # increase offset each iteration so that notes do not stack\n",
    "    offset += 0.5"
   ]
  },
  {
   "cell_type": "code",
   "execution_count": 31,
   "metadata": {},
   "outputs": [
    {
     "data": {
      "text/plain": [
       "'test_output.mid'"
      ]
     },
     "execution_count": 31,
     "metadata": {},
     "output_type": "execute_result"
    }
   ],
   "source": [
    "midi_stream = stream.Stream(output_notes)\n",
    "midi_stream.write('midi', fp='test_output.mid')"
   ]
  },
  {
   "cell_type": "code",
   "execution_count": null,
   "metadata": {
    "collapsed": true
   },
   "outputs": [],
   "source": [
    "midi_stream.play()"
   ]
  },
  {
   "cell_type": "code",
   "execution_count": 32,
   "metadata": {
    "collapsed": true
   },
   "outputs": [],
   "source": [
    "x = midi.realtime.StreamPlayer(midi_stream)\n",
    "x.play()"
   ]
  },
  {
   "cell_type": "code",
   "execution_count": null,
   "metadata": {
    "collapsed": true
   },
   "outputs": [],
   "source": [
    "del x"
   ]
  },
  {
   "cell_type": "code",
   "execution_count": null,
   "metadata": {
    "collapsed": true
   },
   "outputs": [],
   "source": []
  },
  {
   "cell_type": "code",
   "execution_count": null,
   "metadata": {
    "collapsed": true
   },
   "outputs": [],
   "source": []
  }
 ],
 "metadata": {
  "kernelspec": {
   "display_name": "Python 3",
   "language": "python",
   "name": "python3"
  },
  "language_info": {
   "codemirror_mode": {
    "name": "ipython",
    "version": 3
   },
   "file_extension": ".py",
   "mimetype": "text/x-python",
   "name": "python",
   "nbconvert_exporter": "python",
   "pygments_lexer": "ipython3",
   "version": "3.5.3"
  }
 },
 "nbformat": 4,
 "nbformat_minor": 2
}
